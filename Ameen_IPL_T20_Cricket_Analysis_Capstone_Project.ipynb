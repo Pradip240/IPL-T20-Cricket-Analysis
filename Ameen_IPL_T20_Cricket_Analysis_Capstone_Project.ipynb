{
  "nbformat": 4,
  "nbformat_minor": 0,
  "metadata": {
    "colab": {
      "name": "Ameen - IPL T20 Cricket Analysis - Capstone Project.ipynb",
      "provenance": [],
      "collapsed_sections": [],
      "include_colab_link": true
    },
    "kernelspec": {
      "display_name": "Python 3",
      "language": "python",
      "name": "python3"
    },
    "language_info": {
      "codemirror_mode": {
        "name": "ipython",
        "version": 3
      },
      "file_extension": ".py",
      "mimetype": "text/x-python",
      "name": "python",
      "nbconvert_exporter": "python",
      "pygments_lexer": "ipython3",
      "version": "3.6.6"
    }
  },
  "cells": [
    {
      "cell_type": "markdown",
      "metadata": {
        "id": "view-in-github",
        "colab_type": "text"
      },
      "source": [
        "<a href=\"https://colab.research.google.com/github/Pradip240/IPL-T20-Cricket-Analysis/blob/main/Ameen_IPL_T20_Cricket_Analysis_Capstone_Project.ipynb\" target=\"_parent\"><img src=\"https://colab.research.google.com/assets/colab-badge.svg\" alt=\"Open In Colab\"/></a>"
      ]
    },
    {
      "cell_type": "markdown",
      "metadata": {
        "id": "Y06xIdG26kRF"
      },
      "source": [
        "## <b> Indian Premier League(IPL) is a professional Twenty20 cricket league in India contested during March or April and May of every year by eight teams representing eight different cities in India. The league was founded by the Board of Control for Cricket in India(BCCI) in 2008. </b>\n",
        "\n",
        "## <b> Explore and analyze the data to discover results and statistics for different teams playing in IPL. </b>"
      ]
    },
    {
      "cell_type": "markdown",
      "metadata": {
        "id": "AEy1szFyCK0N"
      },
      "source": [
        ""
      ]
    },
    {
      "cell_type": "markdown",
      "metadata": {
        "id": "GGRUj4QA7UHD"
      },
      "source": [
        "##Let's load and explore the dataset"
      ]
    },
    {
      "cell_type": "code",
      "metadata": {
        "id": "koF2-nuq7xr2",
        "colab": {
          "base_uri": "https://localhost:8080/"
        },
        "outputId": "41305538-dd0d-47af-a8ba-36ba7cd33d1b"
      },
      "source": [
        "from google.colab import drive\n",
        "drive.mount('/content/drive')"
      ],
      "execution_count": 1,
      "outputs": [
        {
          "output_type": "stream",
          "text": [
            "Mounted at /content/drive\n"
          ],
          "name": "stdout"
        }
      ]
    },
    {
      "cell_type": "code",
      "metadata": {
        "id": "dByMsuzT8Tnw"
      },
      "source": [
        "#Importing the Numpy & the Pandas libraries.\r\n",
        "import numpy as np\r\n",
        "import pandas as pd"
      ],
      "execution_count": 2,
      "outputs": []
    },
    {
      "cell_type": "code",
      "metadata": {
        "id": "O66ykAqL8LoX"
      },
      "source": [
        "file_path = '/content/drive/MyDrive/AlmaBetter Data Science/1. PYTHON/CAPSTONE PROJECT/IPL Data/'\r\n",
        "ipl_df = pd.read_csv(file_path + 'matches.csv')\r\n",
        "ipl_df1 = pd.read_excel(file_path + 'Players.xlsx')\r\n",
        "ipl_df2 = pd.read_csv(file_path + 'deliveries.csv')\r\n",
        "ipl_df3 = pd.read_csv(file_path + 'teams.csv')\r\n",
        "ipl_df4 = pd.read_csv(file_path + 'most_runs_average_strikerate.csv')\r\n",
        "ipl_df5 = pd.read_csv(file_path + 'teamwise_home_and_away.csv')"
      ],
      "execution_count": 6,
      "outputs": []
    },
    {
      "cell_type": "code",
      "metadata": {
        "colab": {
          "base_uri": "https://localhost:8080/"
        },
        "id": "fEzWVxax8vVO",
        "outputId": "3e8adb72-7289-4ce5-e6f4-a7296cc63143"
      },
      "source": [
        "#Checking the shape multiple datasets\r\n",
        "df_ipl=[ipl_df.shape, ipl_df1.shape, ipl_df2.shape, ipl_df3.shape, ipl_df4.shape, ipl_df5.shape]\r\n",
        "df_ipl\r\n"
      ],
      "execution_count": 9,
      "outputs": [
        {
          "output_type": "execute_result",
          "data": {
            "text/plain": [
              "[(756, 18), (566, 5), (179078, 21), (15, 1), (516, 6), (14, 7)]"
            ]
          },
          "metadata": {
            "tags": []
          },
          "execution_count": 9
        }
      ]
    },
    {
      "cell_type": "code",
      "metadata": {
        "id": "slvrxuY8AZR7"
      },
      "source": [
        "#Checking the first five observations of matches dataset\r\n",
        "matches=ipl_df.head()\r\n",
        "matches"
      ],
      "execution_count": null,
      "outputs": []
    },
    {
      "cell_type": "code",
      "metadata": {
        "id": "VNX0HCh0L1-Y"
      },
      "source": [
        "#Checking the first five observations of players dataset\r\n",
        "players = ipl_df1.head()\r\n",
        "players"
      ],
      "execution_count": null,
      "outputs": []
    },
    {
      "cell_type": "code",
      "metadata": {
        "id": "9dGNnAHhQK36"
      },
      "source": [
        "ipl_df1.info()"
      ],
      "execution_count": null,
      "outputs": []
    },
    {
      "cell_type": "code",
      "metadata": {
        "id": "FYHEOYSxL117"
      },
      "source": [
        "#Checking the first five observations of deliveries dataset\r\n",
        "deliveries = ipl_df2.head()\r\n",
        "deliveries"
      ],
      "execution_count": null,
      "outputs": []
    },
    {
      "cell_type": "code",
      "metadata": {
        "id": "1P8VolLoQZxv"
      },
      "source": [
        "ipl_df2.info()"
      ],
      "execution_count": null,
      "outputs": []
    },
    {
      "cell_type": "code",
      "metadata": {
        "id": "uABcjeRIL1ti"
      },
      "source": [
        "#Checking the first ten observations of teams dataset\r\n",
        "teams = ipl_df3.head(10)\r\n",
        "teams"
      ],
      "execution_count": null,
      "outputs": []
    },
    {
      "cell_type": "code",
      "metadata": {
        "id": "z2uRjgNUQfO2"
      },
      "source": [
        "ipl_df3.info()"
      ],
      "execution_count": null,
      "outputs": []
    },
    {
      "cell_type": "code",
      "metadata": {
        "id": "PfRkbjMEL1lB"
      },
      "source": [
        "#Checking the first ten observations of most_runs_average_strikerate dataset\r\n",
        "most_runs_average_strikerate = ipl_df4.head(10)\r\n",
        "most_runs_average_strikerate"
      ],
      "execution_count": null,
      "outputs": []
    },
    {
      "cell_type": "code",
      "metadata": {
        "id": "kk4uk94RQl_-"
      },
      "source": [
        "ipl_df4.info()"
      ],
      "execution_count": null,
      "outputs": []
    },
    {
      "cell_type": "code",
      "metadata": {
        "id": "7f3W2LVpL1aJ"
      },
      "source": [
        "#Checking the first ten observations of teamwise_home_and_away dataset\r\n",
        "teamwise_home_and_away = ipl_df5.head(10)\r\n",
        "teamwise_home_and_away"
      ],
      "execution_count": null,
      "outputs": []
    },
    {
      "cell_type": "code",
      "metadata": {
        "id": "p9tAaLWDQtBe"
      },
      "source": [
        "ipl_df5.info()"
      ],
      "execution_count": null,
      "outputs": []
    },
    {
      "cell_type": "code",
      "metadata": {
        "id": "qnCpYhOPA_Hn"
      },
      "source": [
        "#Checking the last five observations of matches dataset\r\n",
        "ipl_df.tail()"
      ],
      "execution_count": null,
      "outputs": []
    },
    {
      "cell_type": "code",
      "metadata": {
        "id": "QniW-SPp_6z8"
      },
      "source": [
        "#Checking for the null values in the matches dataset\r\n",
        "ipl_df.isnull()"
      ],
      "execution_count": null,
      "outputs": []
    },
    {
      "cell_type": "code",
      "metadata": {
        "id": "Qj1iIoHz_tDi"
      },
      "source": [
        "#Checking the info of the matches datset\r\n",
        "ipl_df.info()\r\n"
      ],
      "execution_count": null,
      "outputs": []
    },
    {
      "cell_type": "code",
      "metadata": {
        "id": "mfgG7jboaYf8"
      },
      "source": [
        "#suming up together the null values for each column from matches dataset\r\n",
        "ipl_df.isnull().sum()"
      ],
      "execution_count": null,
      "outputs": []
    },
    {
      "cell_type": "code",
      "metadata": {
        "colab": {
          "base_uri": "https://localhost:8080/"
        },
        "id": "QX1n4-e3kBsD",
        "outputId": "292d1eb9-b7f2-48e0-e686-f9707a0c3fe0"
      },
      "source": [
        "#Looking up for the columns in the matches dataset\r\n",
        "ipl_df.columns"
      ],
      "execution_count": 28,
      "outputs": [
        {
          "output_type": "execute_result",
          "data": {
            "text/plain": [
              "Index(['id', 'Season', 'city', 'date', 'team1', 'team2', 'toss_winner',\n",
              "       'toss_decision', 'result', 'dl_applied', 'winner', 'win_by_runs',\n",
              "       'win_by_wickets', 'player_of_match', 'venue', 'umpire1', 'umpire2'],\n",
              "      dtype='object')"
            ]
          },
          "metadata": {
            "tags": []
          },
          "execution_count": 28
        }
      ]
    },
    {
      "cell_type": "code",
      "metadata": {
        "id": "nc_fCxQjmkSU"
      },
      "source": [
        "#Getting the unique values from dates of matches dataset.\r\n",
        "ipl_df['date'].unique()"
      ],
      "execution_count": null,
      "outputs": []
    },
    {
      "cell_type": "markdown",
      "metadata": {
        "id": "_zWndLe1lAJL"
      },
      "source": [
        "# So what can we expect from the multiple IPL datasets?\r\n",
        "##The datasets are:\r\n",
        "###1.matches.csv\r\n",
        "###2.Players.xlsx\r\n",
        "###3.deliveries.csv\r\n",
        "###4.teams.csv\r\n",
        "###5.most_runs_average_strikerate.csv\r\n",
        "###6.teamwise_home_and_away.csv\r\n",
        "\r\n",
        "###In order to understand our data, we can look at each variable and try to understand their meaning and relevance to this problem.\r\n",
        "###The datsets consists of multiple observations & columns. Let's go ahead & get familiar with the columns.\r\n",
        "\r\n",
        "##From matches dataset we have:-\r\n",
        "###*id: Basically the IPL match ID.\r\n",
        "###*Season: The IPL season, which in our dataset if from season 2008 - season 2019\r\n",
        "###*City: The cities where the IPL matches were played.\r\n",
        "###*Date: The date on which the matches were played or held.\r\n",
        "###*Team1 & Team2: The teams participated in the IPL matches since 2008.\r\n",
        "###*Toss_winner: The team that won the toss.\r\n",
        "###*Toss_decision: The decision taken by the toss winning team either to 'Bat' or 'Field' first.\r\n",
        "###*Result: The result column consists of (normal, tie, no result) of the match.\r\n",
        "###Dl_applied: The column consists the numerical values (0 or 1) which indicates whether the Duckworth-Lewis method was applied or not.\r\n",
        "###*Winner: Winner of the respective match.\r\n",
        "###*Win_by_runs: The runs by which the team batting first won.\r\n",
        "###*Win_by_wickets: The wickets by which the team batting second won.\r\n",
        "###*Player_of_the_match: The player who performed exceptionally good in the match.\r\n",
        "###*Venue: The venue where the match was hosted.\r\n",
        "###*Umpire1 & Umpire2: Two on-field umpires during the match.\r\n",
        "###*Umpire3: Basically the third Umpire.\r\n",
        "\r\n",
        "##From the players dataset:-(rows 556, columns 5)\r\n",
        "###*It consists of following columns- player_name, DOB, Batting_skill, Bowling_skill & Country\r\n",
        "\r\n",
        "##From the deliveries dataset:-(rows 179078, columns 21)\r\n",
        "###*It consists of following columns- match_id, inning, batting_team,\tbowling_team,\tover,\tball,\tbatsman,\tnon_striker,\tbowler,\tis_super_over,\twide_runs,\tbye_runs,\tlegbye_runs,\tnoball_runs,\tpenalty_runs,\tbatsman_runs,\textra_runs,\ttotal_runs,\tplayer_dismissed,\tdismissal_kind,\tfielder.\r\n",
        "\r\n",
        "##From teams dataset:- (rows 15, column 1)\r\n",
        "###*Just has the team names in it.\r\n",
        "\r\n",
        "##From most_runs_average_strikerate dataset:- (rows 516, columns 6)\r\n",
        "###*It consists of following columns- batsman, total_runs, out,\tnumberofballs, average, strikerate.\r\n",
        "\r\n",
        "##From teamwise_home_and_away datset:- (rows 14, columns 7)\r\n",
        "###*It consists of following columns- team, home_wins, away_wins, home_matches\taway_matches,\thome_win_percentage,\taway_win_percentage."
      ]
    },
    {
      "cell_type": "markdown",
      "metadata": {
        "id": "LgMpkicOGwqx"
      },
      "source": [
        "##Observations from the dataset:\r\n",
        "##1.The matches dataset has 756 rows and 18 columns.\r\n",
        "##2.The matches dataset hardly has any null values apart from column 'umpire3' which has significant null values. (i.e 637 null values)\r\n",
        "##3.So we can drop the 'umpire3' column from the dataframe and proceed further with the EDA. "
      ]
    },
    {
      "cell_type": "code",
      "metadata": {
        "id": "tkvV_OYpbYR0"
      },
      "source": [
        "#Droping the 'Umpire3' column from the dataset\r\n",
        "ipl_df = ipl_df.drop(columns=['umpire3'], axis=1)"
      ],
      "execution_count": 26,
      "outputs": []
    },
    {
      "cell_type": "code",
      "metadata": {
        "id": "JT3aX2BPenXc"
      },
      "source": [
        "ipl_df.head()"
      ],
      "execution_count": null,
      "outputs": []
    },
    {
      "cell_type": "markdown",
      "metadata": {
        "id": "YbWcg817fU9M"
      },
      "source": [
        "##As our dataset has been cleaned, we can now do the in-depth analysis and visualization."
      ]
    },
    {
      "cell_type": "code",
      "metadata": {
        "id": "xnl_SFvpmX4g"
      },
      "source": [
        ""
      ],
      "execution_count": null,
      "outputs": []
    }
  ]
}