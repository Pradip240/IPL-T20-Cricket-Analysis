{
  "nbformat": 4,
  "nbformat_minor": 0,
  "metadata": {
    "colab": {
      "name": "Ameen - IPL T20 Cricket Analysis - Capstone Project.ipynb",
      "provenance": [],
      "collapsed_sections": [],
      "include_colab_link": true
    },
    "kernelspec": {
      "display_name": "Python 3",
      "language": "python",
      "name": "python3"
    },
    "language_info": {
      "codemirror_mode": {
        "name": "ipython",
        "version": 3
      },
      "file_extension": ".py",
      "mimetype": "text/x-python",
      "name": "python",
      "nbconvert_exporter": "python",
      "pygments_lexer": "ipython3",
      "version": "3.6.6"
    }
  },
  "cells": [
    {
      "cell_type": "markdown",
      "metadata": {
        "id": "view-in-github",
        "colab_type": "text"
      },
      "source": [
        "<a href=\"https://colab.research.google.com/github/Pradip240/IPL-T20-Cricket-Analysis/blob/main/Ameen_IPL_T20_Cricket_Analysis_Capstone_Project.ipynb\" target=\"_parent\"><img src=\"https://colab.research.google.com/assets/colab-badge.svg\" alt=\"Open In Colab\"/></a>"
      ]
    },
    {
      "cell_type": "markdown",
      "metadata": {
        "id": "Y06xIdG26kRF"
      },
      "source": [
        "## <b> Indian Premier League(IPL) is a professional Twenty20 cricket league in India contested during March or April and May of every year by eight teams representing eight different cities in India. The league was founded by the Board of Control for Cricket in India(BCCI) in 2008. </b>\n",
        "\n",
        "## <b> Explore and analyze the data to discover results and statistics for different teams playing in IPL. </b>"
      ]
    },
    {
      "cell_type": "markdown",
      "metadata": {
        "id": "AEy1szFyCK0N"
      },
      "source": [
        ""
      ]
    },
    {
      "cell_type": "markdown",
      "metadata": {
        "id": "GGRUj4QA7UHD"
      },
      "source": [
        "##Let's load and explore the dataset"
      ]
    },
    {
      "cell_type": "code",
      "metadata": {
        "id": "koF2-nuq7xr2",
        "colab": {
          "base_uri": "https://localhost:8080/"
        },
        "outputId": "f54a5984-2023-4593-ea73-66ecc83837f9"
      },
      "source": [
        "from google.colab import drive\n",
        "drive.mount('/content/drive')"
      ],
      "execution_count": null,
      "outputs": [
        {
          "output_type": "stream",
          "text": [
            "Drive already mounted at /content/drive; to attempt to forcibly remount, call drive.mount(\"/content/drive\", force_remount=True).\n"
          ],
          "name": "stdout"
        }
      ]
    },
    {
      "cell_type": "code",
      "metadata": {
        "id": "dByMsuzT8Tnw"
      },
      "source": [
        "#Importing the libraries.\r\n",
        "import numpy as np\r\n",
        "import pandas as pd\r\n",
        "import matplotlib.pyplot as plt\r\n",
        "%matplotlib inline\r\n",
        "import seaborn as sns"
      ],
      "execution_count": null,
      "outputs": []
    },
    {
      "cell_type": "code",
      "metadata": {
        "id": "O66ykAqL8LoX"
      },
      "source": [
        "file_path = '/content/drive/MyDrive/AlmaBetter Data Science/1. PYTHON/CAPSTONE PROJECT/IPL Data/'\r\n",
        "ipl_df = pd.read_csv(file_path + 'matches.csv')\r\n",
        "ipl_df1 = pd.read_excel(file_path + 'Players.xlsx')\r\n",
        "ipl_df2 = pd.read_csv(file_path + 'deliveries.csv')\r\n",
        "ipl_df3 = pd.read_csv(file_path + 'teams.csv')\r\n",
        "ipl_df4 = pd.read_csv(file_path + 'most_runs_average_strikerate.csv')\r\n",
        "ipl_df5 = pd.read_csv(file_path + 'teamwise_home_and_away.csv')"
      ],
      "execution_count": null,
      "outputs": []
    },
    {
      "cell_type": "code",
      "metadata": {
        "colab": {
          "base_uri": "https://localhost:8080/"
        },
        "id": "fEzWVxax8vVO",
        "outputId": "a00b64e6-bc17-4e70-ad7d-49f1b9444865"
      },
      "source": [
        "#Checking the shape multiple datasets\r\n",
        "df_ipl=[ipl_df.shape, ipl_df1.shape, ipl_df2.shape, ipl_df3.shape, ipl_df4.shape, ipl_df5.shape]\r\n",
        "df_ipl\r\n"
      ],
      "execution_count": null,
      "outputs": [
        {
          "output_type": "execute_result",
          "data": {
            "text/plain": [
              "[(756, 18), (566, 5), (179078, 21), (15, 1), (516, 6), (14, 7)]"
            ]
          },
          "metadata": {
            "tags": []
          },
          "execution_count": 7
        }
      ]
    },
    {
      "cell_type": "markdown",
      "metadata": {
        "id": "gCnCbaZDzdsB"
      },
      "source": [
        "# So what can we expect from the multiple IPL datasets?\r\n",
        "##The datasets are:\r\n",
        "###1.matches.csv\r\n",
        "###2.Players.xlsx\r\n",
        "###3.deliveries.csv\r\n",
        "###4.teams.csv\r\n",
        "###5.most_runs_average_strikerate.csv\r\n",
        "###6.teamwise_home_and_away.csv\r\n",
        "\r\n",
        "###In order to understand our data, we can look at each variable and try to understand their meaning and relevance to this problem.\r\n",
        "###The datsets consists of multiple observations & columns. Let's go ahead & get familiar with the columns."
      ]
    },
    {
      "cell_type": "markdown",
      "metadata": {
        "id": "0RB8ICSuSppz"
      },
      "source": [
        "#Cleaning the dataset"
      ]
    },
    {
      "cell_type": "markdown",
      "metadata": {
        "id": "wqsyfdZUzy99"
      },
      "source": [
        "##From matches dataset we have:-\r\n",
        "###**ID:** Basically the IPL match ID.\r\n",
        "###**Season:** The IPL season, which in our dataset if from season 2008 - season 2019\r\n",
        "###**City:**The cities where the IPL matches were played.\r\n",
        "###**Date:** The date on which the matches were played or held.\r\n",
        "###**Team1 & Team2:** The teams participated in the IPL matches since 2008.\r\n",
        "###**Toss_winner:** The team that won the toss.\r\n",
        "###**Toss_decision:** The decision taken by the toss winning team either to 'Bat' or 'Field' first.\r\n",
        "###**Result:** The result column consists of (normal, tie, no result) of the match.\r\n",
        "###**Dl_applied:** The column consists the numerical values (0 or 1) which indicates whether the Duckworth-Lewis method was applied or not.\r\n",
        "###**Winner:** Winner of the respective match.\r\n",
        "###**Win_by_runs:** The runs by which the team batting first won.\r\n",
        "###**Win_by_wickets:** The wickets by which the team batting second won.\r\n",
        "###**Player_of_the_match:** The player who performed exceptionally good in the match.\r\n",
        "###**Venue:** The venue where the match was hosted.\r\n",
        "###**Umpire1 & Umpire2:** Two on-field umpires during the match.\r\n",
        "###**Umpire3:** Basically the third Umpire."
      ]
    },
    {
      "cell_type": "markdown",
      "metadata": {
        "id": "K-PybFhgzYRU"
      },
      "source": [
        "#Matches Dataset"
      ]
    },
    {
      "cell_type": "code",
      "metadata": {
        "id": "slvrxuY8AZR7"
      },
      "source": [
        "#Checking the first five observations of matches dataset\r\n",
        "matches=ipl_df.head()\r\n",
        "matches"
      ],
      "execution_count": null,
      "outputs": []
    },
    {
      "cell_type": "code",
      "metadata": {
        "id": "xaV_YkRl0O2T"
      },
      "source": [
        "ipl_df.info()"
      ],
      "execution_count": null,
      "outputs": []
    },
    {
      "cell_type": "code",
      "metadata": {
        "id": "5GDHuz1DzKVX"
      },
      "source": [
        "#Checking for the null values in the data\r\n",
        "missing_val = ipl_df.isnull()\r\n",
        "missing_val"
      ],
      "execution_count": null,
      "outputs": []
    },
    {
      "cell_type": "code",
      "metadata": {
        "id": "s_fNJZ7fzKNL"
      },
      "source": [
        "#suming up the null values together\r\n",
        "ipl_df.isnull().sum()"
      ],
      "execution_count": null,
      "outputs": []
    },
    {
      "cell_type": "code",
      "metadata": {
        "id": "JgBJSB8FzKEI"
      },
      "source": [
        "#Plotting the heatmap for the missing values in the matches dataset\r\n",
        "plt.figure(figsize=(20,15))\r\n",
        "sns.heatmap(missing_val)"
      ],
      "execution_count": null,
      "outputs": []
    },
    {
      "cell_type": "code",
      "metadata": {
        "id": "9VIC_oWvSDCG"
      },
      "source": [
        "#Filling up the numerical missing values\r\n",
        "filling_na = ipl_df.fillna(ipl_df.mean(axis=0))"
      ],
      "execution_count": null,
      "outputs": []
    },
    {
      "cell_type": "code",
      "metadata": {
        "id": "uTQ81A1pTSzM"
      },
      "source": [
        "filled_val = filling_na.isnull()"
      ],
      "execution_count": null,
      "outputs": []
    },
    {
      "cell_type": "code",
      "metadata": {
        "id": "aXztm2agXqqs"
      },
      "source": [
        "#Plotting the heatmap after filling up the missing numerical values\r\n",
        "plt.figure(figsize=(10,10))\r\n",
        "sns.heatmap(filled_val)"
      ],
      "execution_count": null,
      "outputs": []
    },
    {
      "cell_type": "code",
      "metadata": {
        "id": "omadGTbkT2IT"
      },
      "source": [
        "#Filling up the categorical missing values\r\n",
        "filling_na_cat = ipl_df.fillna(ipl_df.mode().iloc[0])"
      ],
      "execution_count": null,
      "outputs": []
    },
    {
      "cell_type": "code",
      "metadata": {
        "id": "HS8QoCgKUd33"
      },
      "source": [
        "filling_na_cat.isnull().sum()"
      ],
      "execution_count": null,
      "outputs": []
    },
    {
      "cell_type": "code",
      "metadata": {
        "id": "GeyUTYS_YDPT"
      },
      "source": [
        "filled_val1 = filling_na_cat.isnull()"
      ],
      "execution_count": null,
      "outputs": []
    },
    {
      "cell_type": "code",
      "metadata": {
        "id": "3W0DthjvYN5D"
      },
      "source": [
        "#Plotting the heatmap after filling up the missing categorical values\r\n",
        "plt.figure(figsize=(10,10))\r\n",
        "sns.heatmap(filled_val1)"
      ],
      "execution_count": null,
      "outputs": []
    },
    {
      "cell_type": "markdown",
      "metadata": {
        "id": "-qEX6xDWbnwO"
      },
      "source": [
        "#Players Dataset"
      ]
    },
    {
      "cell_type": "markdown",
      "metadata": {
        "id": "mIicsb5e1yei"
      },
      "source": [
        "##From the players dataset:-(rows 556, columns 5)\r\n",
        "###*It consists of following columns- player_name, DOB, Batting_skill, Bowling_skill & Country"
      ]
    },
    {
      "cell_type": "code",
      "metadata": {
        "id": "VNX0HCh0L1-Y"
      },
      "source": [
        "#Checking the first five observations of players dataset\r\n",
        "players = ipl_df1.head()\r\n",
        "players"
      ],
      "execution_count": null,
      "outputs": []
    },
    {
      "cell_type": "code",
      "metadata": {
        "id": "9dGNnAHhQK36"
      },
      "source": [
        "ipl_df1.info()"
      ],
      "execution_count": null,
      "outputs": []
    },
    {
      "cell_type": "code",
      "metadata": {
        "id": "wiSQClbaZh-r"
      },
      "source": [
        "#Suming up all the missing values\r\n",
        "ipl_df1.isnull().sum()\r\n",
        "\r\n",
        "#As we can see all the missing values are categorical"
      ],
      "execution_count": null,
      "outputs": []
    },
    {
      "cell_type": "code",
      "metadata": {
        "id": "YXjCloZHaxDM"
      },
      "source": [
        "show = ipl_df1.isnull()"
      ],
      "execution_count": null,
      "outputs": []
    },
    {
      "cell_type": "code",
      "metadata": {
        "id": "j9ieQqr_aV6u"
      },
      "source": [
        "#Plotting the heatmap for the missing values in the players dataset\r\n",
        "plt.figure(figsize=(10,10))\r\n",
        "sns.heatmap(show)\r\n"
      ],
      "execution_count": null,
      "outputs": []
    },
    {
      "cell_type": "code",
      "metadata": {
        "id": "BXtwg4H2ZpuD"
      },
      "source": [
        "#Filling up the caetgorical missing values\r\n",
        "filling_na_cat1 = ipl_df1.fillna(ipl_df1.mode().iloc[0])"
      ],
      "execution_count": null,
      "outputs": []
    },
    {
      "cell_type": "code",
      "metadata": {
        "id": "YOdGpZ80aMU9"
      },
      "source": [
        "show1 = filling_na_cat1.isnull()"
      ],
      "execution_count": null,
      "outputs": []
    },
    {
      "cell_type": "code",
      "metadata": {
        "id": "ShCoBMPjafPm"
      },
      "source": [
        "#Plotting the heatmap after filling up the missing categorical values\r\n",
        "plt.figure(figsize=(10,10))\r\n",
        "sns.heatmap(show1)"
      ],
      "execution_count": null,
      "outputs": []
    },
    {
      "cell_type": "markdown",
      "metadata": {
        "id": "NBCdmZUvbtGk"
      },
      "source": [
        "#Deliveries Dataset"
      ]
    },
    {
      "cell_type": "markdown",
      "metadata": {
        "id": "Xu1TsGZ216wo"
      },
      "source": [
        "##From the deliveries dataset:-(rows 179078, columns 21)\r\n",
        "###*It consists of following columns- match_id, inning, batting_team,\tbowling_team,\tover,\tball,\tbatsman,\tnon_striker,\tbowler,\tis_super_over,\twide_runs,\tbye_runs,\tlegbye_runs,\tnoball_runs,\tpenalty_runs,\tbatsman_runs,\textra_runs,\ttotal_runs,\tplayer_dismissed,\tdismissal_kind,\tfielder.\r\n",
        "\r\n"
      ]
    },
    {
      "cell_type": "code",
      "metadata": {
        "id": "FYHEOYSxL117"
      },
      "source": [
        "#Checking the first five observations of deliveries dataset\r\n",
        "ipl_df2.head()"
      ],
      "execution_count": null,
      "outputs": []
    },
    {
      "cell_type": "code",
      "metadata": {
        "id": "1P8VolLoQZxv"
      },
      "source": [
        "ipl_df2.info()"
      ],
      "execution_count": null,
      "outputs": []
    },
    {
      "cell_type": "code",
      "metadata": {
        "id": "dyzqxDuvbUPb"
      },
      "source": [
        "#Summing up the null values\r\n",
        "ipl_df2.isnull().sum()"
      ],
      "execution_count": null,
      "outputs": []
    },
    {
      "cell_type": "code",
      "metadata": {
        "id": "drud_HkTcEqq"
      },
      "source": [
        "show2 = ipl_df2.isnull()"
      ],
      "execution_count": null,
      "outputs": []
    },
    {
      "cell_type": "code",
      "metadata": {
        "id": "eJ5rq8QtcC39"
      },
      "source": [
        "#Plotting the heatmap for the missing values in the deliveries dataset\r\n",
        "plt.figure(figsize=(10,10))\r\n",
        "sns.heatmap(show2)"
      ],
      "execution_count": null,
      "outputs": []
    },
    {
      "cell_type": "markdown",
      "metadata": {
        "id": "bXNnT-ZLbzi7"
      },
      "source": [
        "##As seen above the last three columns has significant amount of missing values, so here we can drop those three columns."
      ]
    },
    {
      "cell_type": "code",
      "metadata": {
        "id": "WHzUaKVncB0D"
      },
      "source": [
        "#Dropping the last three columns\r\n",
        "ipl_df2 = ipl_df2.drop(columns =['player_dismissed', 'dismissal_kind', 'fielder'], axis=1)"
      ],
      "execution_count": null,
      "outputs": []
    },
    {
      "cell_type": "code",
      "metadata": {
        "id": "_K8IyGfCeRDq"
      },
      "source": [
        "ipl_df2.head()"
      ],
      "execution_count": null,
      "outputs": []
    },
    {
      "cell_type": "code",
      "metadata": {
        "id": "aShjZJiDe9wD"
      },
      "source": [
        "show3 = ipl_df2.isnull()"
      ],
      "execution_count": null,
      "outputs": []
    },
    {
      "cell_type": "code",
      "metadata": {
        "id": "_CZJf7kreW9s"
      },
      "source": [
        "#Plotting the heatmap after dropping off the missing categorical values\r\n",
        "plt.figure(figsize=(10,10))\r\n",
        "sns.heatmap(show3)"
      ],
      "execution_count": null,
      "outputs": []
    },
    {
      "cell_type": "markdown",
      "metadata": {
        "id": "DjUdMwfQfRq9"
      },
      "source": [
        "#Teams Dataset"
      ]
    },
    {
      "cell_type": "markdown",
      "metadata": {
        "id": "3nZMIbBN2E8f"
      },
      "source": [
        "##From teams dataset:- (rows 15, column 1)\r\n",
        "###*Just has the team names in it."
      ]
    },
    {
      "cell_type": "code",
      "metadata": {
        "id": "uABcjeRIL1ti"
      },
      "source": [
        "#Checking the first ten observations of teams dataset\r\n",
        "ipl_df3.head(10)"
      ],
      "execution_count": null,
      "outputs": []
    },
    {
      "cell_type": "code",
      "metadata": {
        "id": "z2uRjgNUQfO2"
      },
      "source": [
        "ipl_df3.info()"
      ],
      "execution_count": null,
      "outputs": []
    },
    {
      "cell_type": "code",
      "metadata": {
        "colab": {
          "base_uri": "https://localhost:8080/"
        },
        "id": "J2e-afCbfkP0",
        "outputId": "041a75dd-846d-44f5-f188-60ecb753f332"
      },
      "source": [
        "ipl_df3.isnull().sum()"
      ],
      "execution_count": null,
      "outputs": [
        {
          "output_type": "execute_result",
          "data": {
            "text/plain": [
              "team1    0\n",
              "dtype: int64"
            ]
          },
          "metadata": {
            "tags": []
          },
          "execution_count": 43
        }
      ]
    },
    {
      "cell_type": "markdown",
      "metadata": {
        "id": "fCr0AaSiftqF"
      },
      "source": [
        "##Teams dataset has 'zero' null values."
      ]
    },
    {
      "cell_type": "markdown",
      "metadata": {
        "id": "5PQhDTnff560"
      },
      "source": [
        "#Most_runs_average_strikerate Dataset\r\n",
        "\r\n",
        "---\r\n",
        "\r\n"
      ]
    },
    {
      "cell_type": "markdown",
      "metadata": {
        "id": "Y01vkiUk2Ll_"
      },
      "source": [
        "\r\n",
        "##From most_runs_average_strikerate dataset:- (rows 516, columns 6)\r\n",
        "###*It consists of following columns- batsman, total_runs, out,\tnumberofballs, average, strikerate."
      ]
    },
    {
      "cell_type": "code",
      "metadata": {
        "id": "PfRkbjMEL1lB"
      },
      "source": [
        "#Checking the first ten observations of most_runs_average_strikerate dataset\r\n",
        "ipl_df4.head(10)"
      ],
      "execution_count": null,
      "outputs": []
    },
    {
      "cell_type": "code",
      "metadata": {
        "id": "kk4uk94RQl_-"
      },
      "source": [
        "ipl_df4.info()"
      ],
      "execution_count": null,
      "outputs": []
    },
    {
      "cell_type": "code",
      "metadata": {
        "id": "iEaYqFIAgG3Y"
      },
      "source": [
        "ipl_df4.isnull().sum()"
      ],
      "execution_count": null,
      "outputs": []
    },
    {
      "cell_type": "code",
      "metadata": {
        "id": "sA-Zpaz0gUf2"
      },
      "source": [
        "show4 = ipl_df4.isnull()"
      ],
      "execution_count": null,
      "outputs": []
    },
    {
      "cell_type": "code",
      "metadata": {
        "id": "UV-Bt8T3gMa2"
      },
      "source": [
        "#Plotting the heatmap for the missing values in the dataset\r\n",
        "plt.figure(figsize=(10,5))\r\n",
        "sns.heatmap(show4)"
      ],
      "execution_count": null,
      "outputs": []
    },
    {
      "cell_type": "code",
      "metadata": {
        "id": "rK1mSHjegf4m"
      },
      "source": [
        "#Treating the missing numerical values\r\n",
        "filling_num = ipl_df4.fillna(ipl_df4.mean(axis=0))"
      ],
      "execution_count": null,
      "outputs": []
    },
    {
      "cell_type": "code",
      "metadata": {
        "id": "wZUED3uNgfnS"
      },
      "source": [
        "show5 = filling_num.isnull()"
      ],
      "execution_count": null,
      "outputs": []
    },
    {
      "cell_type": "code",
      "metadata": {
        "id": "cWuqGDOXgfad"
      },
      "source": [
        "#Plotting the heatmap for the missing numerical values in the dataset\r\n",
        "plt.figure(figsize=(10,5))\r\n",
        "sns.heatmap(show5)"
      ],
      "execution_count": null,
      "outputs": []
    },
    {
      "cell_type": "markdown",
      "metadata": {
        "id": "lbeqjDzdhOv6"
      },
      "source": [
        "#Teamwise_home_and_away Dataset"
      ]
    },
    {
      "cell_type": "markdown",
      "metadata": {
        "id": "bDfeY3jH2Q-c"
      },
      "source": [
        "##From teamwise_home_and_away datset:- (rows 14, columns 7)\r\n",
        "###*It consists of following columns- team, home_wins, away_wins, home_matches\taway_matches,\thome_win_percentage,\taway_win_percentage."
      ]
    },
    {
      "cell_type": "code",
      "metadata": {
        "id": "7f3W2LVpL1aJ"
      },
      "source": [
        "#Checking the first ten observations of teamwise_home_and_away dataset\r\n",
        "ipl_df5.head(10)\r\n"
      ],
      "execution_count": null,
      "outputs": []
    },
    {
      "cell_type": "code",
      "metadata": {
        "id": "p9tAaLWDQtBe"
      },
      "source": [
        "ipl_df5.info()"
      ],
      "execution_count": null,
      "outputs": []
    },
    {
      "cell_type": "code",
      "metadata": {
        "id": "QX1n4-e3kBsD"
      },
      "source": [
        "ipl_df5.isnull().sum()"
      ],
      "execution_count": null,
      "outputs": []
    },
    {
      "cell_type": "markdown",
      "metadata": {
        "id": "qfSl6YBkhn2F"
      },
      "source": [
        "##The dataset above has no missing values to treat"
      ]
    },
    {
      "cell_type": "markdown",
      "metadata": {
        "id": "YbWcg817fU9M"
      },
      "source": [
        "##As our dataset has been cleaned, we can now do the in-depth analysis and visualization."
      ]
    },
    {
      "cell_type": "code",
      "metadata": {
        "id": "xnl_SFvpmX4g"
      },
      "source": [
        ""
      ],
      "execution_count": null,
      "outputs": []
    }
  ]
}