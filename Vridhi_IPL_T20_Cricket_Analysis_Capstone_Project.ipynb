{
  "nbformat": 4,
  "nbformat_minor": 0,
  "metadata": {
    "kernelspec": {
      "display_name": "Python 3",
      "language": "python",
      "name": "python3"
    },
    "language_info": {
      "codemirror_mode": {
        "name": "ipython",
        "version": 3
      },
      "file_extension": ".py",
      "mimetype": "text/x-python",
      "name": "python",
      "nbconvert_exporter": "python",
      "pygments_lexer": "ipython3",
      "version": "3.6.6"
    },
    "colab": {
      "name": "IPL T20 Cricket Analysis - Capstone Project.ipynb",
      "provenance": [],
      "include_colab_link": true
    }
  },
  "cells": [
    {
      "cell_type": "markdown",
      "metadata": {
        "id": "view-in-github",
        "colab_type": "text"
      },
      "source": [
        "<a href=\"https://colab.research.google.com/github/Pradip240/IPL-T20-Cricket-Analysis/blob/main/Vridhi_IPL_T20_Cricket_Analysis_Capstone_Project.ipynb\" target=\"_parent\"><img src=\"https://colab.research.google.com/assets/colab-badge.svg\" alt=\"Open In Colab\"/></a>"
      ]
    },
    {
      "cell_type": "markdown",
      "metadata": {
        "id": "Y06xIdG26kRF"
      },
      "source": [
        "## <b> Indian Premier League(IPL) is a professional Twenty20 cricket league in India contested during March or April and May of every year by eight teams representing eight different cities in India. The league was founded by the Board of Control for Cricket in India(BCCI) in 2008. </b>\n",
        "\n",
        "## <b> Explore and analyze the data to discover results and statistics for different teams playing in IPL. </b>"
      ]
    },
    {
      "cell_type": "markdown",
      "metadata": {
        "id": "vWVT0_Iw4CV3"
      },
      "source": [
        "So what can we expect from the multiple IPL datasets?\r\n",
        "The datasets are:\r\n",
        "\r\n",
        "1.matches.csv\r\n",
        "\r\n",
        "2.Players.xlsx\r\n",
        "\r\n",
        "3.deliveries.csv\r\n",
        "\r\n",
        "4.teams.csv\r\n",
        "\r\n",
        "5.most_runs_average_strikerate.csv\r\n",
        "\r\n",
        "6.teamwise_home_and_away.csv\r\n",
        "\r\n",
        "In order to understand our data, we can look at each variable and try to understand their meaning and relevance to this problem.\r\n",
        "\r\n",
        "The datsets consists of multiple observations & columns. Let's go ahead & get familiar with the columns.\r\n",
        "\r\n",
        "Cleaning the dataset\r\n",
        "\r\n",
        "From matches dataset we have:-\r\n",
        "\r\n",
        "ID: Basically the IPL match ID.\r\n",
        "\r\n",
        "Season: The IPL season, which in our dataset if from season 2008 - season 2019\r\n",
        "\r\n",
        "City:The cities where the IPL matches were played.\r\n",
        "\r\n",
        "Date: The date on which the matches were played or held.\r\n",
        "\r\n",
        "Team1 & Team2: The teams participated in the IPL matches since 2008.\r\n",
        "\r\n",
        "Toss_winner: The team that won the toss.\r\n",
        "\r\n",
        "Toss_decision: The decision taken by the toss winning team either to 'Bat' or 'Field' first.\r\n",
        "\r\n",
        "Result: The result column consists of (normal, tie, no result) of the match.\r\n",
        "Dl_applied: The column consists the numerical values (0 or 1) which indicates whether the Duckworth-Lewis method was applied or not.\r\n",
        "\r\n",
        "Winner: Winner of the respective match.\r\n",
        "\r\n",
        "Win_by_runs: The runs by which the team batting first won.\r\n",
        "\r\n",
        "Win_by_wickets: The wickets by which the team batting second won.\r\n",
        "\r\n",
        "Player_of_the_match: The player who performed exceptionally good in the match.\r\n",
        "\r\n",
        "Venue: The venue where the match was hosted.\r\n",
        "\r\n",
        "Umpire1 & Umpire2: Two on-field umpires during the match.\r\n",
        "\r\n",
        "Umpire3: Basically the third Umpire.¶ bold text"
      ]
    },
    {
      "cell_type": "code",
      "metadata": {
        "id": "8hv0Yj2z4BtQ"
      },
      "source": [
        ""
      ],
      "execution_count": null,
      "outputs": []
    },
    {
      "cell_type": "code",
      "metadata": {
        "id": "dByMsuzT8Tnw"
      },
      "source": [
        ""
      ],
      "execution_count": null,
      "outputs": []
    }
  ]
}