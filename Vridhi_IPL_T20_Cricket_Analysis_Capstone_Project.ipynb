{
  "nbformat": 4,
  "nbformat_minor": 0,
  "metadata": {
    "kernelspec": {
      "display_name": "Python 3",
      "language": "python",
      "name": "python3"
    },
    "language_info": {
      "codemirror_mode": {
        "name": "ipython",
        "version": 3
      },
      "file_extension": ".py",
      "mimetype": "text/x-python",
      "name": "python",
      "nbconvert_exporter": "python",
      "pygments_lexer": "ipython3",
      "version": "3.6.6"
    },
    "colab": {
      "name": "IPL T20 Cricket Analysis - Capstone Project.ipynb",
      "provenance": [],
      "include_colab_link": true
    }
  },
  "cells": [
    {
      "cell_type": "markdown",
      "metadata": {
        "id": "view-in-github",
        "colab_type": "text"
      },
      "source": [
        "<a href=\"https://colab.research.google.com/github/Pradip240/IPL-T20-Cricket-Analysis/blob/main/Vridhi_IPL_T20_Cricket_Analysis_Capstone_Project.ipynb\" target=\"_parent\"><img src=\"https://colab.research.google.com/assets/colab-badge.svg\" alt=\"Open In Colab\"/></a>"
      ]
    },
    {
      "cell_type": "markdown",
      "metadata": {
        "id": "Y06xIdG26kRF"
      },
      "source": [
        "## <b> Indian Premier League(IPL) is a professional Twenty20 cricket league in India contested during March or April and May of every year by eight teams representing eight different cities in India. The league was founded by the Board of Control for Cricket in India(BCCI) in 2008. </b>\n",
        "\n",
        "## <b> Explore and analyze the data to discover results and statistics for different teams playing in IPL. </b>"
      ]
    },
    {
      "cell_type": "markdown",
      "metadata": {
        "id": "u2NIzZai7GmI"
      },
      "source": [
        "Expectations at the end of the project:\r\n",
        "\r\n",
        "1. The captain of the team performing best\r\n",
        "\r\n",
        "2. No of matches played by a player\r\n",
        "\r\n",
        "3. The player who scored heighest no of boundaries\r\n",
        "\r\n",
        "4. The best opening players\r\n",
        "\r\n",
        "5. Experience of the Player in the perticular team and the past IPL tournament\r\n",
        "\r\n",
        "6. Total number of wickets taken by the bowler in the tornament\r\n",
        "\r\n",
        "7. The average run rate of the player during the entire tournament\r\n",
        "\r\n",
        "8. The best team and there chances to win the tournament\r\n",
        "\r\n",
        "9. The teams that have the chances to enter the semi-finale by analysis of     there players\r\n",
        "\r\n",
        "10. Which venue has the heighest runs history\r\n",
        "\r\n",
        "11. The desired run rate during the second innings\r\n",
        "\r\n",
        "12. The number of wide balls thrown by the bowler\r\n",
        "\r\n",
        "13. The number of No balls thrown by the bowler\r\n",
        "\r\n",
        "14. The chances of toss and hence the extra over.\r\n",
        "\r\n"
      ]
    },
    {
      "cell_type": "code",
      "metadata": {
        "id": "8hv0Yj2z4BtQ"
      },
      "source": [
        ""
      ],
      "execution_count": null,
      "outputs": []
    },
    {
      "cell_type": "code",
      "metadata": {
        "id": "dByMsuzT8Tnw"
      },
      "source": [
        ""
      ],
      "execution_count": null,
      "outputs": []
    }
  ]
}