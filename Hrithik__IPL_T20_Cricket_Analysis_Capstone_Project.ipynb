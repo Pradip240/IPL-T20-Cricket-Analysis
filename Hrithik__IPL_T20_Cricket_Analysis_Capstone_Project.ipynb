{
  "nbformat": 4,
  "nbformat_minor": 0,
  "metadata": {
    "kernelspec": {
      "display_name": "Python 3",
      "language": "python",
      "name": "python3"
    },
    "language_info": {
      "codemirror_mode": {
        "name": "ipython",
        "version": 3
      },
      "file_extension": ".py",
      "mimetype": "text/x-python",
      "name": "python",
      "nbconvert_exporter": "python",
      "pygments_lexer": "ipython3",
      "version": "3.6.6"
    },
    "colab": {
      "name": "Hrithik__IPL T20 Cricket Analysis - Capstone Project.ipynb",
      "provenance": [],
      "collapsed_sections": [],
      "include_colab_link": true
    }
  },
  "cells": [
    {
      "cell_type": "markdown",
      "metadata": {
        "id": "view-in-github",
        "colab_type": "text"
      },
      "source": [
        "<a href=\"https://colab.research.google.com/github/Pradip240/IPL-T20-Cricket-Analysis/blob/main/Hrithik__IPL_T20_Cricket_Analysis_Capstone_Project.ipynb\" target=\"_parent\"><img src=\"https://colab.research.google.com/assets/colab-badge.svg\" alt=\"Open In Colab\"/></a>"
      ]
    },
    {
      "cell_type": "markdown",
      "metadata": {
        "id": "Y06xIdG26kRF"
      },
      "source": [
        "## <b> Indian Premier League(IPL) is a professional Twenty20 cricket league in India contested during March or April and May of every year by eight teams representing eight different cities in India. The league was founded by the Board of Control for Cricket in India(BCCI) in 2008. </b>\n",
        "\n",
        "## <b> Explore and analyze the data to discover results and statistics for different teams playing in IPL. </b>"
      ]
    },
    {
      "cell_type": "code",
      "metadata": {
        "id": "dByMsuzT8Tnw"
      },
      "source": [
        "#import packages\r\n",
        "\r\n",
        "import pandas as pd\r\n",
        "import numpy as np\r\n",
        "from ast import literal_eval\r\n",
        "import matplotlib.pyplot as plt\r\n",
        "import seaborn as sns\r\n",
        "from scipy.stats import norm\r\n",
        "%matplotlib inline"
      ],
      "execution_count": 1,
      "outputs": []
    },
    {
      "cell_type": "code",
      "metadata": {
        "colab": {
          "base_uri": "https://localhost:8080/"
        },
        "id": "dtj3u-bqdC7J",
        "outputId": "1e6f2a33-b4a4-4f93-ad12-2aa7f86cbea9"
      },
      "source": [
        "from google.colab import drive\n",
        "drive.mount('/content/drive')"
      ],
      "execution_count": 2,
      "outputs": [
        {
          "output_type": "stream",
          "text": [
            "Mounted at /content/drive\n"
          ],
          "name": "stdout"
        }
      ]
    },
    {
      "cell_type": "code",
      "metadata": {
        "id": "Uj_7dDBldFuW"
      },
      "source": [
        "working_dir_path = '/content/drive/MyDrive/Alma Better Cohort Nilgiri/Capstone Project/Exploratory Data Analysis Capstone Project/IPL T20 Cricket Analysis/IPL Data/teamwise_home_and_away.csv'\r\n",
        "teamwise_home_and_away_df = pd.read_csv(working_dir_path)"
      ],
      "execution_count": 3,
      "outputs": []
    },
    {
      "cell_type": "code",
      "metadata": {
        "colab": {
          "base_uri": "https://localhost:8080/"
        },
        "id": "eOkTp_OKgb_p",
        "outputId": "5456c86b-30e1-4258-af57-f59b425f54ee"
      },
      "source": [
        "teamwise_home_and_away_df.info()"
      ],
      "execution_count": 4,
      "outputs": [
        {
          "output_type": "stream",
          "text": [
            "<class 'pandas.core.frame.DataFrame'>\n",
            "RangeIndex: 14 entries, 0 to 13\n",
            "Data columns (total 7 columns):\n",
            " #   Column               Non-Null Count  Dtype  \n",
            "---  ------               --------------  -----  \n",
            " 0   team                 14 non-null     object \n",
            " 1   home_wins            14 non-null     int64  \n",
            " 2   away_wins            14 non-null     int64  \n",
            " 3   home_matches         14 non-null     int64  \n",
            " 4   away_matches         14 non-null     int64  \n",
            " 5   home_win_percentage  14 non-null     float64\n",
            " 6   away_win_percentage  14 non-null     float64\n",
            "dtypes: float64(2), int64(4), object(1)\n",
            "memory usage: 912.0+ bytes\n"
          ],
          "name": "stdout"
        }
      ]
    },
    {
      "cell_type": "code",
      "metadata": {
        "colab": {
          "base_uri": "https://localhost:8080/",
          "height": 284
        },
        "id": "HYifqeY_hPKD",
        "outputId": "00c2f615-c2f2-43e2-a7db-75ea7f14207d"
      },
      "source": [
        "teamwise_home_and_away_df.describe()"
      ],
      "execution_count": 5,
      "outputs": [
        {
          "output_type": "execute_result",
          "data": {
            "text/html": [
              "<div>\n",
              "<style scoped>\n",
              "    .dataframe tbody tr th:only-of-type {\n",
              "        vertical-align: middle;\n",
              "    }\n",
              "\n",
              "    .dataframe tbody tr th {\n",
              "        vertical-align: top;\n",
              "    }\n",
              "\n",
              "    .dataframe thead th {\n",
              "        text-align: right;\n",
              "    }\n",
              "</style>\n",
              "<table border=\"1\" class=\"dataframe\">\n",
              "  <thead>\n",
              "    <tr style=\"text-align: right;\">\n",
              "      <th></th>\n",
              "      <th>home_wins</th>\n",
              "      <th>away_wins</th>\n",
              "      <th>home_matches</th>\n",
              "      <th>away_matches</th>\n",
              "      <th>home_win_percentage</th>\n",
              "      <th>away_win_percentage</th>\n",
              "    </tr>\n",
              "  </thead>\n",
              "  <tbody>\n",
              "    <tr>\n",
              "      <th>count</th>\n",
              "      <td>14.000000</td>\n",
              "      <td>14.000000</td>\n",
              "      <td>14.000000</td>\n",
              "      <td>14.000000</td>\n",
              "      <td>14.000000</td>\n",
              "      <td>14.000000</td>\n",
              "    </tr>\n",
              "    <tr>\n",
              "      <th>mean</th>\n",
              "      <td>23.928571</td>\n",
              "      <td>29.428571</td>\n",
              "      <td>53.500000</td>\n",
              "      <td>53.500000</td>\n",
              "      <td>41.737663</td>\n",
              "      <td>55.574283</td>\n",
              "    </tr>\n",
              "    <tr>\n",
              "      <th>std</th>\n",
              "      <td>18.685512</td>\n",
              "      <td>20.816836</td>\n",
              "      <td>35.821674</td>\n",
              "      <td>35.883894</td>\n",
              "      <td>14.095272</td>\n",
              "      <td>13.669679</td>\n",
              "    </tr>\n",
              "    <tr>\n",
              "      <th>min</th>\n",
              "      <td>1.000000</td>\n",
              "      <td>4.000000</td>\n",
              "      <td>6.000000</td>\n",
              "      <td>7.000000</td>\n",
              "      <td>7.142857</td>\n",
              "      <td>23.076923</td>\n",
              "    </tr>\n",
              "    <tr>\n",
              "      <th>25%</th>\n",
              "      <td>5.250000</td>\n",
              "      <td>8.000000</td>\n",
              "      <td>15.500000</td>\n",
              "      <td>18.500000</td>\n",
              "      <td>36.282631</td>\n",
              "      <td>51.625387</td>\n",
              "    </tr>\n",
              "    <tr>\n",
              "      <th>50%</th>\n",
              "      <td>27.000000</td>\n",
              "      <td>35.000000</td>\n",
              "      <td>65.000000</td>\n",
              "      <td>60.000000</td>\n",
              "      <td>41.809353</td>\n",
              "      <td>58.401163</td>\n",
              "    </tr>\n",
              "    <tr>\n",
              "      <th>75%</th>\n",
              "      <td>34.750000</td>\n",
              "      <td>48.250000</td>\n",
              "      <td>84.500000</td>\n",
              "      <td>85.750000</td>\n",
              "      <td>49.404762</td>\n",
              "      <td>62.430556</td>\n",
              "    </tr>\n",
              "    <tr>\n",
              "      <th>max</th>\n",
              "      <td>58.000000</td>\n",
              "      <td>58.000000</td>\n",
              "      <td>101.000000</td>\n",
              "      <td>95.000000</td>\n",
              "      <td>62.500000</td>\n",
              "      <td>75.000000</td>\n",
              "    </tr>\n",
              "  </tbody>\n",
              "</table>\n",
              "</div>"
            ],
            "text/plain": [
              "       home_wins  away_wins  ...  home_win_percentage  away_win_percentage\n",
              "count  14.000000  14.000000  ...            14.000000            14.000000\n",
              "mean   23.928571  29.428571  ...            41.737663            55.574283\n",
              "std    18.685512  20.816836  ...            14.095272            13.669679\n",
              "min     1.000000   4.000000  ...             7.142857            23.076923\n",
              "25%     5.250000   8.000000  ...            36.282631            51.625387\n",
              "50%    27.000000  35.000000  ...            41.809353            58.401163\n",
              "75%    34.750000  48.250000  ...            49.404762            62.430556\n",
              "max    58.000000  58.000000  ...            62.500000            75.000000\n",
              "\n",
              "[8 rows x 6 columns]"
            ]
          },
          "metadata": {
            "tags": []
          },
          "execution_count": 5
        }
      ]
    },
    {
      "cell_type": "code",
      "metadata": {
        "colab": {
          "base_uri": "https://localhost:8080/",
          "height": 462
        },
        "id": "JOC3hyRRhUAI",
        "outputId": "9ce8b944-9089-4658-a183-be25674c58c2"
      },
      "source": [
        "teamwise_home_and_away_df.head(14)"
      ],
      "execution_count": 6,
      "outputs": [
        {
          "output_type": "execute_result",
          "data": {
            "text/html": [
              "<div>\n",
              "<style scoped>\n",
              "    .dataframe tbody tr th:only-of-type {\n",
              "        vertical-align: middle;\n",
              "    }\n",
              "\n",
              "    .dataframe tbody tr th {\n",
              "        vertical-align: top;\n",
              "    }\n",
              "\n",
              "    .dataframe thead th {\n",
              "        text-align: right;\n",
              "    }\n",
              "</style>\n",
              "<table border=\"1\" class=\"dataframe\">\n",
              "  <thead>\n",
              "    <tr style=\"text-align: right;\">\n",
              "      <th></th>\n",
              "      <th>team</th>\n",
              "      <th>home_wins</th>\n",
              "      <th>away_wins</th>\n",
              "      <th>home_matches</th>\n",
              "      <th>away_matches</th>\n",
              "      <th>home_win_percentage</th>\n",
              "      <th>away_win_percentage</th>\n",
              "    </tr>\n",
              "  </thead>\n",
              "  <tbody>\n",
              "    <tr>\n",
              "      <th>0</th>\n",
              "      <td>Rising Pune Supergiant</td>\n",
              "      <td>5</td>\n",
              "      <td>5</td>\n",
              "      <td>8</td>\n",
              "      <td>8</td>\n",
              "      <td>62.500000</td>\n",
              "      <td>62.500000</td>\n",
              "    </tr>\n",
              "    <tr>\n",
              "      <th>1</th>\n",
              "      <td>Mumbai Indians</td>\n",
              "      <td>58</td>\n",
              "      <td>51</td>\n",
              "      <td>101</td>\n",
              "      <td>86</td>\n",
              "      <td>57.425743</td>\n",
              "      <td>59.302326</td>\n",
              "    </tr>\n",
              "    <tr>\n",
              "      <th>2</th>\n",
              "      <td>Chennai Super Kings</td>\n",
              "      <td>51</td>\n",
              "      <td>49</td>\n",
              "      <td>89</td>\n",
              "      <td>75</td>\n",
              "      <td>57.303371</td>\n",
              "      <td>65.333333</td>\n",
              "    </tr>\n",
              "    <tr>\n",
              "      <th>3</th>\n",
              "      <td>Delhi Capitals</td>\n",
              "      <td>3</td>\n",
              "      <td>7</td>\n",
              "      <td>6</td>\n",
              "      <td>10</td>\n",
              "      <td>50.000000</td>\n",
              "      <td>70.000000</td>\n",
              "    </tr>\n",
              "    <tr>\n",
              "      <th>4</th>\n",
              "      <td>Sunrisers Hyderabad</td>\n",
              "      <td>30</td>\n",
              "      <td>28</td>\n",
              "      <td>63</td>\n",
              "      <td>45</td>\n",
              "      <td>47.619048</td>\n",
              "      <td>62.222222</td>\n",
              "    </tr>\n",
              "    <tr>\n",
              "      <th>5</th>\n",
              "      <td>Rajasthan Royals</td>\n",
              "      <td>29</td>\n",
              "      <td>46</td>\n",
              "      <td>67</td>\n",
              "      <td>80</td>\n",
              "      <td>43.283582</td>\n",
              "      <td>57.500000</td>\n",
              "    </tr>\n",
              "    <tr>\n",
              "      <th>6</th>\n",
              "      <td>Deccan Chargers</td>\n",
              "      <td>18</td>\n",
              "      <td>11</td>\n",
              "      <td>43</td>\n",
              "      <td>32</td>\n",
              "      <td>41.860465</td>\n",
              "      <td>34.375000</td>\n",
              "    </tr>\n",
              "    <tr>\n",
              "      <th>7</th>\n",
              "      <td>Kings XI Punjab</td>\n",
              "      <td>38</td>\n",
              "      <td>44</td>\n",
              "      <td>91</td>\n",
              "      <td>85</td>\n",
              "      <td>41.758242</td>\n",
              "      <td>51.764706</td>\n",
              "    </tr>\n",
              "    <tr>\n",
              "      <th>8</th>\n",
              "      <td>Royal Challengers Bangalore</td>\n",
              "      <td>35</td>\n",
              "      <td>49</td>\n",
              "      <td>85</td>\n",
              "      <td>95</td>\n",
              "      <td>41.176471</td>\n",
              "      <td>51.578947</td>\n",
              "    </tr>\n",
              "    <tr>\n",
              "      <th>9</th>\n",
              "      <td>Kolkata Knight Riders</td>\n",
              "      <td>34</td>\n",
              "      <td>58</td>\n",
              "      <td>83</td>\n",
              "      <td>95</td>\n",
              "      <td>40.963855</td>\n",
              "      <td>61.052632</td>\n",
              "    </tr>\n",
              "    <tr>\n",
              "      <th>10</th>\n",
              "      <td>Delhi Daredevils</td>\n",
              "      <td>25</td>\n",
              "      <td>42</td>\n",
              "      <td>72</td>\n",
              "      <td>89</td>\n",
              "      <td>34.722222</td>\n",
              "      <td>47.191011</td>\n",
              "    </tr>\n",
              "    <tr>\n",
              "      <th>11</th>\n",
              "      <td>Pune Warriors</td>\n",
              "      <td>6</td>\n",
              "      <td>6</td>\n",
              "      <td>20</td>\n",
              "      <td>26</td>\n",
              "      <td>30.000000</td>\n",
              "      <td>23.076923</td>\n",
              "    </tr>\n",
              "    <tr>\n",
              "      <th>12</th>\n",
              "      <td>Kochi Tuskers Kerala</td>\n",
              "      <td>2</td>\n",
              "      <td>4</td>\n",
              "      <td>7</td>\n",
              "      <td>7</td>\n",
              "      <td>28.571429</td>\n",
              "      <td>57.142857</td>\n",
              "    </tr>\n",
              "    <tr>\n",
              "      <th>13</th>\n",
              "      <td>Gujarat Lions</td>\n",
              "      <td>1</td>\n",
              "      <td>12</td>\n",
              "      <td>14</td>\n",
              "      <td>16</td>\n",
              "      <td>7.142857</td>\n",
              "      <td>75.000000</td>\n",
              "    </tr>\n",
              "  </tbody>\n",
              "</table>\n",
              "</div>"
            ],
            "text/plain": [
              "                           team  ...  away_win_percentage\n",
              "0        Rising Pune Supergiant  ...            62.500000\n",
              "1                Mumbai Indians  ...            59.302326\n",
              "2           Chennai Super Kings  ...            65.333333\n",
              "3                Delhi Capitals  ...            70.000000\n",
              "4           Sunrisers Hyderabad  ...            62.222222\n",
              "5              Rajasthan Royals  ...            57.500000\n",
              "6               Deccan Chargers  ...            34.375000\n",
              "7               Kings XI Punjab  ...            51.764706\n",
              "8   Royal Challengers Bangalore  ...            51.578947\n",
              "9         Kolkata Knight Riders  ...            61.052632\n",
              "10             Delhi Daredevils  ...            47.191011\n",
              "11                Pune Warriors  ...            23.076923\n",
              "12         Kochi Tuskers Kerala  ...            57.142857\n",
              "13                Gujarat Lions  ...            75.000000\n",
              "\n",
              "[14 rows x 7 columns]"
            ]
          },
          "metadata": {
            "tags": []
          },
          "execution_count": 6
        }
      ]
    },
    {
      "cell_type": "code",
      "metadata": {
        "id": "R9-3EkEFprtJ"
      },
      "source": [
        "team = teamwise_home_and_away_df['team'].loc[0:13]"
      ],
      "execution_count": 7,
      "outputs": []
    },
    {
      "cell_type": "code",
      "metadata": {
        "colab": {
          "base_uri": "https://localhost:8080/"
        },
        "id": "tPfy9ORap2xN",
        "outputId": "060afccc-60f9-41eb-c55f-040913e49c5b"
      },
      "source": [
        "team"
      ],
      "execution_count": 8,
      "outputs": [
        {
          "output_type": "execute_result",
          "data": {
            "text/plain": [
              "0          Rising Pune Supergiant\n",
              "1                  Mumbai Indians\n",
              "2             Chennai Super Kings\n",
              "3                  Delhi Capitals\n",
              "4             Sunrisers Hyderabad\n",
              "5                Rajasthan Royals\n",
              "6                 Deccan Chargers\n",
              "7                 Kings XI Punjab\n",
              "8     Royal Challengers Bangalore\n",
              "9           Kolkata Knight Riders\n",
              "10               Delhi Daredevils\n",
              "11                  Pune Warriors\n",
              "12           Kochi Tuskers Kerala\n",
              "13                  Gujarat Lions\n",
              "Name: team, dtype: object"
            ]
          },
          "metadata": {
            "tags": []
          },
          "execution_count": 8
        }
      ]
    },
    {
      "cell_type": "code",
      "metadata": {
        "id": "B9GnijyKpdXj"
      },
      "source": [
        "length_of_team = np.array(len(team))"
      ],
      "execution_count": 9,
      "outputs": []
    },
    {
      "cell_type": "code",
      "metadata": {
        "colab": {
          "base_uri": "https://localhost:8080/"
        },
        "id": "SZm8bPvKqIim",
        "outputId": "3dd08164-8bf1-4339-e9a6-479b54423859"
      },
      "source": [
        "length_of_team"
      ],
      "execution_count": 10,
      "outputs": [
        {
          "output_type": "execute_result",
          "data": {
            "text/plain": [
              "array(14)"
            ]
          },
          "metadata": {
            "tags": []
          },
          "execution_count": 10
        }
      ]
    },
    {
      "cell_type": "code",
      "metadata": {
        "id": "qkm9_WvFqWpy"
      },
      "source": [
        "home_wins_of_team = teamwise_home_and_away_df['home_wins']"
      ],
      "execution_count": 11,
      "outputs": []
    },
    {
      "cell_type": "code",
      "metadata": {
        "colab": {
          "base_uri": "https://localhost:8080/"
        },
        "id": "qJ2IxwygqgJe",
        "outputId": "0c78a390-db33-43fc-ff09-aaed91e65ac4"
      },
      "source": [
        "home_wins_of_team"
      ],
      "execution_count": 12,
      "outputs": [
        {
          "output_type": "execute_result",
          "data": {
            "text/plain": [
              "0      5\n",
              "1     58\n",
              "2     51\n",
              "3      3\n",
              "4     30\n",
              "5     29\n",
              "6     18\n",
              "7     38\n",
              "8     35\n",
              "9     34\n",
              "10    25\n",
              "11     6\n",
              "12     2\n",
              "13     1\n",
              "Name: home_wins, dtype: int64"
            ]
          },
          "metadata": {
            "tags": []
          },
          "execution_count": 12
        }
      ]
    },
    {
      "cell_type": "code",
      "metadata": {
        "id": "2UkzavDGqp_Q"
      },
      "source": [
        "away_wins_of_team = teamwise_home_and_away_df['away_wins']"
      ],
      "execution_count": 13,
      "outputs": []
    },
    {
      "cell_type": "code",
      "metadata": {
        "colab": {
          "base_uri": "https://localhost:8080/"
        },
        "id": "Qk5csSkmqzHj",
        "outputId": "1834c3a9-a6d5-44c8-846e-6ce45c52cec9"
      },
      "source": [
        "away_wins_of_team"
      ],
      "execution_count": 14,
      "outputs": [
        {
          "output_type": "execute_result",
          "data": {
            "text/plain": [
              "0      5\n",
              "1     51\n",
              "2     49\n",
              "3      7\n",
              "4     28\n",
              "5     46\n",
              "6     11\n",
              "7     44\n",
              "8     49\n",
              "9     58\n",
              "10    42\n",
              "11     6\n",
              "12     4\n",
              "13    12\n",
              "Name: away_wins, dtype: int64"
            ]
          },
          "metadata": {
            "tags": []
          },
          "execution_count": 14
        }
      ]
    },
    {
      "cell_type": "code",
      "metadata": {
        "colab": {
          "base_uri": "https://localhost:8080/",
          "height": 686
        },
        "id": "TMbMz_JUpdaX",
        "outputId": "a1dde0f9-5dca-4a07-cfca-cd2dd6f608c5"
      },
      "source": [
        "# Create the figure object \r\n",
        "qw = teamwise_home_and_away_df.groupby(['team'])[['home_wins','away_wins']].mean().plot.bar(\r\n",
        "    width=0.8,\r\n",
        "    linewidth= 1,\r\n",
        "    edgecolor='black',\r\n",
        "    figsize = (20,8),\r\n",
        "    fontsize = 10,\r\n",
        ")\r\n",
        "\r\n",
        "qw.set_title(\"Teamwise Wins at Home & Away\", fontsize = 30)\r\n",
        "\r\n",
        "# Set x-labels\r\n",
        "qw.set_xlabel(\"Team\", fontsize = 20)\r\n",
        "qw.set_ylabel(\"Wins at Home & Away\", fontsize = 20)"
      ],
      "execution_count": 16,
      "outputs": [
        {
          "output_type": "execute_result",
          "data": {
            "text/plain": [
              "Text(0, 0.5, 'Wins at Home & Away')"
            ]
          },
          "metadata": {
            "tags": []
          },
          "execution_count": 16
        },
        {
          "output_type": "display_data",
          "data": {
            "image/png": "[encoded data removed]",
            "text/plain": [
              "<Figure size 1440x576 with 1 Axes>"
            ]
          },
          "metadata": {
            "tags": [],
            "needs_background": "light"
          }
        }
      ]
    },
    {
      "cell_type": "code",
      "metadata": {
        "id": "--louEcgtjNI"
      },
      "source": [
        ""
      ],
      "execution_count": null,
      "outputs": []
    }
  ]
}