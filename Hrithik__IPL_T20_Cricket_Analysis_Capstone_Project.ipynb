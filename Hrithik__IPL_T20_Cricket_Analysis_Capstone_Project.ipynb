{
  "nbformat": 4,
  "nbformat_minor": 0,
  "metadata": {
    "kernelspec": {
      "display_name": "Python 3",
      "language": "python",
      "name": "python3"
    },
    "language_info": {
      "codemirror_mode": {
        "name": "ipython",
        "version": 3
      },
      "file_extension": ".py",
      "mimetype": "text/x-python",
      "name": "python",
      "nbconvert_exporter": "python",
      "pygments_lexer": "ipython3",
      "version": "3.6.6"
    },
    "colab": {
      "name": "Hrithik__IPL T20 Cricket Analysis - Capstone Project.ipynb",
      "provenance": [],
      "collapsed_sections": [],
      "include_colab_link": true
    }
  },
  "cells": [
    {
      "cell_type": "markdown",
      "metadata": {
        "id": "view-in-github",
        "colab_type": "text"
      },
      "source": [
        "<a href=\"https://colab.research.google.com/github/Pradip240/IPL-T20-Cricket-Analysis/blob/main/Hrithik__IPL_T20_Cricket_Analysis_Capstone_Project.ipynb\" target=\"_parent\"><img src=\"https://colab.research.google.com/assets/colab-badge.svg\" alt=\"Open In Colab\"/></a>"
      ]
    },
    {
      "cell_type": "markdown",
      "metadata": {
        "id": "Y06xIdG26kRF"
      },
      "source": [
        "## <b> Indian Premier League(IPL) is a professional Twenty20 cricket league in India contested during March or April and May of every year by eight teams representing eight different cities in India. The league was founded by the Board of Control for Cricket in India(BCCI) in 2008. </b>\n",
        "\n",
        "## <b> Explore and analyze the data to discover results and statistics for different teams playing in IPL. </b>"
      ]
    },
    {
      "cell_type": "code",
      "metadata": {
        "id": "dByMsuzT8Tnw"
      },
      "source": [
        "#import packages\r\n",
        "\r\n",
        "import pandas as pd\r\n",
        "import numpy as np\r\n",
        "from ast import literal_eval\r\n",
        "import matplotlib.pyplot as plt\r\n",
        "import seaborn as sns\r\n",
        "from scipy.stats import norm\r\n",
        "%matplotlib inline"
      ],
      "execution_count": 1,
      "outputs": []
    },
    {
      "cell_type": "code",
      "metadata": {
        "colab": {
          "base_uri": "https://localhost:8080/"
        },
        "id": "dtj3u-bqdC7J",
        "outputId": "0ee0bb5b-2ce0-45dd-bb15-a7a298c7ac23"
      },
      "source": [
        "from google.colab import drive\n",
        "drive.mount('/content/drive')"
      ],
      "execution_count": 2,
      "outputs": [
        {
          "output_type": "stream",
          "text": [
            "Mounted at /content/drive\n"
          ],
          "name": "stdout"
        }
      ]
    },
    {
      "cell_type": "code",
      "metadata": {
        "id": "XcDms5SrURiT"
      },
      "source": [
        "# Input file path \r\n",
        "path = '/content/drive/MyDrive/Alma Better Cohort Nilgiri/Capstone Project/Exploratory Data Analysis Capstone Project/IPL T20 Cricket Analysis/IPL Data/'\r\n",
        "# individual data frame\r\n",
        "players_df = pd.read_excel(path + 'Players.xlsx')\r\n",
        "deliveries_df = pd.read_csv(path + 'deliveries.csv')\r\n",
        "most_runs_average_strikerate_df = pd.read_csv(path + 'most_runs_average_strikerate.csv')\r\n",
        "teamwise_home_and_away_df = pd.read_csv(path + 'teamwise_home_and_away.csv')"
      ],
      "execution_count": 3,
      "outputs": []
    },
    {
      "cell_type": "code",
      "metadata": {
        "colab": {
          "base_uri": "https://localhost:8080/"
        },
        "id": "eOkTp_OKgb_p",
        "outputId": "234c4cc2-da55-464e-d3a4-3000998404af"
      },
      "source": [
        "teamwise_home_and_away_df.info()"
      ],
      "execution_count": 4,
      "outputs": [
        {
          "output_type": "stream",
          "text": [
            "<class 'pandas.core.frame.DataFrame'>\n",
            "RangeIndex: 14 entries, 0 to 13\n",
            "Data columns (total 7 columns):\n",
            " #   Column               Non-Null Count  Dtype  \n",
            "---  ------               --------------  -----  \n",
            " 0   team                 14 non-null     object \n",
            " 1   home_wins            14 non-null     int64  \n",
            " 2   away_wins            14 non-null     int64  \n",
            " 3   home_matches         14 non-null     int64  \n",
            " 4   away_matches         14 non-null     int64  \n",
            " 5   home_win_percentage  14 non-null     float64\n",
            " 6   away_win_percentage  14 non-null     float64\n",
            "dtypes: float64(2), int64(4), object(1)\n",
            "memory usage: 912.0+ bytes\n"
          ],
          "name": "stdout"
        }
      ]
    },
    {
      "cell_type": "code",
      "metadata": {
        "colab": {
          "base_uri": "https://localhost:8080/",
          "height": 284
        },
        "id": "HYifqeY_hPKD",
        "outputId": "3e11ec37-8f21-4055-8a2d-4bd6f5c2522e"
      },
      "source": [
        "teamwise_home_and_away_df.describe()"
      ],
      "execution_count": 5,
      "outputs": [
        {
          "output_type": "execute_result",
          "data": {
            "text/html": [
              "<div>\n",
              "<style scoped>\n",
              "    .dataframe tbody tr th:only-of-type {\n",
              "        vertical-align: middle;\n",
              "    }\n",
              "\n",
              "    .dataframe tbody tr th {\n",
              "        vertical-align: top;\n",
              "    }\n",
              "\n",
              "    .dataframe thead th {\n",
              "        text-align: right;\n",
              "    }\n",
              "</style>\n",
              "<table border=\"1\" class=\"dataframe\">\n",
              "  <thead>\n",
              "    <tr style=\"text-align: right;\">\n",
              "      <th></th>\n",
              "      <th>home_wins</th>\n",
              "      <th>away_wins</th>\n",
              "      <th>home_matches</th>\n",
              "      <th>away_matches</th>\n",
              "      <th>home_win_percentage</th>\n",
              "      <th>away_win_percentage</th>\n",
              "    </tr>\n",
              "  </thead>\n",
              "  <tbody>\n",
              "    <tr>\n",
              "      <th>count</th>\n",
              "      <td>14.000000</td>\n",
              "      <td>14.000000</td>\n",
              "      <td>14.000000</td>\n",
              "      <td>14.000000</td>\n",
              "      <td>14.000000</td>\n",
              "      <td>14.000000</td>\n",
              "    </tr>\n",
              "    <tr>\n",
              "      <th>mean</th>\n",
              "      <td>23.928571</td>\n",
              "      <td>29.428571</td>\n",
              "      <td>53.500000</td>\n",
              "      <td>53.500000</td>\n",
              "      <td>41.737663</td>\n",
              "      <td>55.574283</td>\n",
              "    </tr>\n",
              "    <tr>\n",
              "      <th>std</th>\n",
              "      <td>18.685512</td>\n",
              "      <td>20.816836</td>\n",
              "      <td>35.821674</td>\n",
              "      <td>35.883894</td>\n",
              "      <td>14.095272</td>\n",
              "      <td>13.669679</td>\n",
              "    </tr>\n",
              "    <tr>\n",
              "      <th>min</th>\n",
              "      <td>1.000000</td>\n",
              "      <td>4.000000</td>\n",
              "      <td>6.000000</td>\n",
              "      <td>7.000000</td>\n",
              "      <td>7.142857</td>\n",
              "      <td>23.076923</td>\n",
              "    </tr>\n",
              "    <tr>\n",
              "      <th>25%</th>\n",
              "      <td>5.250000</td>\n",
              "      <td>8.000000</td>\n",
              "      <td>15.500000</td>\n",
              "      <td>18.500000</td>\n",
              "      <td>36.282631</td>\n",
              "      <td>51.625387</td>\n",
              "    </tr>\n",
              "    <tr>\n",
              "      <th>50%</th>\n",
              "      <td>27.000000</td>\n",
              "      <td>35.000000</td>\n",
              "      <td>65.000000</td>\n",
              "      <td>60.000000</td>\n",
              "      <td>41.809353</td>\n",
              "      <td>58.401163</td>\n",
              "    </tr>\n",
              "    <tr>\n",
              "      <th>75%</th>\n",
              "      <td>34.750000</td>\n",
              "      <td>48.250000</td>\n",
              "      <td>84.500000</td>\n",
              "      <td>85.750000</td>\n",
              "      <td>49.404762</td>\n",
              "      <td>62.430556</td>\n",
              "    </tr>\n",
              "    <tr>\n",
              "      <th>max</th>\n",
              "      <td>58.000000</td>\n",
              "      <td>58.000000</td>\n",
              "      <td>101.000000</td>\n",
              "      <td>95.000000</td>\n",
              "      <td>62.500000</td>\n",
              "      <td>75.000000</td>\n",
              "    </tr>\n",
              "  </tbody>\n",
              "</table>\n",
              "</div>"
            ],
            "text/plain": [
              "       home_wins  away_wins  ...  home_win_percentage  away_win_percentage\n",
              "count  14.000000  14.000000  ...            14.000000            14.000000\n",
              "mean   23.928571  29.428571  ...            41.737663            55.574283\n",
              "std    18.685512  20.816836  ...            14.095272            13.669679\n",
              "min     1.000000   4.000000  ...             7.142857            23.076923\n",
              "25%     5.250000   8.000000  ...            36.282631            51.625387\n",
              "50%    27.000000  35.000000  ...            41.809353            58.401163\n",
              "75%    34.750000  48.250000  ...            49.404762            62.430556\n",
              "max    58.000000  58.000000  ...            62.500000            75.000000\n",
              "\n",
              "[8 rows x 6 columns]"
            ]
          },
          "metadata": {
            "tags": []
          },
          "execution_count": 5
        }
      ]
    },
    {
      "cell_type": "code",
      "metadata": {
        "colab": {
          "base_uri": "https://localhost:8080/",
          "height": 462
        },
        "id": "JOC3hyRRhUAI",
        "outputId": "293012df-23ba-43e9-8dec-8e649b3b4de2"
      },
      "source": [
        "teamwise_home_and_away_df.head(14)"
      ],
      "execution_count": 6,
      "outputs": [
        {
          "output_type": "execute_result",
          "data": {
            "text/html": [
              "<div>\n",
              "<style scoped>\n",
              "    .dataframe tbody tr th:only-of-type {\n",
              "        vertical-align: middle;\n",
              "    }\n",
              "\n",
              "    .dataframe tbody tr th {\n",
              "        vertical-align: top;\n",
              "    }\n",
              "\n",
              "    .dataframe thead th {\n",
              "        text-align: right;\n",
              "    }\n",
              "</style>\n",
              "<table border=\"1\" class=\"dataframe\">\n",
              "  <thead>\n",
              "    <tr style=\"text-align: right;\">\n",
              "      <th></th>\n",
              "      <th>team</th>\n",
              "      <th>home_wins</th>\n",
              "      <th>away_wins</th>\n",
              "      <th>home_matches</th>\n",
              "      <th>away_matches</th>\n",
              "      <th>home_win_percentage</th>\n",
              "      <th>away_win_percentage</th>\n",
              "    </tr>\n",
              "  </thead>\n",
              "  <tbody>\n",
              "    <tr>\n",
              "      <th>0</th>\n",
              "      <td>Rising Pune Supergiant</td>\n",
              "      <td>5</td>\n",
              "      <td>5</td>\n",
              "      <td>8</td>\n",
              "      <td>8</td>\n",
              "      <td>62.500000</td>\n",
              "      <td>62.500000</td>\n",
              "    </tr>\n",
              "    <tr>\n",
              "      <th>1</th>\n",
              "      <td>Mumbai Indians</td>\n",
              "      <td>58</td>\n",
              "      <td>51</td>\n",
              "      <td>101</td>\n",
              "      <td>86</td>\n",
              "      <td>57.425743</td>\n",
              "      <td>59.302326</td>\n",
              "    </tr>\n",
              "    <tr>\n",
              "      <th>2</th>\n",
              "      <td>Chennai Super Kings</td>\n",
              "      <td>51</td>\n",
              "      <td>49</td>\n",
              "      <td>89</td>\n",
              "      <td>75</td>\n",
              "      <td>57.303371</td>\n",
              "      <td>65.333333</td>\n",
              "    </tr>\n",
              "    <tr>\n",
              "      <th>3</th>\n",
              "      <td>Delhi Capitals</td>\n",
              "      <td>3</td>\n",
              "      <td>7</td>\n",
              "      <td>6</td>\n",
              "      <td>10</td>\n",
              "      <td>50.000000</td>\n",
              "      <td>70.000000</td>\n",
              "    </tr>\n",
              "    <tr>\n",
              "      <th>4</th>\n",
              "      <td>Sunrisers Hyderabad</td>\n",
              "      <td>30</td>\n",
              "      <td>28</td>\n",
              "      <td>63</td>\n",
              "      <td>45</td>\n",
              "      <td>47.619048</td>\n",
              "      <td>62.222222</td>\n",
              "    </tr>\n",
              "    <tr>\n",
              "      <th>5</th>\n",
              "      <td>Rajasthan Royals</td>\n",
              "      <td>29</td>\n",
              "      <td>46</td>\n",
              "      <td>67</td>\n",
              "      <td>80</td>\n",
              "      <td>43.283582</td>\n",
              "      <td>57.500000</td>\n",
              "    </tr>\n",
              "    <tr>\n",
              "      <th>6</th>\n",
              "      <td>Deccan Chargers</td>\n",
              "      <td>18</td>\n",
              "      <td>11</td>\n",
              "      <td>43</td>\n",
              "      <td>32</td>\n",
              "      <td>41.860465</td>\n",
              "      <td>34.375000</td>\n",
              "    </tr>\n",
              "    <tr>\n",
              "      <th>7</th>\n",
              "      <td>Kings XI Punjab</td>\n",
              "      <td>38</td>\n",
              "      <td>44</td>\n",
              "      <td>91</td>\n",
              "      <td>85</td>\n",
              "      <td>41.758242</td>\n",
              "      <td>51.764706</td>\n",
              "    </tr>\n",
              "    <tr>\n",
              "      <th>8</th>\n",
              "      <td>Royal Challengers Bangalore</td>\n",
              "      <td>35</td>\n",
              "      <td>49</td>\n",
              "      <td>85</td>\n",
              "      <td>95</td>\n",
              "      <td>41.176471</td>\n",
              "      <td>51.578947</td>\n",
              "    </tr>\n",
              "    <tr>\n",
              "      <th>9</th>\n",
              "      <td>Kolkata Knight Riders</td>\n",
              "      <td>34</td>\n",
              "      <td>58</td>\n",
              "      <td>83</td>\n",
              "      <td>95</td>\n",
              "      <td>40.963855</td>\n",
              "      <td>61.052632</td>\n",
              "    </tr>\n",
              "    <tr>\n",
              "      <th>10</th>\n",
              "      <td>Delhi Daredevils</td>\n",
              "      <td>25</td>\n",
              "      <td>42</td>\n",
              "      <td>72</td>\n",
              "      <td>89</td>\n",
              "      <td>34.722222</td>\n",
              "      <td>47.191011</td>\n",
              "    </tr>\n",
              "    <tr>\n",
              "      <th>11</th>\n",
              "      <td>Pune Warriors</td>\n",
              "      <td>6</td>\n",
              "      <td>6</td>\n",
              "      <td>20</td>\n",
              "      <td>26</td>\n",
              "      <td>30.000000</td>\n",
              "      <td>23.076923</td>\n",
              "    </tr>\n",
              "    <tr>\n",
              "      <th>12</th>\n",
              "      <td>Kochi Tuskers Kerala</td>\n",
              "      <td>2</td>\n",
              "      <td>4</td>\n",
              "      <td>7</td>\n",
              "      <td>7</td>\n",
              "      <td>28.571429</td>\n",
              "      <td>57.142857</td>\n",
              "    </tr>\n",
              "    <tr>\n",
              "      <th>13</th>\n",
              "      <td>Gujarat Lions</td>\n",
              "      <td>1</td>\n",
              "      <td>12</td>\n",
              "      <td>14</td>\n",
              "      <td>16</td>\n",
              "      <td>7.142857</td>\n",
              "      <td>75.000000</td>\n",
              "    </tr>\n",
              "  </tbody>\n",
              "</table>\n",
              "</div>"
            ],
            "text/plain": [
              "                           team  ...  away_win_percentage\n",
              "0        Rising Pune Supergiant  ...            62.500000\n",
              "1                Mumbai Indians  ...            59.302326\n",
              "2           Chennai Super Kings  ...            65.333333\n",
              "3                Delhi Capitals  ...            70.000000\n",
              "4           Sunrisers Hyderabad  ...            62.222222\n",
              "5              Rajasthan Royals  ...            57.500000\n",
              "6               Deccan Chargers  ...            34.375000\n",
              "7               Kings XI Punjab  ...            51.764706\n",
              "8   Royal Challengers Bangalore  ...            51.578947\n",
              "9         Kolkata Knight Riders  ...            61.052632\n",
              "10             Delhi Daredevils  ...            47.191011\n",
              "11                Pune Warriors  ...            23.076923\n",
              "12         Kochi Tuskers Kerala  ...            57.142857\n",
              "13                Gujarat Lions  ...            75.000000\n",
              "\n",
              "[14 rows x 7 columns]"
            ]
          },
          "metadata": {
            "tags": []
          },
          "execution_count": 6
        }
      ]
    },
    {
      "cell_type": "code",
      "metadata": {
        "id": "R9-3EkEFprtJ"
      },
      "source": [
        "team = teamwise_home_and_away_df['team'].loc[0:13]"
      ],
      "execution_count": 7,
      "outputs": []
    },
    {
      "cell_type": "code",
      "metadata": {
        "colab": {
          "base_uri": "https://localhost:8080/"
        },
        "id": "tPfy9ORap2xN",
        "outputId": "67b9414b-3160-42d7-be1f-022e704e922f"
      },
      "source": [
        "team"
      ],
      "execution_count": 8,
      "outputs": [
        {
          "output_type": "execute_result",
          "data": {
            "text/plain": [
              "0          Rising Pune Supergiant\n",
              "1                  Mumbai Indians\n",
              "2             Chennai Super Kings\n",
              "3                  Delhi Capitals\n",
              "4             Sunrisers Hyderabad\n",
              "5                Rajasthan Royals\n",
              "6                 Deccan Chargers\n",
              "7                 Kings XI Punjab\n",
              "8     Royal Challengers Bangalore\n",
              "9           Kolkata Knight Riders\n",
              "10               Delhi Daredevils\n",
              "11                  Pune Warriors\n",
              "12           Kochi Tuskers Kerala\n",
              "13                  Gujarat Lions\n",
              "Name: team, dtype: object"
            ]
          },
          "metadata": {
            "tags": []
          },
          "execution_count": 8
        }
      ]
    },
    {
      "cell_type": "code",
      "metadata": {
        "id": "B9GnijyKpdXj"
      },
      "source": [
        "length_of_team = np.array(len(team))"
      ],
      "execution_count": 9,
      "outputs": []
    },
    {
      "cell_type": "code",
      "metadata": {
        "colab": {
          "base_uri": "https://localhost:8080/"
        },
        "id": "SZm8bPvKqIim",
        "outputId": "6b8b4d00-bb92-43eb-c312-0a8467df0f60"
      },
      "source": [
        "length_of_team"
      ],
      "execution_count": 10,
      "outputs": [
        {
          "output_type": "execute_result",
          "data": {
            "text/plain": [
              "array(14)"
            ]
          },
          "metadata": {
            "tags": []
          },
          "execution_count": 10
        }
      ]
    },
    {
      "cell_type": "code",
      "metadata": {
        "id": "qkm9_WvFqWpy"
      },
      "source": [
        "home_wins_of_team = teamwise_home_and_away_df['home_wins']"
      ],
      "execution_count": 11,
      "outputs": []
    },
    {
      "cell_type": "code",
      "metadata": {
        "colab": {
          "base_uri": "https://localhost:8080/"
        },
        "id": "qJ2IxwygqgJe",
        "outputId": "8632b75c-92ff-4610-ccbe-9aca9e104886"
      },
      "source": [
        "home_wins_of_team"
      ],
      "execution_count": 12,
      "outputs": [
        {
          "output_type": "execute_result",
          "data": {
            "text/plain": [
              "0      5\n",
              "1     58\n",
              "2     51\n",
              "3      3\n",
              "4     30\n",
              "5     29\n",
              "6     18\n",
              "7     38\n",
              "8     35\n",
              "9     34\n",
              "10    25\n",
              "11     6\n",
              "12     2\n",
              "13     1\n",
              "Name: home_wins, dtype: int64"
            ]
          },
          "metadata": {
            "tags": []
          },
          "execution_count": 12
        }
      ]
    },
    {
      "cell_type": "code",
      "metadata": {
        "id": "2UkzavDGqp_Q"
      },
      "source": [
        "away_wins_of_team = teamwise_home_and_away_df['away_wins']"
      ],
      "execution_count": 13,
      "outputs": []
    },
    {
      "cell_type": "code",
      "metadata": {
        "colab": {
          "base_uri": "https://localhost:8080/"
        },
        "id": "Qk5csSkmqzHj",
        "outputId": "0533a4d7-1d8b-4505-deb2-69ded07a7d2f"
      },
      "source": [
        "away_wins_of_team"
      ],
      "execution_count": 14,
      "outputs": [
        {
          "output_type": "execute_result",
          "data": {
            "text/plain": [
              "0      5\n",
              "1     51\n",
              "2     49\n",
              "3      7\n",
              "4     28\n",
              "5     46\n",
              "6     11\n",
              "7     44\n",
              "8     49\n",
              "9     58\n",
              "10    42\n",
              "11     6\n",
              "12     4\n",
              "13    12\n",
              "Name: away_wins, dtype: int64"
            ]
          },
          "metadata": {
            "tags": []
          },
          "execution_count": 14
        }
      ]
    },
    {
      "cell_type": "code",
      "metadata": {
        "colab": {
          "base_uri": "https://localhost:8080/",
          "height": 686
        },
        "id": "TMbMz_JUpdaX",
        "outputId": "70a0c808-02ec-40b5-c269-2cc691a26b32"
      },
      "source": [
        "# Create the figure object \r\n",
        "qw = teamwise_home_and_away_df.groupby(['team'])[['home_wins','away_wins']].mean().plot.bar(\r\n",
        "    width=0.8,\r\n",
        "    linewidth= 1,\r\n",
        "    edgecolor='black',\r\n",
        "    figsize = (20,8),\r\n",
        "    fontsize = 10,\r\n",
        ")\r\n",
        "plt.yticks(ticks = [x for x in range(0,70,10)])\r\n",
        "plt.xticks(rotation = 90)\r\n",
        "qw.set_title(\"Teamwise Wins at Home & Away\", fontsize = 30)\r\n",
        "\r\n",
        "# Set x-labels\r\n",
        "qw.set_xlabel(\"Team\", fontsize = 20)\r\n",
        "qw.set_ylabel(\"Wins at Home & Away\", fontsize = 20)"
      ],
      "execution_count": 15,
      "outputs": [
        {
          "output_type": "execute_result",
          "data": {
            "text/plain": [
              "Text(0, 0.5, 'Wins at Home & Away')"
            ]
          },
          "metadata": {
            "tags": []
          },
          "execution_count": 15
        },
        {
          "output_type": "display_data",
          "data": {
            "image/png": "[encoded data removed]",
            "text/plain": [
              "<Figure size 1440x576 with 1 Axes>"
            ]
          },
          "metadata": {
            "tags": [],
            "needs_background": "light"
          }
        }
      ]
    },
    {
      "cell_type": "markdown",
      "metadata": {
        "id": "8nVVWDgUzyXM"
      },
      "source": [
        "#**MOST_RUNS_AVERAGE_STRIKERATE**"
      ]
    },
    {
      "cell_type": "markdown",
      "metadata": {
        "id": "6aVrSqr8pyvu"
      },
      "source": [
        "**MOST RUNS BY THE BATSMAN**"
      ]
    },
    {
      "cell_type": "code",
      "metadata": {
        "colab": {
          "base_uri": "https://localhost:8080/"
        },
        "id": "H-jYBvWz3_Mg",
        "outputId": "e857843c-8be9-4f9e-f187-9fd2859caa1c"
      },
      "source": [
        "most_runs_average_strikerate_df.info()"
      ],
      "execution_count": 16,
      "outputs": [
        {
          "output_type": "stream",
          "text": [
            "<class 'pandas.core.frame.DataFrame'>\n",
            "RangeIndex: 516 entries, 0 to 515\n",
            "Data columns (total 6 columns):\n",
            " #   Column         Non-Null Count  Dtype  \n",
            "---  ------         --------------  -----  \n",
            " 0   batsman        516 non-null    object \n",
            " 1   total_runs     516 non-null    int64  \n",
            " 2   out            516 non-null    int64  \n",
            " 3   numberofballs  516 non-null    int64  \n",
            " 4   average        482 non-null    float64\n",
            " 5   strikerate     516 non-null    float64\n",
            "dtypes: float64(2), int64(3), object(1)\n",
            "memory usage: 24.3+ KB\n"
          ],
          "name": "stdout"
        }
      ]
    },
    {
      "cell_type": "code",
      "metadata": {
        "colab": {
          "base_uri": "https://localhost:8080/",
          "height": 284
        },
        "id": "12JOWuHO4DeA",
        "outputId": "3f6ad18b-778c-4060-b31b-28ba175d894c"
      },
      "source": [
        "most_runs_average_strikerate_df.describe()"
      ],
      "execution_count": 17,
      "outputs": [
        {
          "output_type": "execute_result",
          "data": {
            "text/html": [
              "<div>\n",
              "<style scoped>\n",
              "    .dataframe tbody tr th:only-of-type {\n",
              "        vertical-align: middle;\n",
              "    }\n",
              "\n",
              "    .dataframe tbody tr th {\n",
              "        vertical-align: top;\n",
              "    }\n",
              "\n",
              "    .dataframe thead th {\n",
              "        text-align: right;\n",
              "    }\n",
              "</style>\n",
              "<table border=\"1\" class=\"dataframe\">\n",
              "  <thead>\n",
              "    <tr style=\"text-align: right;\">\n",
              "      <th></th>\n",
              "      <th>total_runs</th>\n",
              "      <th>out</th>\n",
              "      <th>numberofballs</th>\n",
              "      <th>average</th>\n",
              "      <th>strikerate</th>\n",
              "    </tr>\n",
              "  </thead>\n",
              "  <tbody>\n",
              "    <tr>\n",
              "      <th>count</th>\n",
              "      <td>516.000000</td>\n",
              "      <td>516.000000</td>\n",
              "      <td>516.000000</td>\n",
              "      <td>482.000000</td>\n",
              "      <td>516.000000</td>\n",
              "    </tr>\n",
              "    <tr>\n",
              "      <th>mean</th>\n",
              "      <td>430.625969</td>\n",
              "      <td>17.063953</td>\n",
              "      <td>335.645349</td>\n",
              "      <td>16.355074</td>\n",
              "      <td>105.433442</td>\n",
              "    </tr>\n",
              "    <tr>\n",
              "      <th>std</th>\n",
              "      <td>882.275431</td>\n",
              "      <td>28.124511</td>\n",
              "      <td>663.593679</td>\n",
              "      <td>11.146222</td>\n",
              "      <td>39.633938</td>\n",
              "    </tr>\n",
              "    <tr>\n",
              "      <th>min</th>\n",
              "      <td>0.000000</td>\n",
              "      <td>0.000000</td>\n",
              "      <td>1.000000</td>\n",
              "      <td>0.000000</td>\n",
              "      <td>0.000000</td>\n",
              "    </tr>\n",
              "    <tr>\n",
              "      <th>25%</th>\n",
              "      <td>15.000000</td>\n",
              "      <td>2.000000</td>\n",
              "      <td>17.000000</td>\n",
              "      <td>8.000000</td>\n",
              "      <td>84.362069</td>\n",
              "    </tr>\n",
              "    <tr>\n",
              "      <th>50%</th>\n",
              "      <td>74.000000</td>\n",
              "      <td>5.500000</td>\n",
              "      <td>68.000000</td>\n",
              "      <td>14.607143</td>\n",
              "      <td>111.651584</td>\n",
              "    </tr>\n",
              "    <tr>\n",
              "      <th>75%</th>\n",
              "      <td>340.500000</td>\n",
              "      <td>18.000000</td>\n",
              "      <td>290.000000</td>\n",
              "      <td>23.657609</td>\n",
              "      <td>130.499036</td>\n",
              "    </tr>\n",
              "    <tr>\n",
              "      <th>max</th>\n",
              "      <td>5426.000000</td>\n",
              "      <td>161.000000</td>\n",
              "      <td>4111.000000</td>\n",
              "      <td>88.000000</td>\n",
              "      <td>250.000000</td>\n",
              "    </tr>\n",
              "  </tbody>\n",
              "</table>\n",
              "</div>"
            ],
            "text/plain": [
              "        total_runs         out  numberofballs     average  strikerate\n",
              "count   516.000000  516.000000     516.000000  482.000000  516.000000\n",
              "mean    430.625969   17.063953     335.645349   16.355074  105.433442\n",
              "std     882.275431   28.124511     663.593679   11.146222   39.633938\n",
              "min       0.000000    0.000000       1.000000    0.000000    0.000000\n",
              "25%      15.000000    2.000000      17.000000    8.000000   84.362069\n",
              "50%      74.000000    5.500000      68.000000   14.607143  111.651584\n",
              "75%     340.500000   18.000000     290.000000   23.657609  130.499036\n",
              "max    5426.000000  161.000000    4111.000000   88.000000  250.000000"
            ]
          },
          "metadata": {
            "tags": []
          },
          "execution_count": 17
        }
      ]
    },
    {
      "cell_type": "code",
      "metadata": {
        "colab": {
          "base_uri": "https://localhost:8080/",
          "height": 343
        },
        "id": "b-egqXbf4HGP",
        "outputId": "b96d94de-77a2-4496-9f9d-13a40dc222bb"
      },
      "source": [
        "most_runs_average_strikerate_df.head(10)"
      ],
      "execution_count": 18,
      "outputs": [
        {
          "output_type": "execute_result",
          "data": {
            "text/html": [
              "<div>\n",
              "<style scoped>\n",
              "    .dataframe tbody tr th:only-of-type {\n",
              "        vertical-align: middle;\n",
              "    }\n",
              "\n",
              "    .dataframe tbody tr th {\n",
              "        vertical-align: top;\n",
              "    }\n",
              "\n",
              "    .dataframe thead th {\n",
              "        text-align: right;\n",
              "    }\n",
              "</style>\n",
              "<table border=\"1\" class=\"dataframe\">\n",
              "  <thead>\n",
              "    <tr style=\"text-align: right;\">\n",
              "      <th></th>\n",
              "      <th>batsman</th>\n",
              "      <th>total_runs</th>\n",
              "      <th>out</th>\n",
              "      <th>numberofballs</th>\n",
              "      <th>average</th>\n",
              "      <th>strikerate</th>\n",
              "    </tr>\n",
              "  </thead>\n",
              "  <tbody>\n",
              "    <tr>\n",
              "      <th>0</th>\n",
              "      <td>V Kohli</td>\n",
              "      <td>5426</td>\n",
              "      <td>152</td>\n",
              "      <td>4111</td>\n",
              "      <td>35.697368</td>\n",
              "      <td>131.987351</td>\n",
              "    </tr>\n",
              "    <tr>\n",
              "      <th>1</th>\n",
              "      <td>SK Raina</td>\n",
              "      <td>5386</td>\n",
              "      <td>160</td>\n",
              "      <td>3916</td>\n",
              "      <td>33.662500</td>\n",
              "      <td>137.538304</td>\n",
              "    </tr>\n",
              "    <tr>\n",
              "      <th>2</th>\n",
              "      <td>RG Sharma</td>\n",
              "      <td>4902</td>\n",
              "      <td>161</td>\n",
              "      <td>3742</td>\n",
              "      <td>30.447205</td>\n",
              "      <td>130.999466</td>\n",
              "    </tr>\n",
              "    <tr>\n",
              "      <th>3</th>\n",
              "      <td>DA Warner</td>\n",
              "      <td>4717</td>\n",
              "      <td>114</td>\n",
              "      <td>3292</td>\n",
              "      <td>41.377193</td>\n",
              "      <td>143.286756</td>\n",
              "    </tr>\n",
              "    <tr>\n",
              "      <th>4</th>\n",
              "      <td>S Dhawan</td>\n",
              "      <td>4601</td>\n",
              "      <td>137</td>\n",
              "      <td>3665</td>\n",
              "      <td>33.583942</td>\n",
              "      <td>125.538881</td>\n",
              "    </tr>\n",
              "    <tr>\n",
              "      <th>5</th>\n",
              "      <td>CH Gayle</td>\n",
              "      <td>4525</td>\n",
              "      <td>110</td>\n",
              "      <td>2972</td>\n",
              "      <td>41.136364</td>\n",
              "      <td>152.254374</td>\n",
              "    </tr>\n",
              "    <tr>\n",
              "      <th>6</th>\n",
              "      <td>MS Dhoni</td>\n",
              "      <td>4450</td>\n",
              "      <td>118</td>\n",
              "      <td>3206</td>\n",
              "      <td>37.711864</td>\n",
              "      <td>138.802246</td>\n",
              "    </tr>\n",
              "    <tr>\n",
              "      <th>7</th>\n",
              "      <td>RV Uthappa</td>\n",
              "      <td>4420</td>\n",
              "      <td>156</td>\n",
              "      <td>3381</td>\n",
              "      <td>28.333333</td>\n",
              "      <td>130.730553</td>\n",
              "    </tr>\n",
              "    <tr>\n",
              "      <th>8</th>\n",
              "      <td>AB de Villiers</td>\n",
              "      <td>4414</td>\n",
              "      <td>104</td>\n",
              "      <td>2902</td>\n",
              "      <td>42.442308</td>\n",
              "      <td>152.101999</td>\n",
              "    </tr>\n",
              "    <tr>\n",
              "      <th>9</th>\n",
              "      <td>G Gambhir</td>\n",
              "      <td>4219</td>\n",
              "      <td>134</td>\n",
              "      <td>3400</td>\n",
              "      <td>31.485075</td>\n",
              "      <td>124.088235</td>\n",
              "    </tr>\n",
              "  </tbody>\n",
              "</table>\n",
              "</div>"
            ],
            "text/plain": [
              "          batsman  total_runs  out  numberofballs    average  strikerate\n",
              "0         V Kohli        5426  152           4111  35.697368  131.987351\n",
              "1        SK Raina        5386  160           3916  33.662500  137.538304\n",
              "2       RG Sharma        4902  161           3742  30.447205  130.999466\n",
              "3       DA Warner        4717  114           3292  41.377193  143.286756\n",
              "4        S Dhawan        4601  137           3665  33.583942  125.538881\n",
              "5        CH Gayle        4525  110           2972  41.136364  152.254374\n",
              "6        MS Dhoni        4450  118           3206  37.711864  138.802246\n",
              "7      RV Uthappa        4420  156           3381  28.333333  130.730553\n",
              "8  AB de Villiers        4414  104           2902  42.442308  152.101999\n",
              "9       G Gambhir        4219  134           3400  31.485075  124.088235"
            ]
          },
          "metadata": {
            "tags": []
          },
          "execution_count": 18
        }
      ]
    },
    {
      "cell_type": "code",
      "metadata": {
        "id": "IVVDhj0j-3OZ"
      },
      "source": [
        "most_runs_by_batsman = most_runs_average_strikerate_df[\"total_runs\"].loc[:9]"
      ],
      "execution_count": 19,
      "outputs": []
    },
    {
      "cell_type": "code",
      "metadata": {
        "colab": {
          "base_uri": "https://localhost:8080/"
        },
        "id": "0D7lOzAO_FGS",
        "outputId": "b9e02bef-a9b6-4d26-f5e6-98b98849d0d8"
      },
      "source": [
        "most_runs_by_batsman"
      ],
      "execution_count": 20,
      "outputs": [
        {
          "output_type": "execute_result",
          "data": {
            "text/plain": [
              "0    5426\n",
              "1    5386\n",
              "2    4902\n",
              "3    4717\n",
              "4    4601\n",
              "5    4525\n",
              "6    4450\n",
              "7    4420\n",
              "8    4414\n",
              "9    4219\n",
              "Name: total_runs, dtype: int64"
            ]
          },
          "metadata": {
            "tags": []
          },
          "execution_count": 20
        }
      ]
    },
    {
      "cell_type": "code",
      "metadata": {
        "id": "jKgSaoGr_QOt"
      },
      "source": [
        "mostruns_batsman_name = most_runs_average_strikerate_df[\"batsman\"].loc[:9]"
      ],
      "execution_count": 21,
      "outputs": []
    },
    {
      "cell_type": "code",
      "metadata": {
        "colab": {
          "base_uri": "https://localhost:8080/"
        },
        "id": "4xOoIXho_a8n",
        "outputId": "b6c124c1-a2b4-44ff-8729-d289bdc2d577"
      },
      "source": [
        "mostruns_batsman_name"
      ],
      "execution_count": 22,
      "outputs": [
        {
          "output_type": "execute_result",
          "data": {
            "text/plain": [
              "0           V Kohli\n",
              "1          SK Raina\n",
              "2         RG Sharma\n",
              "3         DA Warner\n",
              "4          S Dhawan\n",
              "5          CH Gayle\n",
              "6          MS Dhoni\n",
              "7        RV Uthappa\n",
              "8    AB de Villiers\n",
              "9         G Gambhir\n",
              "Name: batsman, dtype: object"
            ]
          },
          "metadata": {
            "tags": []
          },
          "execution_count": 22
        }
      ]
    },
    {
      "cell_type": "code",
      "metadata": {
        "colab": {
          "base_uri": "https://localhost:8080/",
          "height": 709
        },
        "id": "RNQ5OulU4KW_",
        "outputId": "26b424c0-a100-4e2b-9e35-ddadb3ba959d"
      },
      "source": [
        "# Create the figure object(Most Runs By the Batsman)\r\n",
        "\r\n",
        "plt.rcParams['figure.figsize'] = (15, 10)\r\n",
        "plt.title(\"Most Runs By the Batsman\",fontsize = 20)\r\n",
        "plt.yticks(ticks = [x for x in range(0,6000,500)])\r\n",
        "plt.xticks(rotation = 90)\r\n",
        "plt.xlabel('Batsman',fontsize = 20)\r\n",
        "plt.ylabel('Runs',fontsize = 20)\r\n",
        "plt.bar(mostruns_batsman_name, most_runs_by_batsman, color='DARKTURQUOISE')"
      ],
      "execution_count": 23,
      "outputs": [
        {
          "output_type": "execute_result",
          "data": {
            "text/plain": [
              "<BarContainer object of 10 artists>"
            ]
          },
          "metadata": {
            "tags": []
          },
          "execution_count": 23
        },
        {
          "output_type": "display_data",
          "data": {
            "image/png": "[encoded data removed]",
            "text/plain": [
              "<Figure size 1080x720 with 1 Axes>"
            ]
          },
          "metadata": {
            "tags": [],
            "needs_background": "light"
          }
        }
      ]
    },
    {
      "cell_type": "markdown",
      "metadata": {
        "id": "Z7mn3YrgPT4X"
      },
      "source": [
        "**AVERAGE OF THE BATSMAN**"
      ]
    },
    {
      "cell_type": "code",
      "metadata": {
        "colab": {
          "base_uri": "https://localhost:8080/",
          "height": 728
        },
        "id": "CXy2jDb_m6PJ",
        "outputId": "4226b218-f492-48e3-a336-7b435cdb8533"
      },
      "source": [
        "batsman_average = pd.DataFrame(most_runs_average_strikerate_df.groupby(['batsman']).agg({'total_runs' : 'sum','out' : 'sum'}))\r\n",
        "batsman_average[\"average\"] = batsman_average['total_runs']/batsman_average['out']\r\n",
        "batsman_average = batsman_average.sort_values(by = 'average',ascending = False)\r\n",
        "batsman_average[batsman_average['total_runs'] > 2500]"
      ],
      "execution_count": 24,
      "outputs": [
        {
          "output_type": "execute_result",
          "data": {
            "text/html": [
              "<div>\n",
              "<style scoped>\n",
              "    .dataframe tbody tr th:only-of-type {\n",
              "        vertical-align: middle;\n",
              "    }\n",
              "\n",
              "    .dataframe tbody tr th {\n",
              "        vertical-align: top;\n",
              "    }\n",
              "\n",
              "    .dataframe thead th {\n",
              "        text-align: right;\n",
              "    }\n",
              "</style>\n",
              "<table border=\"1\" class=\"dataframe\">\n",
              "  <thead>\n",
              "    <tr style=\"text-align: right;\">\n",
              "      <th></th>\n",
              "      <th>total_runs</th>\n",
              "      <th>out</th>\n",
              "      <th>average</th>\n",
              "    </tr>\n",
              "    <tr>\n",
              "      <th>batsman</th>\n",
              "      <th></th>\n",
              "      <th></th>\n",
              "      <th></th>\n",
              "    </tr>\n",
              "  </thead>\n",
              "  <tbody>\n",
              "    <tr>\n",
              "      <th>AB de Villiers</th>\n",
              "      <td>4414</td>\n",
              "      <td>104</td>\n",
              "      <td>42.442308</td>\n",
              "    </tr>\n",
              "    <tr>\n",
              "      <th>DA Warner</th>\n",
              "      <td>4717</td>\n",
              "      <td>114</td>\n",
              "      <td>41.377193</td>\n",
              "    </tr>\n",
              "    <tr>\n",
              "      <th>CH Gayle</th>\n",
              "      <td>4525</td>\n",
              "      <td>110</td>\n",
              "      <td>41.136364</td>\n",
              "    </tr>\n",
              "    <tr>\n",
              "      <th>MS Dhoni</th>\n",
              "      <td>4450</td>\n",
              "      <td>118</td>\n",
              "      <td>37.711864</td>\n",
              "    </tr>\n",
              "    <tr>\n",
              "      <th>V Kohli</th>\n",
              "      <td>5426</td>\n",
              "      <td>152</td>\n",
              "      <td>35.697368</td>\n",
              "    </tr>\n",
              "    <tr>\n",
              "      <th>SK Raina</th>\n",
              "      <td>5386</td>\n",
              "      <td>160</td>\n",
              "      <td>33.662500</td>\n",
              "    </tr>\n",
              "    <tr>\n",
              "      <th>S Dhawan</th>\n",
              "      <td>4601</td>\n",
              "      <td>137</td>\n",
              "      <td>33.583942</td>\n",
              "    </tr>\n",
              "    <tr>\n",
              "      <th>AM Rahane</th>\n",
              "      <td>3834</td>\n",
              "      <td>117</td>\n",
              "      <td>32.769231</td>\n",
              "    </tr>\n",
              "    <tr>\n",
              "      <th>G Gambhir</th>\n",
              "      <td>4219</td>\n",
              "      <td>134</td>\n",
              "      <td>31.485075</td>\n",
              "    </tr>\n",
              "    <tr>\n",
              "      <th>SR Watson</th>\n",
              "      <td>3590</td>\n",
              "      <td>115</td>\n",
              "      <td>31.217391</td>\n",
              "    </tr>\n",
              "    <tr>\n",
              "      <th>RG Sharma</th>\n",
              "      <td>4902</td>\n",
              "      <td>161</td>\n",
              "      <td>30.447205</td>\n",
              "    </tr>\n",
              "    <tr>\n",
              "      <th>MK Pandey</th>\n",
              "      <td>2855</td>\n",
              "      <td>95</td>\n",
              "      <td>30.052632</td>\n",
              "    </tr>\n",
              "    <tr>\n",
              "      <th>YK Pathan</th>\n",
              "      <td>3222</td>\n",
              "      <td>110</td>\n",
              "      <td>29.290909</td>\n",
              "    </tr>\n",
              "    <tr>\n",
              "      <th>AT Rayudu</th>\n",
              "      <td>3313</td>\n",
              "      <td>114</td>\n",
              "      <td>29.061404</td>\n",
              "    </tr>\n",
              "    <tr>\n",
              "      <th>RV Uthappa</th>\n",
              "      <td>4420</td>\n",
              "      <td>156</td>\n",
              "      <td>28.333333</td>\n",
              "    </tr>\n",
              "    <tr>\n",
              "      <th>M Vijay</th>\n",
              "      <td>2589</td>\n",
              "      <td>93</td>\n",
              "      <td>27.838710</td>\n",
              "    </tr>\n",
              "    <tr>\n",
              "      <th>V Sehwag</th>\n",
              "      <td>2728</td>\n",
              "      <td>98</td>\n",
              "      <td>27.836735</td>\n",
              "    </tr>\n",
              "    <tr>\n",
              "      <th>BB McCullum</th>\n",
              "      <td>2886</td>\n",
              "      <td>106</td>\n",
              "      <td>27.226415</td>\n",
              "    </tr>\n",
              "    <tr>\n",
              "      <th>KA Pollard</th>\n",
              "      <td>2772</td>\n",
              "      <td>102</td>\n",
              "      <td>27.176471</td>\n",
              "    </tr>\n",
              "    <tr>\n",
              "      <th>KD Karthik</th>\n",
              "      <td>3669</td>\n",
              "      <td>138</td>\n",
              "      <td>26.586957</td>\n",
              "    </tr>\n",
              "    <tr>\n",
              "      <th>Yuvraj Singh</th>\n",
              "      <td>2755</td>\n",
              "      <td>109</td>\n",
              "      <td>25.275229</td>\n",
              "    </tr>\n",
              "    <tr>\n",
              "      <th>PA Patel</th>\n",
              "      <td>2864</td>\n",
              "      <td>127</td>\n",
              "      <td>22.551181</td>\n",
              "    </tr>\n",
              "  </tbody>\n",
              "</table>\n",
              "</div>"
            ],
            "text/plain": [
              "                total_runs  out    average\n",
              "batsman                                   \n",
              "AB de Villiers        4414  104  42.442308\n",
              "DA Warner             4717  114  41.377193\n",
              "CH Gayle              4525  110  41.136364\n",
              "MS Dhoni              4450  118  37.711864\n",
              "V Kohli               5426  152  35.697368\n",
              "SK Raina              5386  160  33.662500\n",
              "S Dhawan              4601  137  33.583942\n",
              "AM Rahane             3834  117  32.769231\n",
              "G Gambhir             4219  134  31.485075\n",
              "SR Watson             3590  115  31.217391\n",
              "RG Sharma             4902  161  30.447205\n",
              "MK Pandey             2855   95  30.052632\n",
              "YK Pathan             3222  110  29.290909\n",
              "AT Rayudu             3313  114  29.061404\n",
              "RV Uthappa            4420  156  28.333333\n",
              "M Vijay               2589   93  27.838710\n",
              "V Sehwag              2728   98  27.836735\n",
              "BB McCullum           2886  106  27.226415\n",
              "KA Pollard            2772  102  27.176471\n",
              "KD Karthik            3669  138  26.586957\n",
              "Yuvraj Singh          2755  109  25.275229\n",
              "PA Patel              2864  127  22.551181"
            ]
          },
          "metadata": {
            "tags": []
          },
          "execution_count": 24
        }
      ]
    },
    {
      "cell_type": "code",
      "metadata": {
        "colab": {
          "base_uri": "https://localhost:8080/",
          "height": 583
        },
        "id": "SrGFHy_Zm6Qi",
        "outputId": "8bd4892d-b37f-46de-d50b-928be0114d07"
      },
      "source": [
        "# Create the figure object(Most Average By the Batsman)\r\n",
        "\r\n",
        "plt.rcParams['figure.figsize'] = 20,8\r\n",
        "colors = (np.linspace(0,1,len(batsman_average[batsman_average['total_runs'] > 2500])))\r\n",
        "batsman_average[batsman_average['total_runs'] > 2500].plot(kind = 'bar',y = \"average\", color = 'grey',legend = '',fontsize = 10)\r\n",
        "plt.title(\"Most Average By the Batsman\",fontsize = 20)\r\n",
        "plt.xlabel('Batsman',fontsize = 20)\r\n",
        "plt.ylabel('Average',fontsize = 20)\r\n",
        "plt.show()"
      ],
      "execution_count": 25,
      "outputs": [
        {
          "output_type": "display_data",
          "data": {
            "image/png": "[encoded data removed]",
            "text/plain": [
              "<Figure size 1440x576 with 1 Axes>"
            ]
          },
          "metadata": {
            "tags": [],
            "needs_background": "light"
          }
        }
      ]
    },
    {
      "cell_type": "markdown",
      "metadata": {
        "id": "SYCiVPC8qhTR"
      },
      "source": [
        "**MOST STRIKE RATE BY THE BATSMAN**"
      ]
    },
    {
      "cell_type": "code",
      "metadata": {
        "colab": {
          "base_uri": "https://localhost:8080/",
          "height": 728
        },
        "id": "-pz2uKzHm6UE",
        "outputId": "275dbb25-ffb5-43da-d97e-927f066dc859"
      },
      "source": [
        "batsman_strikerate = pd.DataFrame(most_runs_average_strikerate_df.groupby(['batsman']).agg({'total_runs' : 'sum','numberofballs' : 'sum'}))\r\n",
        "batsman_strikerate['strikerate'] = batsman_strikerate['total_runs']/batsman_strikerate['numberofballs']*100\r\n",
        "batsman_strikerate = batsman_strikerate.sort_values(by ='strikerate' , ascending = False)\r\n",
        "batsman_strikerate[batsman_strikerate['total_runs'] > 2500]\r\n",
        "# We have taken runs greater then 2500 So that we take a significant amount of runs"
      ],
      "execution_count": 26,
      "outputs": [
        {
          "output_type": "execute_result",
          "data": {
            "text/html": [
              "<div>\n",
              "<style scoped>\n",
              "    .dataframe tbody tr th:only-of-type {\n",
              "        vertical-align: middle;\n",
              "    }\n",
              "\n",
              "    .dataframe tbody tr th {\n",
              "        vertical-align: top;\n",
              "    }\n",
              "\n",
              "    .dataframe thead th {\n",
              "        text-align: right;\n",
              "    }\n",
              "</style>\n",
              "<table border=\"1\" class=\"dataframe\">\n",
              "  <thead>\n",
              "    <tr style=\"text-align: right;\">\n",
              "      <th></th>\n",
              "      <th>total_runs</th>\n",
              "      <th>numberofballs</th>\n",
              "      <th>strikerate</th>\n",
              "    </tr>\n",
              "    <tr>\n",
              "      <th>batsman</th>\n",
              "      <th></th>\n",
              "      <th></th>\n",
              "      <th></th>\n",
              "    </tr>\n",
              "  </thead>\n",
              "  <tbody>\n",
              "    <tr>\n",
              "      <th>V Sehwag</th>\n",
              "      <td>2728</td>\n",
              "      <td>1746</td>\n",
              "      <td>156.242841</td>\n",
              "    </tr>\n",
              "    <tr>\n",
              "      <th>CH Gayle</th>\n",
              "      <td>4525</td>\n",
              "      <td>2972</td>\n",
              "      <td>152.254374</td>\n",
              "    </tr>\n",
              "    <tr>\n",
              "      <th>AB de Villiers</th>\n",
              "      <td>4414</td>\n",
              "      <td>2902</td>\n",
              "      <td>152.101999</td>\n",
              "    </tr>\n",
              "    <tr>\n",
              "      <th>KA Pollard</th>\n",
              "      <td>2772</td>\n",
              "      <td>1879</td>\n",
              "      <td>147.525279</td>\n",
              "    </tr>\n",
              "    <tr>\n",
              "      <th>YK Pathan</th>\n",
              "      <td>3222</td>\n",
              "      <td>2240</td>\n",
              "      <td>143.839286</td>\n",
              "    </tr>\n",
              "    <tr>\n",
              "      <th>DA Warner</th>\n",
              "      <td>4717</td>\n",
              "      <td>3292</td>\n",
              "      <td>143.286756</td>\n",
              "    </tr>\n",
              "    <tr>\n",
              "      <th>SR Watson</th>\n",
              "      <td>3590</td>\n",
              "      <td>2566</td>\n",
              "      <td>139.906469</td>\n",
              "    </tr>\n",
              "    <tr>\n",
              "      <th>MS Dhoni</th>\n",
              "      <td>4450</td>\n",
              "      <td>3206</td>\n",
              "      <td>138.802246</td>\n",
              "    </tr>\n",
              "    <tr>\n",
              "      <th>SK Raina</th>\n",
              "      <td>5386</td>\n",
              "      <td>3916</td>\n",
              "      <td>137.538304</td>\n",
              "    </tr>\n",
              "    <tr>\n",
              "      <th>BB McCullum</th>\n",
              "      <td>2886</td>\n",
              "      <td>2185</td>\n",
              "      <td>132.082380</td>\n",
              "    </tr>\n",
              "    <tr>\n",
              "      <th>V Kohli</th>\n",
              "      <td>5426</td>\n",
              "      <td>4111</td>\n",
              "      <td>131.987351</td>\n",
              "    </tr>\n",
              "    <tr>\n",
              "      <th>RG Sharma</th>\n",
              "      <td>4902</td>\n",
              "      <td>3742</td>\n",
              "      <td>130.999466</td>\n",
              "    </tr>\n",
              "    <tr>\n",
              "      <th>RV Uthappa</th>\n",
              "      <td>4420</td>\n",
              "      <td>3381</td>\n",
              "      <td>130.730553</td>\n",
              "    </tr>\n",
              "    <tr>\n",
              "      <th>KD Karthik</th>\n",
              "      <td>3669</td>\n",
              "      <td>2813</td>\n",
              "      <td>130.430146</td>\n",
              "    </tr>\n",
              "    <tr>\n",
              "      <th>Yuvraj Singh</th>\n",
              "      <td>2755</td>\n",
              "      <td>2121</td>\n",
              "      <td>129.891561</td>\n",
              "    </tr>\n",
              "    <tr>\n",
              "      <th>AT Rayudu</th>\n",
              "      <td>3313</td>\n",
              "      <td>2616</td>\n",
              "      <td>126.643731</td>\n",
              "    </tr>\n",
              "    <tr>\n",
              "      <th>S Dhawan</th>\n",
              "      <td>4601</td>\n",
              "      <td>3665</td>\n",
              "      <td>125.538881</td>\n",
              "    </tr>\n",
              "    <tr>\n",
              "      <th>G Gambhir</th>\n",
              "      <td>4219</td>\n",
              "      <td>3400</td>\n",
              "      <td>124.088235</td>\n",
              "    </tr>\n",
              "    <tr>\n",
              "      <th>M Vijay</th>\n",
              "      <td>2589</td>\n",
              "      <td>2104</td>\n",
              "      <td>123.051331</td>\n",
              "    </tr>\n",
              "    <tr>\n",
              "      <th>AM Rahane</th>\n",
              "      <td>3834</td>\n",
              "      <td>3133</td>\n",
              "      <td>122.374721</td>\n",
              "    </tr>\n",
              "    <tr>\n",
              "      <th>PA Patel</th>\n",
              "      <td>2864</td>\n",
              "      <td>2352</td>\n",
              "      <td>121.768707</td>\n",
              "    </tr>\n",
              "    <tr>\n",
              "      <th>MK Pandey</th>\n",
              "      <td>2855</td>\n",
              "      <td>2352</td>\n",
              "      <td>121.386054</td>\n",
              "    </tr>\n",
              "  </tbody>\n",
              "</table>\n",
              "</div>"
            ],
            "text/plain": [
              "                total_runs  numberofballs  strikerate\n",
              "batsman                                              \n",
              "V Sehwag              2728           1746  156.242841\n",
              "CH Gayle              4525           2972  152.254374\n",
              "AB de Villiers        4414           2902  152.101999\n",
              "KA Pollard            2772           1879  147.525279\n",
              "YK Pathan             3222           2240  143.839286\n",
              "DA Warner             4717           3292  143.286756\n",
              "SR Watson             3590           2566  139.906469\n",
              "MS Dhoni              4450           3206  138.802246\n",
              "SK Raina              5386           3916  137.538304\n",
              "BB McCullum           2886           2185  132.082380\n",
              "V Kohli               5426           4111  131.987351\n",
              "RG Sharma             4902           3742  130.999466\n",
              "RV Uthappa            4420           3381  130.730553\n",
              "KD Karthik            3669           2813  130.430146\n",
              "Yuvraj Singh          2755           2121  129.891561\n",
              "AT Rayudu             3313           2616  126.643731\n",
              "S Dhawan              4601           3665  125.538881\n",
              "G Gambhir             4219           3400  124.088235\n",
              "M Vijay               2589           2104  123.051331\n",
              "AM Rahane             3834           3133  122.374721\n",
              "PA Patel              2864           2352  121.768707\n",
              "MK Pandey             2855           2352  121.386054"
            ]
          },
          "metadata": {
            "tags": []
          },
          "execution_count": 26
        }
      ]
    },
    {
      "cell_type": "code",
      "metadata": {
        "colab": {
          "base_uri": "https://localhost:8080/",
          "height": 692
        },
        "id": "fZCBpvgGm6Vo",
        "outputId": "5a162e29-d3b5-4f30-dac3-04ad6104dd2f"
      },
      "source": [
        "## Create the figure object(Most Strikerate By the Batsman)\r\n",
        "\r\n",
        "plt.rcParams['figure.figsize'] = 20,10\r\n",
        "colors = (np.linspace(0,1,len(batsman_strikerate[batsman_strikerate['total_runs'] > 2500])))\r\n",
        "batsman_strikerate[batsman_strikerate['total_runs'] > 2500].plot(kind = 'bar',y = \"strikerate\", color = 'orange',legend = '',fontsize = 10)\r\n",
        "plt.title(\"Most Strikerate By the Batsman\",fontsize = 20)\r\n",
        "plt.xlabel('Batsman',fontsize = 20)\r\n",
        "plt.ylabel('Strike Rate',fontsize = 20)\r\n",
        "plt.show()\r\n"
      ],
      "execution_count": 27,
      "outputs": [
        {
          "output_type": "display_data",
          "data": {
            "image/png": "[encoded data removed]",
            "text/plain": [
              "<Figure size 1440x720 with 1 Axes>"
            ]
          },
          "metadata": {
            "tags": [],
            "needs_background": "light"
          }
        }
      ]
    },
    {
      "cell_type": "markdown",
      "metadata": {
        "id": "DP9hSgi8zzcr"
      },
      "source": [
        "#NUMBER OF WICKETS TAKEN BY THE BOWLER\r\n",
        "\r\n",
        "**Bowling, in cricket, is the action of propelling the ball toward the wicket defended by a batsman. A player skilled at bowling is called a bowler; a bowler who is also a competent batsman is known as an all-rounder - Wikipedia**\r\n",
        "\r\n",
        "**A bowler is said to have taken wickets for himself when the dismissal kinds are as follows:**\r\n",
        "> caught\r\n",
        "\r\n",
        "> bowled\r\n",
        "\r\n",
        "> lbw\r\n",
        "\r\n",
        "> caught and bowled\r\n",
        "\r\n",
        "> stumped\r\n",
        "\r\n",
        "**We need to create a new DataFrame say bowlers, and get the count of the above dismissal grouped by a player(bowler). Our target is to get all the bowlers who has taken 100 or more wickets.**"
      ]
    },
    {
      "cell_type": "code",
      "metadata": {
        "colab": {
          "base_uri": "https://localhost:8080/"
        },
        "id": "bidJgG39051-",
        "outputId": "01283948-7bcd-44c8-bb3e-3ea463c0464c"
      },
      "source": [
        "deliveries_df.info()"
      ],
      "execution_count": 28,
      "outputs": [
        {
          "output_type": "stream",
          "text": [
            "<class 'pandas.core.frame.DataFrame'>\n",
            "RangeIndex: 179078 entries, 0 to 179077\n",
            "Data columns (total 21 columns):\n",
            " #   Column            Non-Null Count   Dtype \n",
            "---  ------            --------------   ----- \n",
            " 0   match_id          179078 non-null  int64 \n",
            " 1   inning            179078 non-null  int64 \n",
            " 2   batting_team      179078 non-null  object\n",
            " 3   bowling_team      179078 non-null  object\n",
            " 4   over              179078 non-null  int64 \n",
            " 5   ball              179078 non-null  int64 \n",
            " 6   batsman           179078 non-null  object\n",
            " 7   non_striker       179078 non-null  object\n",
            " 8   bowler            179078 non-null  object\n",
            " 9   is_super_over     179078 non-null  int64 \n",
            " 10  wide_runs         179078 non-null  int64 \n",
            " 11  bye_runs          179078 non-null  int64 \n",
            " 12  legbye_runs       179078 non-null  int64 \n",
            " 13  noball_runs       179078 non-null  int64 \n",
            " 14  penalty_runs      179078 non-null  int64 \n",
            " 15  batsman_runs      179078 non-null  int64 \n",
            " 16  extra_runs        179078 non-null  int64 \n",
            " 17  total_runs        179078 non-null  int64 \n",
            " 18  player_dismissed  8834 non-null    object\n",
            " 19  dismissal_kind    8834 non-null    object\n",
            " 20  fielder           6448 non-null    object\n",
            "dtypes: int64(13), object(8)\n",
            "memory usage: 28.7+ MB\n"
          ],
          "name": "stdout"
        }
      ]
    },
    {
      "cell_type": "code",
      "metadata": {
        "colab": {
          "base_uri": "https://localhost:8080/",
          "height": 304
        },
        "id": "ZBHpDUns16N1",
        "outputId": "b48c9798-efce-48a9-aba9-ad147862adc4"
      },
      "source": [
        "deliveries_df.describe()"
      ],
      "execution_count": 29,
      "outputs": [
        {
          "output_type": "execute_result",
          "data": {
            "text/html": [
              "<div>\n",
              "<style scoped>\n",
              "    .dataframe tbody tr th:only-of-type {\n",
              "        vertical-align: middle;\n",
              "    }\n",
              "\n",
              "    .dataframe tbody tr th {\n",
              "        vertical-align: top;\n",
              "    }\n",
              "\n",
              "    .dataframe thead th {\n",
              "        text-align: right;\n",
              "    }\n",
              "</style>\n",
              "<table border=\"1\" class=\"dataframe\">\n",
              "  <thead>\n",
              "    <tr style=\"text-align: right;\">\n",
              "      <th></th>\n",
              "      <th>match_id</th>\n",
              "      <th>inning</th>\n",
              "      <th>over</th>\n",
              "      <th>ball</th>\n",
              "      <th>is_super_over</th>\n",
              "      <th>wide_runs</th>\n",
              "      <th>bye_runs</th>\n",
              "      <th>legbye_runs</th>\n",
              "      <th>noball_runs</th>\n",
              "      <th>penalty_runs</th>\n",
              "      <th>batsman_runs</th>\n",
              "      <th>extra_runs</th>\n",
              "      <th>total_runs</th>\n",
              "    </tr>\n",
              "  </thead>\n",
              "  <tbody>\n",
              "    <tr>\n",
              "      <th>count</th>\n",
              "      <td>179078.000000</td>\n",
              "      <td>179078.000000</td>\n",
              "      <td>179078.000000</td>\n",
              "      <td>179078.000000</td>\n",
              "      <td>179078.000000</td>\n",
              "      <td>179078.000000</td>\n",
              "      <td>179078.000000</td>\n",
              "      <td>179078.000000</td>\n",
              "      <td>179078.000000</td>\n",
              "      <td>179078.000000</td>\n",
              "      <td>179078.000000</td>\n",
              "      <td>179078.000000</td>\n",
              "      <td>179078.000000</td>\n",
              "    </tr>\n",
              "    <tr>\n",
              "      <th>mean</th>\n",
              "      <td>1802.252957</td>\n",
              "      <td>1.482952</td>\n",
              "      <td>10.162488</td>\n",
              "      <td>3.615587</td>\n",
              "      <td>0.000452</td>\n",
              "      <td>0.036721</td>\n",
              "      <td>0.004936</td>\n",
              "      <td>0.021136</td>\n",
              "      <td>0.004183</td>\n",
              "      <td>0.000056</td>\n",
              "      <td>1.246864</td>\n",
              "      <td>0.067032</td>\n",
              "      <td>1.313897</td>\n",
              "    </tr>\n",
              "    <tr>\n",
              "      <th>std</th>\n",
              "      <td>3472.322805</td>\n",
              "      <td>0.502074</td>\n",
              "      <td>5.677684</td>\n",
              "      <td>1.806966</td>\n",
              "      <td>0.021263</td>\n",
              "      <td>0.251161</td>\n",
              "      <td>0.116480</td>\n",
              "      <td>0.194908</td>\n",
              "      <td>0.070492</td>\n",
              "      <td>0.016709</td>\n",
              "      <td>1.608270</td>\n",
              "      <td>0.342553</td>\n",
              "      <td>1.605422</td>\n",
              "    </tr>\n",
              "    <tr>\n",
              "      <th>min</th>\n",
              "      <td>1.000000</td>\n",
              "      <td>1.000000</td>\n",
              "      <td>1.000000</td>\n",
              "      <td>1.000000</td>\n",
              "      <td>0.000000</td>\n",
              "      <td>0.000000</td>\n",
              "      <td>0.000000</td>\n",
              "      <td>0.000000</td>\n",
              "      <td>0.000000</td>\n",
              "      <td>0.000000</td>\n",
              "      <td>0.000000</td>\n",
              "      <td>0.000000</td>\n",
              "      <td>0.000000</td>\n",
              "    </tr>\n",
              "    <tr>\n",
              "      <th>25%</th>\n",
              "      <td>190.000000</td>\n",
              "      <td>1.000000</td>\n",
              "      <td>5.000000</td>\n",
              "      <td>2.000000</td>\n",
              "      <td>0.000000</td>\n",
              "      <td>0.000000</td>\n",
              "      <td>0.000000</td>\n",
              "      <td>0.000000</td>\n",
              "      <td>0.000000</td>\n",
              "      <td>0.000000</td>\n",
              "      <td>0.000000</td>\n",
              "      <td>0.000000</td>\n",
              "      <td>0.000000</td>\n",
              "    </tr>\n",
              "    <tr>\n",
              "      <th>50%</th>\n",
              "      <td>379.000000</td>\n",
              "      <td>1.000000</td>\n",
              "      <td>10.000000</td>\n",
              "      <td>4.000000</td>\n",
              "      <td>0.000000</td>\n",
              "      <td>0.000000</td>\n",
              "      <td>0.000000</td>\n",
              "      <td>0.000000</td>\n",
              "      <td>0.000000</td>\n",
              "      <td>0.000000</td>\n",
              "      <td>1.000000</td>\n",
              "      <td>0.000000</td>\n",
              "      <td>1.000000</td>\n",
              "    </tr>\n",
              "    <tr>\n",
              "      <th>75%</th>\n",
              "      <td>567.000000</td>\n",
              "      <td>2.000000</td>\n",
              "      <td>15.000000</td>\n",
              "      <td>5.000000</td>\n",
              "      <td>0.000000</td>\n",
              "      <td>0.000000</td>\n",
              "      <td>0.000000</td>\n",
              "      <td>0.000000</td>\n",
              "      <td>0.000000</td>\n",
              "      <td>0.000000</td>\n",
              "      <td>1.000000</td>\n",
              "      <td>0.000000</td>\n",
              "      <td>1.000000</td>\n",
              "    </tr>\n",
              "    <tr>\n",
              "      <th>max</th>\n",
              "      <td>11415.000000</td>\n",
              "      <td>5.000000</td>\n",
              "      <td>20.000000</td>\n",
              "      <td>9.000000</td>\n",
              "      <td>1.000000</td>\n",
              "      <td>5.000000</td>\n",
              "      <td>4.000000</td>\n",
              "      <td>5.000000</td>\n",
              "      <td>5.000000</td>\n",
              "      <td>5.000000</td>\n",
              "      <td>7.000000</td>\n",
              "      <td>7.000000</td>\n",
              "      <td>10.000000</td>\n",
              "    </tr>\n",
              "  </tbody>\n",
              "</table>\n",
              "</div>"
            ],
            "text/plain": [
              "            match_id         inning  ...     extra_runs     total_runs\n",
              "count  179078.000000  179078.000000  ...  179078.000000  179078.000000\n",
              "mean     1802.252957       1.482952  ...       0.067032       1.313897\n",
              "std      3472.322805       0.502074  ...       0.342553       1.605422\n",
              "min         1.000000       1.000000  ...       0.000000       0.000000\n",
              "25%       190.000000       1.000000  ...       0.000000       0.000000\n",
              "50%       379.000000       1.000000  ...       0.000000       1.000000\n",
              "75%       567.000000       2.000000  ...       0.000000       1.000000\n",
              "max     11415.000000       5.000000  ...       7.000000      10.000000\n",
              "\n",
              "[8 rows x 13 columns]"
            ]
          },
          "metadata": {
            "tags": []
          },
          "execution_count": 29
        }
      ]
    },
    {
      "cell_type": "code",
      "metadata": {
        "colab": {
          "base_uri": "https://localhost:8080/",
          "height": 383
        },
        "id": "6WuEZX3x1_Ns",
        "outputId": "e91aec8c-7b2e-4392-fd9f-cf1ca7308855"
      },
      "source": [
        "deliveries_df.head()"
      ],
      "execution_count": 30,
      "outputs": [
        {
          "output_type": "execute_result",
          "data": {
            "text/html": [
              "<div>\n",
              "<style scoped>\n",
              "    .dataframe tbody tr th:only-of-type {\n",
              "        vertical-align: middle;\n",
              "    }\n",
              "\n",
              "    .dataframe tbody tr th {\n",
              "        vertical-align: top;\n",
              "    }\n",
              "\n",
              "    .dataframe thead th {\n",
              "        text-align: right;\n",
              "    }\n",
              "</style>\n",
              "<table border=\"1\" class=\"dataframe\">\n",
              "  <thead>\n",
              "    <tr style=\"text-align: right;\">\n",
              "      <th></th>\n",
              "      <th>match_id</th>\n",
              "      <th>inning</th>\n",
              "      <th>batting_team</th>\n",
              "      <th>bowling_team</th>\n",
              "      <th>over</th>\n",
              "      <th>ball</th>\n",
              "      <th>batsman</th>\n",
              "      <th>non_striker</th>\n",
              "      <th>bowler</th>\n",
              "      <th>is_super_over</th>\n",
              "      <th>wide_runs</th>\n",
              "      <th>bye_runs</th>\n",
              "      <th>legbye_runs</th>\n",
              "      <th>noball_runs</th>\n",
              "      <th>penalty_runs</th>\n",
              "      <th>batsman_runs</th>\n",
              "      <th>extra_runs</th>\n",
              "      <th>total_runs</th>\n",
              "      <th>player_dismissed</th>\n",
              "      <th>dismissal_kind</th>\n",
              "      <th>fielder</th>\n",
              "    </tr>\n",
              "  </thead>\n",
              "  <tbody>\n",
              "    <tr>\n",
              "      <th>0</th>\n",
              "      <td>1</td>\n",
              "      <td>1</td>\n",
              "      <td>Sunrisers Hyderabad</td>\n",
              "      <td>Royal Challengers Bangalore</td>\n",
              "      <td>1</td>\n",
              "      <td>1</td>\n",
              "      <td>DA Warner</td>\n",
              "      <td>S Dhawan</td>\n",
              "      <td>TS Mills</td>\n",
              "      <td>0</td>\n",
              "      <td>0</td>\n",
              "      <td>0</td>\n",
              "      <td>0</td>\n",
              "      <td>0</td>\n",
              "      <td>0</td>\n",
              "      <td>0</td>\n",
              "      <td>0</td>\n",
              "      <td>0</td>\n",
              "      <td>NaN</td>\n",
              "      <td>NaN</td>\n",
              "      <td>NaN</td>\n",
              "    </tr>\n",
              "    <tr>\n",
              "      <th>1</th>\n",
              "      <td>1</td>\n",
              "      <td>1</td>\n",
              "      <td>Sunrisers Hyderabad</td>\n",
              "      <td>Royal Challengers Bangalore</td>\n",
              "      <td>1</td>\n",
              "      <td>2</td>\n",
              "      <td>DA Warner</td>\n",
              "      <td>S Dhawan</td>\n",
              "      <td>TS Mills</td>\n",
              "      <td>0</td>\n",
              "      <td>0</td>\n",
              "      <td>0</td>\n",
              "      <td>0</td>\n",
              "      <td>0</td>\n",
              "      <td>0</td>\n",
              "      <td>0</td>\n",
              "      <td>0</td>\n",
              "      <td>0</td>\n",
              "      <td>NaN</td>\n",
              "      <td>NaN</td>\n",
              "      <td>NaN</td>\n",
              "    </tr>\n",
              "    <tr>\n",
              "      <th>2</th>\n",
              "      <td>1</td>\n",
              "      <td>1</td>\n",
              "      <td>Sunrisers Hyderabad</td>\n",
              "      <td>Royal Challengers Bangalore</td>\n",
              "      <td>1</td>\n",
              "      <td>3</td>\n",
              "      <td>DA Warner</td>\n",
              "      <td>S Dhawan</td>\n",
              "      <td>TS Mills</td>\n",
              "      <td>0</td>\n",
              "      <td>0</td>\n",
              "      <td>0</td>\n",
              "      <td>0</td>\n",
              "      <td>0</td>\n",
              "      <td>0</td>\n",
              "      <td>4</td>\n",
              "      <td>0</td>\n",
              "      <td>4</td>\n",
              "      <td>NaN</td>\n",
              "      <td>NaN</td>\n",
              "      <td>NaN</td>\n",
              "    </tr>\n",
              "    <tr>\n",
              "      <th>3</th>\n",
              "      <td>1</td>\n",
              "      <td>1</td>\n",
              "      <td>Sunrisers Hyderabad</td>\n",
              "      <td>Royal Challengers Bangalore</td>\n",
              "      <td>1</td>\n",
              "      <td>4</td>\n",
              "      <td>DA Warner</td>\n",
              "      <td>S Dhawan</td>\n",
              "      <td>TS Mills</td>\n",
              "      <td>0</td>\n",
              "      <td>0</td>\n",
              "      <td>0</td>\n",
              "      <td>0</td>\n",
              "      <td>0</td>\n",
              "      <td>0</td>\n",
              "      <td>0</td>\n",
              "      <td>0</td>\n",
              "      <td>0</td>\n",
              "      <td>NaN</td>\n",
              "      <td>NaN</td>\n",
              "      <td>NaN</td>\n",
              "    </tr>\n",
              "    <tr>\n",
              "      <th>4</th>\n",
              "      <td>1</td>\n",
              "      <td>1</td>\n",
              "      <td>Sunrisers Hyderabad</td>\n",
              "      <td>Royal Challengers Bangalore</td>\n",
              "      <td>1</td>\n",
              "      <td>5</td>\n",
              "      <td>DA Warner</td>\n",
              "      <td>S Dhawan</td>\n",
              "      <td>TS Mills</td>\n",
              "      <td>0</td>\n",
              "      <td>2</td>\n",
              "      <td>0</td>\n",
              "      <td>0</td>\n",
              "      <td>0</td>\n",
              "      <td>0</td>\n",
              "      <td>0</td>\n",
              "      <td>2</td>\n",
              "      <td>2</td>\n",
              "      <td>NaN</td>\n",
              "      <td>NaN</td>\n",
              "      <td>NaN</td>\n",
              "    </tr>\n",
              "  </tbody>\n",
              "</table>\n",
              "</div>"
            ],
            "text/plain": [
              "   match_id  inning  ... dismissal_kind fielder\n",
              "0         1       1  ...            NaN     NaN\n",
              "1         1       1  ...            NaN     NaN\n",
              "2         1       1  ...            NaN     NaN\n",
              "3         1       1  ...            NaN     NaN\n",
              "4         1       1  ...            NaN     NaN\n",
              "\n",
              "[5 rows x 21 columns]"
            ]
          },
          "metadata": {
            "tags": []
          },
          "execution_count": 30
        }
      ]
    },
    {
      "cell_type": "code",
      "metadata": {
        "id": "UwQryrT5yGWf",
        "colab": {
          "base_uri": "https://localhost:8080/",
          "height": 462
        },
        "outputId": "4ded5352-6220-47fb-feeb-7113e96a6bfd"
      },
      "source": [
        "bowlers = deliveries_df[['bowler','dismissal_kind']]\r\n",
        "bowlers = bowlers[(bowlers.dismissal_kind.isin(['caught', 'bowled', 'lbw', 'caught and bowled', 'stumped']))]\r\n",
        "bowlers = bowlers.groupby('bowler').count().reset_index()\r\n",
        "bowlers.rename(columns={'dismissal_kind':'no_of_wickets'}, inplace=True)\r\n",
        "bowlers = bowlers.sort_values(by='no_of_wickets', ascending=False)\r\n",
        "bowlers = bowlers[(bowlers.no_of_wickets>=100)]\r\n",
        "bowlers"
      ],
      "execution_count": 31,
      "outputs": [
        {
          "output_type": "execute_result",
          "data": {
            "text/html": [
              "<div>\n",
              "<style scoped>\n",
              "    .dataframe tbody tr th:only-of-type {\n",
              "        vertical-align: middle;\n",
              "    }\n",
              "\n",
              "    .dataframe tbody tr th {\n",
              "        vertical-align: top;\n",
              "    }\n",
              "\n",
              "    .dataframe thead th {\n",
              "        text-align: right;\n",
              "    }\n",
              "</style>\n",
              "<table border=\"1\" class=\"dataframe\">\n",
              "  <thead>\n",
              "    <tr style=\"text-align: right;\">\n",
              "      <th></th>\n",
              "      <th>bowler</th>\n",
              "      <th>no_of_wickets</th>\n",
              "    </tr>\n",
              "  </thead>\n",
              "  <tbody>\n",
              "    <tr>\n",
              "      <th>290</th>\n",
              "      <td>SL Malinga</td>\n",
              "      <td>170</td>\n",
              "    </tr>\n",
              "    <tr>\n",
              "      <th>6</th>\n",
              "      <td>A Mishra</td>\n",
              "      <td>156</td>\n",
              "    </tr>\n",
              "    <tr>\n",
              "      <th>110</th>\n",
              "      <td>Harbhajan Singh</td>\n",
              "      <td>149</td>\n",
              "    </tr>\n",
              "    <tr>\n",
              "      <th>227</th>\n",
              "      <td>PP Chawla</td>\n",
              "      <td>149</td>\n",
              "    </tr>\n",
              "    <tr>\n",
              "      <th>82</th>\n",
              "      <td>DJ Bravo</td>\n",
              "      <td>147</td>\n",
              "    </tr>\n",
              "    <tr>\n",
              "      <th>46</th>\n",
              "      <td>B Kumar</td>\n",
              "      <td>133</td>\n",
              "    </tr>\n",
              "    <tr>\n",
              "      <th>232</th>\n",
              "      <td>R Ashwin</td>\n",
              "      <td>125</td>\n",
              "    </tr>\n",
              "    <tr>\n",
              "      <th>296</th>\n",
              "      <td>SP Narine</td>\n",
              "      <td>122</td>\n",
              "    </tr>\n",
              "    <tr>\n",
              "      <th>326</th>\n",
              "      <td>UT Yadav</td>\n",
              "      <td>119</td>\n",
              "    </tr>\n",
              "    <tr>\n",
              "      <th>244</th>\n",
              "      <td>RA Jadeja</td>\n",
              "      <td>108</td>\n",
              "    </tr>\n",
              "    <tr>\n",
              "      <th>8</th>\n",
              "      <td>A Nehra</td>\n",
              "      <td>106</td>\n",
              "    </tr>\n",
              "    <tr>\n",
              "      <th>243</th>\n",
              "      <td>R Vinay Kumar</td>\n",
              "      <td>105</td>\n",
              "    </tr>\n",
              "    <tr>\n",
              "      <th>347</th>\n",
              "      <td>Z Khan</td>\n",
              "      <td>102</td>\n",
              "    </tr>\n",
              "    <tr>\n",
              "      <th>345</th>\n",
              "      <td>YS Chahal</td>\n",
              "      <td>100</td>\n",
              "    </tr>\n",
              "  </tbody>\n",
              "</table>\n",
              "</div>"
            ],
            "text/plain": [
              "              bowler  no_of_wickets\n",
              "290       SL Malinga            170\n",
              "6           A Mishra            156\n",
              "110  Harbhajan Singh            149\n",
              "227        PP Chawla            149\n",
              "82          DJ Bravo            147\n",
              "46           B Kumar            133\n",
              "232         R Ashwin            125\n",
              "296        SP Narine            122\n",
              "326         UT Yadav            119\n",
              "244        RA Jadeja            108\n",
              "8            A Nehra            106\n",
              "243    R Vinay Kumar            105\n",
              "347           Z Khan            102\n",
              "345        YS Chahal            100"
            ]
          },
          "metadata": {
            "tags": []
          },
          "execution_count": 31
        }
      ]
    },
    {
      "cell_type": "code",
      "metadata": {
        "colab": {
          "base_uri": "https://localhost:8080/",
          "height": 578
        },
        "id": "3_qp-9Yj2dKK",
        "outputId": "ae7a8b10-2fe4-471c-ad54-aa57d7800f0a"
      },
      "source": [
        "plt.figure(figsize=(15,8))\r\n",
        "plt.bar(bowlers.bowler, bowlers.no_of_wickets, color = 'maroon')\r\n",
        "plt.xticks(rotation=40)\r\n",
        "plt.ylim(90,180)\r\n",
        "plt.title('Bowlers having more than 100 wickets in IPL',fontsize = 20)\r\n",
        "plt.xlabel('Bowlers',fontsize = 20)\r\n",
        "plt.ylabel('No of wickets',fontsize = 20)\r\n",
        "plt.show()"
      ],
      "execution_count": 32,
      "outputs": [
        {
          "output_type": "display_data",
          "data": {
            "image/png": "[encoded data removed]",
            "text/plain": [
              "<Figure size 1080x576 with 1 Axes>"
            ]
          },
          "metadata": {
            "tags": [],
            "needs_background": "light"
          }
        }
      ]
    },
    {
      "cell_type": "markdown",
      "metadata": {
        "id": "gfiDctRKtIGc"
      },
      "source": [
        "#Let's look at the batting and bowling styles of IPL Players"
      ]
    },
    {
      "cell_type": "code",
      "metadata": {
        "colab": {
          "base_uri": "https://localhost:8080/"
        },
        "id": "c9wDdITqtgHP",
        "outputId": "4b11f806-6c4b-411c-ce8e-de2fe5d53464"
      },
      "source": [
        "players_df.info()"
      ],
      "execution_count": 33,
      "outputs": [
        {
          "output_type": "stream",
          "text": [
            "<class 'pandas.core.frame.DataFrame'>\n",
            "RangeIndex: 566 entries, 0 to 565\n",
            "Data columns (total 5 columns):\n",
            " #   Column         Non-Null Count  Dtype         \n",
            "---  ------         --------------  -----         \n",
            " 0   Player_Name    566 non-null    object        \n",
            " 1   DOB            471 non-null    datetime64[ns]\n",
            " 2   Batting_Hand   563 non-null    object        \n",
            " 3   Bowling_Skill  502 non-null    object        \n",
            " 4   Country        471 non-null    object        \n",
            "dtypes: datetime64[ns](1), object(4)\n",
            "memory usage: 22.2+ KB\n"
          ],
          "name": "stdout"
        }
      ]
    },
    {
      "cell_type": "code",
      "metadata": {
        "colab": {
          "base_uri": "https://localhost:8080/",
          "height": 278
        },
        "id": "jDtV4Yo4tjm0",
        "outputId": "01c27a99-83a9-449a-ab44-e0238faa833b"
      },
      "source": [
        "players_df.describe()"
      ],
      "execution_count": 34,
      "outputs": [
        {
          "output_type": "stream",
          "text": [
            "/usr/local/lib/python3.7/dist-packages/ipykernel_launcher.py:1: FutureWarning: Treating datetime data as categorical rather than numeric in `.describe` is deprecated and will be removed in a future version of pandas. Specify `datetime_is_numeric=True` to silence this warning and adopt the future behavior now.\n",
            "  \"\"\"Entry point for launching an IPython kernel.\n"
          ],
          "name": "stderr"
        },
        {
          "output_type": "execute_result",
          "data": {
            "text/html": [
              "<div>\n",
              "<style scoped>\n",
              "    .dataframe tbody tr th:only-of-type {\n",
              "        vertical-align: middle;\n",
              "    }\n",
              "\n",
              "    .dataframe tbody tr th {\n",
              "        vertical-align: top;\n",
              "    }\n",
              "\n",
              "    .dataframe thead th {\n",
              "        text-align: right;\n",
              "    }\n",
              "</style>\n",
              "<table border=\"1\" class=\"dataframe\">\n",
              "  <thead>\n",
              "    <tr style=\"text-align: right;\">\n",
              "      <th></th>\n",
              "      <th>Player_Name</th>\n",
              "      <th>DOB</th>\n",
              "      <th>Batting_Hand</th>\n",
              "      <th>Bowling_Skill</th>\n",
              "      <th>Country</th>\n",
              "    </tr>\n",
              "  </thead>\n",
              "  <tbody>\n",
              "    <tr>\n",
              "      <th>count</th>\n",
              "      <td>566</td>\n",
              "      <td>471</td>\n",
              "      <td>563</td>\n",
              "      <td>502</td>\n",
              "      <td>471</td>\n",
              "    </tr>\n",
              "    <tr>\n",
              "      <th>unique</th>\n",
              "      <td>566</td>\n",
              "      <td>457</td>\n",
              "      <td>3</td>\n",
              "      <td>16</td>\n",
              "      <td>11</td>\n",
              "    </tr>\n",
              "    <tr>\n",
              "      <th>top</th>\n",
              "      <td>P Amarnath</td>\n",
              "      <td>1987-04-30 00:00:00</td>\n",
              "      <td>Right_Hand</td>\n",
              "      <td>Right-arm medium</td>\n",
              "      <td>India</td>\n",
              "    </tr>\n",
              "    <tr>\n",
              "      <th>freq</th>\n",
              "      <td>1</td>\n",
              "      <td>3</td>\n",
              "      <td>373</td>\n",
              "      <td>107</td>\n",
              "      <td>264</td>\n",
              "    </tr>\n",
              "    <tr>\n",
              "      <th>first</th>\n",
              "      <td>NaN</td>\n",
              "      <td>1969-06-30 00:00:00</td>\n",
              "      <td>NaN</td>\n",
              "      <td>NaN</td>\n",
              "      <td>NaN</td>\n",
              "    </tr>\n",
              "    <tr>\n",
              "      <th>last</th>\n",
              "      <td>NaN</td>\n",
              "      <td>1998-07-18 00:00:00</td>\n",
              "      <td>NaN</td>\n",
              "      <td>NaN</td>\n",
              "      <td>NaN</td>\n",
              "    </tr>\n",
              "  </tbody>\n",
              "</table>\n",
              "</div>"
            ],
            "text/plain": [
              "       Player_Name                  DOB Batting_Hand     Bowling_Skill Country\n",
              "count          566                  471          563               502     471\n",
              "unique         566                  457            3                16      11\n",
              "top     P Amarnath  1987-04-30 00:00:00   Right_Hand  Right-arm medium   India\n",
              "freq             1                    3          373               107     264\n",
              "first          NaN  1969-06-30 00:00:00          NaN               NaN     NaN\n",
              "last           NaN  1998-07-18 00:00:00          NaN               NaN     NaN"
            ]
          },
          "metadata": {
            "tags": []
          },
          "execution_count": 34
        }
      ]
    },
    {
      "cell_type": "code",
      "metadata": {
        "colab": {
          "base_uri": "https://localhost:8080/",
          "height": 195
        },
        "id": "Le6Ws8Hstk8A",
        "outputId": "048ff4dc-db94-4b81-dfe3-6e031e1a27a3"
      },
      "source": [
        "players_df.head()"
      ],
      "execution_count": 35,
      "outputs": [
        {
          "output_type": "execute_result",
          "data": {
            "text/html": [
              "<div>\n",
              "<style scoped>\n",
              "    .dataframe tbody tr th:only-of-type {\n",
              "        vertical-align: middle;\n",
              "    }\n",
              "\n",
              "    .dataframe tbody tr th {\n",
              "        vertical-align: top;\n",
              "    }\n",
              "\n",
              "    .dataframe thead th {\n",
              "        text-align: right;\n",
              "    }\n",
              "</style>\n",
              "<table border=\"1\" class=\"dataframe\">\n",
              "  <thead>\n",
              "    <tr style=\"text-align: right;\">\n",
              "      <th></th>\n",
              "      <th>Player_Name</th>\n",
              "      <th>DOB</th>\n",
              "      <th>Batting_Hand</th>\n",
              "      <th>Bowling_Skill</th>\n",
              "      <th>Country</th>\n",
              "    </tr>\n",
              "  </thead>\n",
              "  <tbody>\n",
              "    <tr>\n",
              "      <th>0</th>\n",
              "      <td>A Ashish Reddy</td>\n",
              "      <td>1991-02-24</td>\n",
              "      <td>Right_Hand</td>\n",
              "      <td>Right-arm medium</td>\n",
              "      <td>India</td>\n",
              "    </tr>\n",
              "    <tr>\n",
              "      <th>1</th>\n",
              "      <td>A Chandila</td>\n",
              "      <td>1983-12-05</td>\n",
              "      <td>Right_Hand</td>\n",
              "      <td>Right-arm offbreak</td>\n",
              "      <td>India</td>\n",
              "    </tr>\n",
              "    <tr>\n",
              "      <th>2</th>\n",
              "      <td>A Chopra</td>\n",
              "      <td>1977-09-19</td>\n",
              "      <td>Right_Hand</td>\n",
              "      <td>Right-arm offbreak</td>\n",
              "      <td>India</td>\n",
              "    </tr>\n",
              "    <tr>\n",
              "      <th>3</th>\n",
              "      <td>A Choudhary</td>\n",
              "      <td>NaT</td>\n",
              "      <td>Right_hand</td>\n",
              "      <td>Left-arm fast-medium</td>\n",
              "      <td>NaN</td>\n",
              "    </tr>\n",
              "    <tr>\n",
              "      <th>4</th>\n",
              "      <td>A Dananjaya</td>\n",
              "      <td>NaT</td>\n",
              "      <td>Right_Hand</td>\n",
              "      <td>Right-arm offbreak</td>\n",
              "      <td>NaN</td>\n",
              "    </tr>\n",
              "  </tbody>\n",
              "</table>\n",
              "</div>"
            ],
            "text/plain": [
              "      Player_Name        DOB Batting_Hand         Bowling_Skill Country\n",
              "0  A Ashish Reddy 1991-02-24   Right_Hand      Right-arm medium   India\n",
              "1      A Chandila 1983-12-05   Right_Hand    Right-arm offbreak   India\n",
              "2        A Chopra 1977-09-19   Right_Hand    Right-arm offbreak   India\n",
              "3     A Choudhary        NaT   Right_hand  Left-arm fast-medium     NaN\n",
              "4     A Dananjaya        NaT   Right_Hand    Right-arm offbreak     NaN"
            ]
          },
          "metadata": {
            "tags": []
          },
          "execution_count": 35
        }
      ]
    },
    {
      "cell_type": "markdown",
      "metadata": {
        "id": "kDWHrxpOIjpW"
      },
      "source": [
        "#BATTING_HAND"
      ]
    },
    {
      "cell_type": "code",
      "metadata": {
        "id": "FPRpLFzILjoG"
      },
      "source": [
        "Battinghand = players_df[\"Batting_Hand\"]"
      ],
      "execution_count": 36,
      "outputs": []
    },
    {
      "cell_type": "code",
      "metadata": {
        "colab": {
          "base_uri": "https://localhost:8080/"
        },
        "id": "dqCiUCaPLlae",
        "outputId": "115bbd66-1560-4c9a-8532-bce595859575"
      },
      "source": [
        "Battinghand.describe()"
      ],
      "execution_count": 37,
      "outputs": [
        {
          "output_type": "execute_result",
          "data": {
            "text/plain": [
              "count            563\n",
              "unique             3\n",
              "top       Right_Hand\n",
              "freq             373\n",
              "Name: Batting_Hand, dtype: object"
            ]
          },
          "metadata": {
            "tags": []
          },
          "execution_count": 37
        }
      ]
    },
    {
      "cell_type": "code",
      "metadata": {
        "id": "LJMXePy7ygOd"
      },
      "source": [
        "players_df.replace(to_replace=' Right_Hand', value = 'Right_Hand', inplace=True)"
      ],
      "execution_count": 38,
      "outputs": []
    },
    {
      "cell_type": "code",
      "metadata": {
        "id": "SGpqa7sPQ_nN"
      },
      "source": [
        "players_df.replace(to_replace=' Left_hand bat', value = 'Left_Hand', inplace=True)"
      ],
      "execution_count": 39,
      "outputs": []
    },
    {
      "cell_type": "code",
      "metadata": {
        "id": "zSHEkgIltlEP"
      },
      "source": [
        "players_df.replace(to_replace='Right_hand', value = 'Right_Hand', inplace=True)"
      ],
      "execution_count": 40,
      "outputs": []
    },
    {
      "cell_type": "code",
      "metadata": {
        "colab": {
          "base_uri": "https://localhost:8080/",
          "height": 278
        },
        "id": "QRifHpDXPoic",
        "outputId": "ed21622b-86f8-48c3-9127-9d7261e1c1cb"
      },
      "source": [
        "players_df.describe()"
      ],
      "execution_count": 41,
      "outputs": [
        {
          "output_type": "stream",
          "text": [
            "/usr/local/lib/python3.7/dist-packages/ipykernel_launcher.py:1: FutureWarning: Treating datetime data as categorical rather than numeric in `.describe` is deprecated and will be removed in a future version of pandas. Specify `datetime_is_numeric=True` to silence this warning and adopt the future behavior now.\n",
            "  \"\"\"Entry point for launching an IPython kernel.\n"
          ],
          "name": "stderr"
        },
        {
          "output_type": "execute_result",
          "data": {
            "text/html": [
              "<div>\n",
              "<style scoped>\n",
              "    .dataframe tbody tr th:only-of-type {\n",
              "        vertical-align: middle;\n",
              "    }\n",
              "\n",
              "    .dataframe tbody tr th {\n",
              "        vertical-align: top;\n",
              "    }\n",
              "\n",
              "    .dataframe thead th {\n",
              "        text-align: right;\n",
              "    }\n",
              "</style>\n",
              "<table border=\"1\" class=\"dataframe\">\n",
              "  <thead>\n",
              "    <tr style=\"text-align: right;\">\n",
              "      <th></th>\n",
              "      <th>Player_Name</th>\n",
              "      <th>DOB</th>\n",
              "      <th>Batting_Hand</th>\n",
              "      <th>Bowling_Skill</th>\n",
              "      <th>Country</th>\n",
              "    </tr>\n",
              "  </thead>\n",
              "  <tbody>\n",
              "    <tr>\n",
              "      <th>count</th>\n",
              "      <td>566</td>\n",
              "      <td>471</td>\n",
              "      <td>563</td>\n",
              "      <td>502</td>\n",
              "      <td>471</td>\n",
              "    </tr>\n",
              "    <tr>\n",
              "      <th>unique</th>\n",
              "      <td>566</td>\n",
              "      <td>457</td>\n",
              "      <td>2</td>\n",
              "      <td>16</td>\n",
              "      <td>11</td>\n",
              "    </tr>\n",
              "    <tr>\n",
              "      <th>top</th>\n",
              "      <td>P Amarnath</td>\n",
              "      <td>1987-04-30 00:00:00</td>\n",
              "      <td>Right_Hand</td>\n",
              "      <td>Right-arm medium</td>\n",
              "      <td>India</td>\n",
              "    </tr>\n",
              "    <tr>\n",
              "      <th>freq</th>\n",
              "      <td>1</td>\n",
              "      <td>3</td>\n",
              "      <td>421</td>\n",
              "      <td>107</td>\n",
              "      <td>264</td>\n",
              "    </tr>\n",
              "    <tr>\n",
              "      <th>first</th>\n",
              "      <td>NaN</td>\n",
              "      <td>1969-06-30 00:00:00</td>\n",
              "      <td>NaN</td>\n",
              "      <td>NaN</td>\n",
              "      <td>NaN</td>\n",
              "    </tr>\n",
              "    <tr>\n",
              "      <th>last</th>\n",
              "      <td>NaN</td>\n",
              "      <td>1998-07-18 00:00:00</td>\n",
              "      <td>NaN</td>\n",
              "      <td>NaN</td>\n",
              "      <td>NaN</td>\n",
              "    </tr>\n",
              "  </tbody>\n",
              "</table>\n",
              "</div>"
            ],
            "text/plain": [
              "       Player_Name                  DOB Batting_Hand     Bowling_Skill Country\n",
              "count          566                  471          563               502     471\n",
              "unique         566                  457            2                16      11\n",
              "top     P Amarnath  1987-04-30 00:00:00   Right_Hand  Right-arm medium   India\n",
              "freq             1                    3          421               107     264\n",
              "first          NaN  1969-06-30 00:00:00          NaN               NaN     NaN\n",
              "last           NaN  1998-07-18 00:00:00          NaN               NaN     NaN"
            ]
          },
          "metadata": {
            "tags": []
          },
          "execution_count": 41
        }
      ]
    },
    {
      "cell_type": "code",
      "metadata": {
        "colab": {
          "base_uri": "https://localhost:8080/",
          "height": 467
        },
        "id": "WbSk8MflFfWV",
        "outputId": "6c2310b6-1f41-404b-eb16-71548cb7c885"
      },
      "source": [
        "plt.figure(figsize=(10,6))\r\n",
        "ax=sns.countplot(x='Batting_Hand', data=players_df, order=pd.value_counts(players_df['Batting_Hand']).iloc[:2].index)\r\n",
        "ax.set_xticklabels(ax.get_xticklabels(), rotation=90, ha=\"right\")\r\n",
        "plt.title('Batting Style',fontsize = 20)\r\n",
        "plt.xlabel('Batting_Hand',fontsize = 20)\r\n",
        "plt.ylabel('Count',fontsize = 20)\r\n",
        "plt.show()"
      ],
      "execution_count": 42,
      "outputs": [
        {
          "output_type": "display_data",
          "data": {
            "image/png": "[encoded data removed]",
            "text/plain": [
              "<Figure size 720x432 with 1 Axes>"
            ]
          },
          "metadata": {
            "tags": [],
            "needs_background": "light"
          }
        }
      ]
    },
    {
      "cell_type": "markdown",
      "metadata": {
        "id": "hVvSD-1LIn7r"
      },
      "source": [
        "#BOWLING SKILL"
      ]
    },
    {
      "cell_type": "code",
      "metadata": {
        "id": "FYUV9B9KIzYi"
      },
      "source": [
        "Bowlingskill = players_df[\"Bowling_Skill\"]"
      ],
      "execution_count": 43,
      "outputs": []
    },
    {
      "cell_type": "code",
      "metadata": {
        "colab": {
          "base_uri": "https://localhost:8080/"
        },
        "id": "y9ACs8BsI7jz",
        "outputId": "b3931772-e87f-4325-f128-648f46fe88ed"
      },
      "source": [
        "Bowlingskill.describe()"
      ],
      "execution_count": 44,
      "outputs": [
        {
          "output_type": "execute_result",
          "data": {
            "text/plain": [
              "count                  502\n",
              "unique                  16\n",
              "top       Right-arm medium\n",
              "freq                   107\n",
              "Name: Bowling_Skill, dtype: object"
            ]
          },
          "metadata": {
            "tags": []
          },
          "execution_count": 44
        }
      ]
    },
    {
      "cell_type": "code",
      "metadata": {
        "colab": {
          "base_uri": "https://localhost:8080/"
        },
        "id": "WihTvpC5Lgco",
        "outputId": "7b31dd7a-3ae4-4aa3-bbf9-da61b426a7d9"
      },
      "source": [
        "Bowlingskill.unique()"
      ],
      "execution_count": 45,
      "outputs": [
        {
          "output_type": "execute_result",
          "data": {
            "text/plain": [
              "array(['Right-arm medium', 'Right-arm offbreak', 'Left-arm fast-medium',\n",
              "       'Right-arm fast-medium', nan, 'Right-arm fast', 'Legbreak googly',\n",
              "       'Legbreak', 'Left-arm medium-fast', 'Slow left-arm orthodox',\n",
              "       'Right-arm medium-fast', 'Left-arm medium', 'Left-arm fast',\n",
              "       'Slow left-arm chinaman', 'Right-arm bowler', 'Right-arm Medium',\n",
              "       'Right-arm Fast'], dtype=object)"
            ]
          },
          "metadata": {
            "tags": []
          },
          "execution_count": 45
        }
      ]
    },
    {
      "cell_type": "code",
      "metadata": {
        "colab": {
          "base_uri": "https://localhost:8080/",
          "height": 278
        },
        "id": "n4Bdh9TENTmp",
        "outputId": "f8d71446-b5d3-439e-ab7c-9e9da67d16ea"
      },
      "source": [
        "players_df.replace(to_replace='Right-arm medium', value = 'Right-arm Medium', inplace=True)\r\n",
        "players_df.replace(to_replace='Right-arm fast', value = 'Right-arm Fast', inplace=True)\r\n",
        "players_df.replace(to_replace='Right-arm fast-medium', value = 'Right-arm medium-fast', inplace=True)\r\n",
        "players_df.replace(to_replace='Left-arm fast-medium', value = 'Left-arm medium-fast', inplace=True)\r\n",
        "players_df.describe()"
      ],
      "execution_count": 49,
      "outputs": [
        {
          "output_type": "stream",
          "text": [
            "/usr/local/lib/python3.7/dist-packages/ipykernel_launcher.py:5: FutureWarning: Treating datetime data as categorical rather than numeric in `.describe` is deprecated and will be removed in a future version of pandas. Specify `datetime_is_numeric=True` to silence this warning and adopt the future behavior now.\n",
            "  \"\"\"\n"
          ],
          "name": "stderr"
        },
        {
          "output_type": "execute_result",
          "data": {
            "text/html": [
              "<div>\n",
              "<style scoped>\n",
              "    .dataframe tbody tr th:only-of-type {\n",
              "        vertical-align: middle;\n",
              "    }\n",
              "\n",
              "    .dataframe tbody tr th {\n",
              "        vertical-align: top;\n",
              "    }\n",
              "\n",
              "    .dataframe thead th {\n",
              "        text-align: right;\n",
              "    }\n",
              "</style>\n",
              "<table border=\"1\" class=\"dataframe\">\n",
              "  <thead>\n",
              "    <tr style=\"text-align: right;\">\n",
              "      <th></th>\n",
              "      <th>Player_Name</th>\n",
              "      <th>DOB</th>\n",
              "      <th>Batting_Hand</th>\n",
              "      <th>Bowling_Skill</th>\n",
              "      <th>Country</th>\n",
              "    </tr>\n",
              "  </thead>\n",
              "  <tbody>\n",
              "    <tr>\n",
              "      <th>count</th>\n",
              "      <td>566</td>\n",
              "      <td>471</td>\n",
              "      <td>563</td>\n",
              "      <td>502</td>\n",
              "      <td>471</td>\n",
              "    </tr>\n",
              "    <tr>\n",
              "      <th>unique</th>\n",
              "      <td>566</td>\n",
              "      <td>457</td>\n",
              "      <td>2</td>\n",
              "      <td>12</td>\n",
              "      <td>11</td>\n",
              "    </tr>\n",
              "    <tr>\n",
              "      <th>top</th>\n",
              "      <td>P Amarnath</td>\n",
              "      <td>1987-04-30 00:00:00</td>\n",
              "      <td>Right_Hand</td>\n",
              "      <td>Right-arm Medium</td>\n",
              "      <td>India</td>\n",
              "    </tr>\n",
              "    <tr>\n",
              "      <th>freq</th>\n",
              "      <td>1</td>\n",
              "      <td>3</td>\n",
              "      <td>421</td>\n",
              "      <td>108</td>\n",
              "      <td>264</td>\n",
              "    </tr>\n",
              "    <tr>\n",
              "      <th>first</th>\n",
              "      <td>NaN</td>\n",
              "      <td>1969-06-30 00:00:00</td>\n",
              "      <td>NaN</td>\n",
              "      <td>NaN</td>\n",
              "      <td>NaN</td>\n",
              "    </tr>\n",
              "    <tr>\n",
              "      <th>last</th>\n",
              "      <td>NaN</td>\n",
              "      <td>1998-07-18 00:00:00</td>\n",
              "      <td>NaN</td>\n",
              "      <td>NaN</td>\n",
              "      <td>NaN</td>\n",
              "    </tr>\n",
              "  </tbody>\n",
              "</table>\n",
              "</div>"
            ],
            "text/plain": [
              "       Player_Name                  DOB Batting_Hand     Bowling_Skill Country\n",
              "count          566                  471          563               502     471\n",
              "unique         566                  457            2                12      11\n",
              "top     P Amarnath  1987-04-30 00:00:00   Right_Hand  Right-arm Medium   India\n",
              "freq             1                    3          421               108     264\n",
              "first          NaN  1969-06-30 00:00:00          NaN               NaN     NaN\n",
              "last           NaN  1998-07-18 00:00:00          NaN               NaN     NaN"
            ]
          },
          "metadata": {
            "tags": []
          },
          "execution_count": 49
        }
      ]
    },
    {
      "cell_type": "code",
      "metadata": {
        "colab": {
          "base_uri": "https://localhost:8080/",
          "height": 528
        },
        "id": "H6kJgB6fGLzZ",
        "outputId": "7e9c61fc-2ef4-4b09-f0b1-34efac963c89"
      },
      "source": [
        "#Bowling skill Graph\r\n",
        "\r\n",
        "plt.figure(figsize=(20,6))\r\n",
        "ax=sns.countplot(x='Bowling_Skill', data=players_df, order=pd.value_counts(players_df['Bowling_Skill']).iloc[:11].index)\r\n",
        "ax.set_xticklabels(ax.get_xticklabels(), rotation=90, ha=\"right\")\r\n",
        "plt.title('Bowling Style',fontsize = 20)\r\n",
        "plt.xlabel('Bowlers_Skill',fontsize = 20)\r\n",
        "plt.ylabel('Count',fontsize = 20)\r\n",
        "plt.show()"
      ],
      "execution_count": 52,
      "outputs": [
        {
          "output_type": "display_data",
          "data": {
            "image/png": "[encoded data removed]",
            "text/plain": [
              "<Figure size 1440x432 with 1 Axes>"
            ]
          },
          "metadata": {
            "tags": [],
            "needs_background": "light"
          }
        }
      ]
    },
    {
      "cell_type": "code",
      "metadata": {
        "id": "KY69jPp1W8dd"
      },
      "source": [
        ""
      ],
      "execution_count": 46,
      "outputs": []
    }
  ]
}