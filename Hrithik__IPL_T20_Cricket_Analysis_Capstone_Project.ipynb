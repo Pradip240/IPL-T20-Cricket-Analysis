{
  "nbformat": 4,
  "nbformat_minor": 0,
  "metadata": {
    "kernelspec": {
      "display_name": "Python 3",
      "language": "python",
      "name": "python3"
    },
    "language_info": {
      "codemirror_mode": {
        "name": "ipython",
        "version": 3
      },
      "file_extension": ".py",
      "mimetype": "text/x-python",
      "name": "python",
      "nbconvert_exporter": "python",
      "pygments_lexer": "ipython3",
      "version": "3.6.6"
    },
    "colab": {
      "name": "Hrithik__IPL T20 Cricket Analysis - Capstone Project.ipynb",
      "provenance": [],
      "collapsed_sections": [],
      "include_colab_link": true
    }
  },
  "cells": [
    {
      "cell_type": "markdown",
      "metadata": {
        "id": "view-in-github",
        "colab_type": "text"
      },
      "source": [
        "<a href=\"https://colab.research.google.com/github/Pradip240/IPL-T20-Cricket-Analysis/blob/main/Hrithik__IPL_T20_Cricket_Analysis_Capstone_Project.ipynb\" target=\"_parent\"><img src=\"https://colab.research.google.com/assets/colab-badge.svg\" alt=\"Open In Colab\"/></a>"
      ]
    },
    {
      "cell_type": "markdown",
      "metadata": {
        "id": "Y06xIdG26kRF"
      },
      "source": [
        "## <b> Indian Premier League(IPL) is a professional Twenty20 cricket league in India contested during March or April and May of every year by eight teams representing eight different cities in India. The league was founded by the Board of Control for Cricket in India(BCCI) in 2008. </b>\n",
        "\n",
        "## <b> Explore and analyze the data to discover results and statistics for different teams playing in IPL. </b>"
      ]
    },
    {
      "cell_type": "code",
      "metadata": {
        "id": "dByMsuzT8Tnw"
      },
      "source": [
        "#import packages\r\n",
        "\r\n",
        "import pandas as pd\r\n",
        "import numpy as np\r\n",
        "from ast import literal_eval\r\n",
        "import matplotlib.pyplot as plt\r\n",
        "import seaborn as sea\r\n",
        "from scipy.stats import norm\r\n",
        "%matplotlib inline"
      ],
      "execution_count": 75,
      "outputs": []
    },
    {
      "cell_type": "code",
      "metadata": {
        "colab": {
          "base_uri": "https://localhost:8080/"
        },
        "id": "dtj3u-bqdC7J",
        "outputId": "0f2e7eff-7a9b-4072-a5d1-5285333e8629"
      },
      "source": [
        "from google.colab import drive\n",
        "drive.mount('/content/drive')"
      ],
      "execution_count": 2,
      "outputs": [
        {
          "output_type": "stream",
          "text": [
            "Mounted at /content/drive\n"
          ],
          "name": "stdout"
        }
      ]
    },
    {
      "cell_type": "code",
      "metadata": {
        "id": "Uj_7dDBldFuW"
      },
      "source": [
        "# Load Teamwise home & away data\r\n",
        "working_dir_path1 = '/content/drive/MyDrive/Alma Better Cohort Nilgiri/Capstone Project/Exploratory Data Analysis Capstone Project/IPL T20 Cricket Analysis/IPL Data/teamwise_home_and_away.csv'\r\n",
        "teamwise_home_and_away_df = pd.read_csv(working_dir_path1)\r\n",
        "\r\n",
        "# Load most runs average strikerate data\r\n",
        "working_dir_path2 = '/content/drive/MyDrive/Alma Better Cohort Nilgiri/Capstone Project/Exploratory Data Analysis Capstone Project/IPL T20 Cricket Analysis/IPL Data/most_runs_average_strikerate.csv'\r\n",
        "most_runs_average_strikerate_df = pd.read_csv(working_dir_path2)"
      ],
      "execution_count": 4,
      "outputs": []
    },
    {
      "cell_type": "code",
      "metadata": {
        "colab": {
          "base_uri": "https://localhost:8080/"
        },
        "id": "eOkTp_OKgb_p",
        "outputId": "cf3311b5-24ef-4169-91c3-c00cc54d77ff"
      },
      "source": [
        "teamwise_home_and_away_df.info()"
      ],
      "execution_count": 5,
      "outputs": [
        {
          "output_type": "stream",
          "text": [
            "<class 'pandas.core.frame.DataFrame'>\n",
            "RangeIndex: 14 entries, 0 to 13\n",
            "Data columns (total 7 columns):\n",
            " #   Column               Non-Null Count  Dtype  \n",
            "---  ------               --------------  -----  \n",
            " 0   team                 14 non-null     object \n",
            " 1   home_wins            14 non-null     int64  \n",
            " 2   away_wins            14 non-null     int64  \n",
            " 3   home_matches         14 non-null     int64  \n",
            " 4   away_matches         14 non-null     int64  \n",
            " 5   home_win_percentage  14 non-null     float64\n",
            " 6   away_win_percentage  14 non-null     float64\n",
            "dtypes: float64(2), int64(4), object(1)\n",
            "memory usage: 912.0+ bytes\n"
          ],
          "name": "stdout"
        }
      ]
    },
    {
      "cell_type": "code",
      "metadata": {
        "colab": {
          "base_uri": "https://localhost:8080/",
          "height": 284
        },
        "id": "HYifqeY_hPKD",
        "outputId": "e62a7648-b0ce-480f-d7f7-1dc47f8e160d"
      },
      "source": [
        "teamwise_home_and_away_df.describe()"
      ],
      "execution_count": 6,
      "outputs": [
        {
          "output_type": "execute_result",
          "data": {
            "text/html": [
              "<div>\n",
              "<style scoped>\n",
              "    .dataframe tbody tr th:only-of-type {\n",
              "        vertical-align: middle;\n",
              "    }\n",
              "\n",
              "    .dataframe tbody tr th {\n",
              "        vertical-align: top;\n",
              "    }\n",
              "\n",
              "    .dataframe thead th {\n",
              "        text-align: right;\n",
              "    }\n",
              "</style>\n",
              "<table border=\"1\" class=\"dataframe\">\n",
              "  <thead>\n",
              "    <tr style=\"text-align: right;\">\n",
              "      <th></th>\n",
              "      <th>home_wins</th>\n",
              "      <th>away_wins</th>\n",
              "      <th>home_matches</th>\n",
              "      <th>away_matches</th>\n",
              "      <th>home_win_percentage</th>\n",
              "      <th>away_win_percentage</th>\n",
              "    </tr>\n",
              "  </thead>\n",
              "  <tbody>\n",
              "    <tr>\n",
              "      <th>count</th>\n",
              "      <td>14.000000</td>\n",
              "      <td>14.000000</td>\n",
              "      <td>14.000000</td>\n",
              "      <td>14.000000</td>\n",
              "      <td>14.000000</td>\n",
              "      <td>14.000000</td>\n",
              "    </tr>\n",
              "    <tr>\n",
              "      <th>mean</th>\n",
              "      <td>23.928571</td>\n",
              "      <td>29.428571</td>\n",
              "      <td>53.500000</td>\n",
              "      <td>53.500000</td>\n",
              "      <td>41.737663</td>\n",
              "      <td>55.574283</td>\n",
              "    </tr>\n",
              "    <tr>\n",
              "      <th>std</th>\n",
              "      <td>18.685512</td>\n",
              "      <td>20.816836</td>\n",
              "      <td>35.821674</td>\n",
              "      <td>35.883894</td>\n",
              "      <td>14.095272</td>\n",
              "      <td>13.669679</td>\n",
              "    </tr>\n",
              "    <tr>\n",
              "      <th>min</th>\n",
              "      <td>1.000000</td>\n",
              "      <td>4.000000</td>\n",
              "      <td>6.000000</td>\n",
              "      <td>7.000000</td>\n",
              "      <td>7.142857</td>\n",
              "      <td>23.076923</td>\n",
              "    </tr>\n",
              "    <tr>\n",
              "      <th>25%</th>\n",
              "      <td>5.250000</td>\n",
              "      <td>8.000000</td>\n",
              "      <td>15.500000</td>\n",
              "      <td>18.500000</td>\n",
              "      <td>36.282631</td>\n",
              "      <td>51.625387</td>\n",
              "    </tr>\n",
              "    <tr>\n",
              "      <th>50%</th>\n",
              "      <td>27.000000</td>\n",
              "      <td>35.000000</td>\n",
              "      <td>65.000000</td>\n",
              "      <td>60.000000</td>\n",
              "      <td>41.809353</td>\n",
              "      <td>58.401163</td>\n",
              "    </tr>\n",
              "    <tr>\n",
              "      <th>75%</th>\n",
              "      <td>34.750000</td>\n",
              "      <td>48.250000</td>\n",
              "      <td>84.500000</td>\n",
              "      <td>85.750000</td>\n",
              "      <td>49.404762</td>\n",
              "      <td>62.430556</td>\n",
              "    </tr>\n",
              "    <tr>\n",
              "      <th>max</th>\n",
              "      <td>58.000000</td>\n",
              "      <td>58.000000</td>\n",
              "      <td>101.000000</td>\n",
              "      <td>95.000000</td>\n",
              "      <td>62.500000</td>\n",
              "      <td>75.000000</td>\n",
              "    </tr>\n",
              "  </tbody>\n",
              "</table>\n",
              "</div>"
            ],
            "text/plain": [
              "       home_wins  away_wins  ...  home_win_percentage  away_win_percentage\n",
              "count  14.000000  14.000000  ...            14.000000            14.000000\n",
              "mean   23.928571  29.428571  ...            41.737663            55.574283\n",
              "std    18.685512  20.816836  ...            14.095272            13.669679\n",
              "min     1.000000   4.000000  ...             7.142857            23.076923\n",
              "25%     5.250000   8.000000  ...            36.282631            51.625387\n",
              "50%    27.000000  35.000000  ...            41.809353            58.401163\n",
              "75%    34.750000  48.250000  ...            49.404762            62.430556\n",
              "max    58.000000  58.000000  ...            62.500000            75.000000\n",
              "\n",
              "[8 rows x 6 columns]"
            ]
          },
          "metadata": {
            "tags": []
          },
          "execution_count": 6
        }
      ]
    },
    {
      "cell_type": "code",
      "metadata": {
        "colab": {
          "base_uri": "https://localhost:8080/",
          "height": 462
        },
        "id": "JOC3hyRRhUAI",
        "outputId": "c2ca62d8-c08f-44b0-8f1b-413b87ea61f5"
      },
      "source": [
        "teamwise_home_and_away_df.head(14)"
      ],
      "execution_count": 7,
      "outputs": [
        {
          "output_type": "execute_result",
          "data": {
            "text/html": [
              "<div>\n",
              "<style scoped>\n",
              "    .dataframe tbody tr th:only-of-type {\n",
              "        vertical-align: middle;\n",
              "    }\n",
              "\n",
              "    .dataframe tbody tr th {\n",
              "        vertical-align: top;\n",
              "    }\n",
              "\n",
              "    .dataframe thead th {\n",
              "        text-align: right;\n",
              "    }\n",
              "</style>\n",
              "<table border=\"1\" class=\"dataframe\">\n",
              "  <thead>\n",
              "    <tr style=\"text-align: right;\">\n",
              "      <th></th>\n",
              "      <th>team</th>\n",
              "      <th>home_wins</th>\n",
              "      <th>away_wins</th>\n",
              "      <th>home_matches</th>\n",
              "      <th>away_matches</th>\n",
              "      <th>home_win_percentage</th>\n",
              "      <th>away_win_percentage</th>\n",
              "    </tr>\n",
              "  </thead>\n",
              "  <tbody>\n",
              "    <tr>\n",
              "      <th>0</th>\n",
              "      <td>Rising Pune Supergiant</td>\n",
              "      <td>5</td>\n",
              "      <td>5</td>\n",
              "      <td>8</td>\n",
              "      <td>8</td>\n",
              "      <td>62.500000</td>\n",
              "      <td>62.500000</td>\n",
              "    </tr>\n",
              "    <tr>\n",
              "      <th>1</th>\n",
              "      <td>Mumbai Indians</td>\n",
              "      <td>58</td>\n",
              "      <td>51</td>\n",
              "      <td>101</td>\n",
              "      <td>86</td>\n",
              "      <td>57.425743</td>\n",
              "      <td>59.302326</td>\n",
              "    </tr>\n",
              "    <tr>\n",
              "      <th>2</th>\n",
              "      <td>Chennai Super Kings</td>\n",
              "      <td>51</td>\n",
              "      <td>49</td>\n",
              "      <td>89</td>\n",
              "      <td>75</td>\n",
              "      <td>57.303371</td>\n",
              "      <td>65.333333</td>\n",
              "    </tr>\n",
              "    <tr>\n",
              "      <th>3</th>\n",
              "      <td>Delhi Capitals</td>\n",
              "      <td>3</td>\n",
              "      <td>7</td>\n",
              "      <td>6</td>\n",
              "      <td>10</td>\n",
              "      <td>50.000000</td>\n",
              "      <td>70.000000</td>\n",
              "    </tr>\n",
              "    <tr>\n",
              "      <th>4</th>\n",
              "      <td>Sunrisers Hyderabad</td>\n",
              "      <td>30</td>\n",
              "      <td>28</td>\n",
              "      <td>63</td>\n",
              "      <td>45</td>\n",
              "      <td>47.619048</td>\n",
              "      <td>62.222222</td>\n",
              "    </tr>\n",
              "    <tr>\n",
              "      <th>5</th>\n",
              "      <td>Rajasthan Royals</td>\n",
              "      <td>29</td>\n",
              "      <td>46</td>\n",
              "      <td>67</td>\n",
              "      <td>80</td>\n",
              "      <td>43.283582</td>\n",
              "      <td>57.500000</td>\n",
              "    </tr>\n",
              "    <tr>\n",
              "      <th>6</th>\n",
              "      <td>Deccan Chargers</td>\n",
              "      <td>18</td>\n",
              "      <td>11</td>\n",
              "      <td>43</td>\n",
              "      <td>32</td>\n",
              "      <td>41.860465</td>\n",
              "      <td>34.375000</td>\n",
              "    </tr>\n",
              "    <tr>\n",
              "      <th>7</th>\n",
              "      <td>Kings XI Punjab</td>\n",
              "      <td>38</td>\n",
              "      <td>44</td>\n",
              "      <td>91</td>\n",
              "      <td>85</td>\n",
              "      <td>41.758242</td>\n",
              "      <td>51.764706</td>\n",
              "    </tr>\n",
              "    <tr>\n",
              "      <th>8</th>\n",
              "      <td>Royal Challengers Bangalore</td>\n",
              "      <td>35</td>\n",
              "      <td>49</td>\n",
              "      <td>85</td>\n",
              "      <td>95</td>\n",
              "      <td>41.176471</td>\n",
              "      <td>51.578947</td>\n",
              "    </tr>\n",
              "    <tr>\n",
              "      <th>9</th>\n",
              "      <td>Kolkata Knight Riders</td>\n",
              "      <td>34</td>\n",
              "      <td>58</td>\n",
              "      <td>83</td>\n",
              "      <td>95</td>\n",
              "      <td>40.963855</td>\n",
              "      <td>61.052632</td>\n",
              "    </tr>\n",
              "    <tr>\n",
              "      <th>10</th>\n",
              "      <td>Delhi Daredevils</td>\n",
              "      <td>25</td>\n",
              "      <td>42</td>\n",
              "      <td>72</td>\n",
              "      <td>89</td>\n",
              "      <td>34.722222</td>\n",
              "      <td>47.191011</td>\n",
              "    </tr>\n",
              "    <tr>\n",
              "      <th>11</th>\n",
              "      <td>Pune Warriors</td>\n",
              "      <td>6</td>\n",
              "      <td>6</td>\n",
              "      <td>20</td>\n",
              "      <td>26</td>\n",
              "      <td>30.000000</td>\n",
              "      <td>23.076923</td>\n",
              "    </tr>\n",
              "    <tr>\n",
              "      <th>12</th>\n",
              "      <td>Kochi Tuskers Kerala</td>\n",
              "      <td>2</td>\n",
              "      <td>4</td>\n",
              "      <td>7</td>\n",
              "      <td>7</td>\n",
              "      <td>28.571429</td>\n",
              "      <td>57.142857</td>\n",
              "    </tr>\n",
              "    <tr>\n",
              "      <th>13</th>\n",
              "      <td>Gujarat Lions</td>\n",
              "      <td>1</td>\n",
              "      <td>12</td>\n",
              "      <td>14</td>\n",
              "      <td>16</td>\n",
              "      <td>7.142857</td>\n",
              "      <td>75.000000</td>\n",
              "    </tr>\n",
              "  </tbody>\n",
              "</table>\n",
              "</div>"
            ],
            "text/plain": [
              "                           team  ...  away_win_percentage\n",
              "0        Rising Pune Supergiant  ...            62.500000\n",
              "1                Mumbai Indians  ...            59.302326\n",
              "2           Chennai Super Kings  ...            65.333333\n",
              "3                Delhi Capitals  ...            70.000000\n",
              "4           Sunrisers Hyderabad  ...            62.222222\n",
              "5              Rajasthan Royals  ...            57.500000\n",
              "6               Deccan Chargers  ...            34.375000\n",
              "7               Kings XI Punjab  ...            51.764706\n",
              "8   Royal Challengers Bangalore  ...            51.578947\n",
              "9         Kolkata Knight Riders  ...            61.052632\n",
              "10             Delhi Daredevils  ...            47.191011\n",
              "11                Pune Warriors  ...            23.076923\n",
              "12         Kochi Tuskers Kerala  ...            57.142857\n",
              "13                Gujarat Lions  ...            75.000000\n",
              "\n",
              "[14 rows x 7 columns]"
            ]
          },
          "metadata": {
            "tags": []
          },
          "execution_count": 7
        }
      ]
    },
    {
      "cell_type": "code",
      "metadata": {
        "id": "R9-3EkEFprtJ"
      },
      "source": [
        "team = teamwise_home_and_away_df['team'].loc[0:13]"
      ],
      "execution_count": 8,
      "outputs": []
    },
    {
      "cell_type": "code",
      "metadata": {
        "colab": {
          "base_uri": "https://localhost:8080/"
        },
        "id": "tPfy9ORap2xN",
        "outputId": "f80f9236-3d09-4fd9-d411-2f4054519446"
      },
      "source": [
        "team"
      ],
      "execution_count": 9,
      "outputs": [
        {
          "output_type": "execute_result",
          "data": {
            "text/plain": [
              "0          Rising Pune Supergiant\n",
              "1                  Mumbai Indians\n",
              "2             Chennai Super Kings\n",
              "3                  Delhi Capitals\n",
              "4             Sunrisers Hyderabad\n",
              "5                Rajasthan Royals\n",
              "6                 Deccan Chargers\n",
              "7                 Kings XI Punjab\n",
              "8     Royal Challengers Bangalore\n",
              "9           Kolkata Knight Riders\n",
              "10               Delhi Daredevils\n",
              "11                  Pune Warriors\n",
              "12           Kochi Tuskers Kerala\n",
              "13                  Gujarat Lions\n",
              "Name: team, dtype: object"
            ]
          },
          "metadata": {
            "tags": []
          },
          "execution_count": 9
        }
      ]
    },
    {
      "cell_type": "code",
      "metadata": {
        "id": "B9GnijyKpdXj"
      },
      "source": [
        "length_of_team = np.array(len(team))"
      ],
      "execution_count": 10,
      "outputs": []
    },
    {
      "cell_type": "code",
      "metadata": {
        "colab": {
          "base_uri": "https://localhost:8080/"
        },
        "id": "SZm8bPvKqIim",
        "outputId": "fd48dff5-904e-417f-e1e8-a04563c8c3e0"
      },
      "source": [
        "length_of_team"
      ],
      "execution_count": 11,
      "outputs": [
        {
          "output_type": "execute_result",
          "data": {
            "text/plain": [
              "array(14)"
            ]
          },
          "metadata": {
            "tags": []
          },
          "execution_count": 11
        }
      ]
    },
    {
      "cell_type": "code",
      "metadata": {
        "id": "qkm9_WvFqWpy"
      },
      "source": [
        "home_wins_of_team = teamwise_home_and_away_df['home_wins']"
      ],
      "execution_count": 12,
      "outputs": []
    },
    {
      "cell_type": "code",
      "metadata": {
        "colab": {
          "base_uri": "https://localhost:8080/"
        },
        "id": "qJ2IxwygqgJe",
        "outputId": "7133cf49-d2c0-41b1-f11b-4dc14356ef7a"
      },
      "source": [
        "home_wins_of_team"
      ],
      "execution_count": 13,
      "outputs": [
        {
          "output_type": "execute_result",
          "data": {
            "text/plain": [
              "0      5\n",
              "1     58\n",
              "2     51\n",
              "3      3\n",
              "4     30\n",
              "5     29\n",
              "6     18\n",
              "7     38\n",
              "8     35\n",
              "9     34\n",
              "10    25\n",
              "11     6\n",
              "12     2\n",
              "13     1\n",
              "Name: home_wins, dtype: int64"
            ]
          },
          "metadata": {
            "tags": []
          },
          "execution_count": 13
        }
      ]
    },
    {
      "cell_type": "code",
      "metadata": {
        "id": "2UkzavDGqp_Q"
      },
      "source": [
        "away_wins_of_team = teamwise_home_and_away_df['away_wins']"
      ],
      "execution_count": 14,
      "outputs": []
    },
    {
      "cell_type": "code",
      "metadata": {
        "colab": {
          "base_uri": "https://localhost:8080/"
        },
        "id": "Qk5csSkmqzHj",
        "outputId": "4e26ca7e-db65-4d7f-fde8-b96b65fcbf9a"
      },
      "source": [
        "away_wins_of_team"
      ],
      "execution_count": 15,
      "outputs": [
        {
          "output_type": "execute_result",
          "data": {
            "text/plain": [
              "0      5\n",
              "1     51\n",
              "2     49\n",
              "3      7\n",
              "4     28\n",
              "5     46\n",
              "6     11\n",
              "7     44\n",
              "8     49\n",
              "9     58\n",
              "10    42\n",
              "11     6\n",
              "12     4\n",
              "13    12\n",
              "Name: away_wins, dtype: int64"
            ]
          },
          "metadata": {
            "tags": []
          },
          "execution_count": 15
        }
      ]
    },
    {
      "cell_type": "code",
      "metadata": {
        "colab": {
          "base_uri": "https://localhost:8080/",
          "height": 686
        },
        "id": "TMbMz_JUpdaX",
        "outputId": "e3d89f36-505f-46e8-d0a7-45e5ded13abd"
      },
      "source": [
        "# Create the figure object \r\n",
        "qw = teamwise_home_and_away_df.groupby(['team'])[['home_wins','away_wins']].mean().plot.bar(\r\n",
        "    width=0.8,\r\n",
        "    linewidth= 1,\r\n",
        "    edgecolor='black',\r\n",
        "    figsize = (20,8),\r\n",
        "    fontsize = 10,\r\n",
        ")\r\n",
        "plt.yticks(ticks = [x for x in range(0,70,10)])\r\n",
        "plt.xticks(rotation = 90)\r\n",
        "qw.set_title(\"Teamwise Wins at Home & Away\", fontsize = 30)\r\n",
        "\r\n",
        "# Set x-labels\r\n",
        "qw.set_xlabel(\"Team\", fontsize = 20)\r\n",
        "qw.set_ylabel(\"Wins at Home & Away\", fontsize = 20)"
      ],
      "execution_count": 142,
      "outputs": [
        {
          "output_type": "execute_result",
          "data": {
            "text/plain": [
              "Text(0, 0.5, 'Wins at Home & Away')"
            ]
          },
          "metadata": {
            "tags": []
          },
          "execution_count": 142
        },
        {
          "output_type": "display_data",
          "data": {
            "image/png": "[encoded data removed]",
            "text/plain": [
              "<Figure size 1440x576 with 1 Axes>"
            ]
          },
          "metadata": {
            "tags": [],
            "needs_background": "light"
          }
        }
      ]
    },
    {
      "cell_type": "code",
      "metadata": {
        "id": "umHfqZOS37su"
      },
      "source": [
        ""
      ],
      "execution_count": null,
      "outputs": []
    },
    {
      "cell_type": "code",
      "metadata": {
        "id": "fnC4TD4c310U"
      },
      "source": [
        ""
      ],
      "execution_count": null,
      "outputs": []
    },
    {
      "cell_type": "markdown",
      "metadata": {
        "id": "8nVVWDgUzyXM"
      },
      "source": [
        "#**MOST_RUNS_AVERAGE_STRIKERATE**"
      ]
    },
    {
      "cell_type": "markdown",
      "metadata": {
        "id": "6aVrSqr8pyvu"
      },
      "source": [
        "**MOST RUNS BY THE BATSMAN**"
      ]
    },
    {
      "cell_type": "code",
      "metadata": {
        "colab": {
          "base_uri": "https://localhost:8080/"
        },
        "id": "H-jYBvWz3_Mg",
        "outputId": "ea7e5d6d-f5e0-4a0f-e6b2-1ac7cfc206b1"
      },
      "source": [
        "most_runs_average_strikerate_df.info()"
      ],
      "execution_count": 17,
      "outputs": [
        {
          "output_type": "stream",
          "text": [
            "<class 'pandas.core.frame.DataFrame'>\n",
            "RangeIndex: 516 entries, 0 to 515\n",
            "Data columns (total 6 columns):\n",
            " #   Column         Non-Null Count  Dtype  \n",
            "---  ------         --------------  -----  \n",
            " 0   batsman        516 non-null    object \n",
            " 1   total_runs     516 non-null    int64  \n",
            " 2   out            516 non-null    int64  \n",
            " 3   numberofballs  516 non-null    int64  \n",
            " 4   average        482 non-null    float64\n",
            " 5   strikerate     516 non-null    float64\n",
            "dtypes: float64(2), int64(3), object(1)\n",
            "memory usage: 24.3+ KB\n"
          ],
          "name": "stdout"
        }
      ]
    },
    {
      "cell_type": "code",
      "metadata": {
        "colab": {
          "base_uri": "https://localhost:8080/",
          "height": 284
        },
        "id": "12JOWuHO4DeA",
        "outputId": "16301d74-89e3-4db6-90f0-5e62479530f8"
      },
      "source": [
        "most_runs_average_strikerate_df.describe()"
      ],
      "execution_count": 18,
      "outputs": [
        {
          "output_type": "execute_result",
          "data": {
            "text/html": [
              "<div>\n",
              "<style scoped>\n",
              "    .dataframe tbody tr th:only-of-type {\n",
              "        vertical-align: middle;\n",
              "    }\n",
              "\n",
              "    .dataframe tbody tr th {\n",
              "        vertical-align: top;\n",
              "    }\n",
              "\n",
              "    .dataframe thead th {\n",
              "        text-align: right;\n",
              "    }\n",
              "</style>\n",
              "<table border=\"1\" class=\"dataframe\">\n",
              "  <thead>\n",
              "    <tr style=\"text-align: right;\">\n",
              "      <th></th>\n",
              "      <th>total_runs</th>\n",
              "      <th>out</th>\n",
              "      <th>numberofballs</th>\n",
              "      <th>average</th>\n",
              "      <th>strikerate</th>\n",
              "    </tr>\n",
              "  </thead>\n",
              "  <tbody>\n",
              "    <tr>\n",
              "      <th>count</th>\n",
              "      <td>516.000000</td>\n",
              "      <td>516.000000</td>\n",
              "      <td>516.000000</td>\n",
              "      <td>482.000000</td>\n",
              "      <td>516.000000</td>\n",
              "    </tr>\n",
              "    <tr>\n",
              "      <th>mean</th>\n",
              "      <td>430.625969</td>\n",
              "      <td>17.063953</td>\n",
              "      <td>335.645349</td>\n",
              "      <td>16.355074</td>\n",
              "      <td>105.433442</td>\n",
              "    </tr>\n",
              "    <tr>\n",
              "      <th>std</th>\n",
              "      <td>882.275431</td>\n",
              "      <td>28.124511</td>\n",
              "      <td>663.593679</td>\n",
              "      <td>11.146222</td>\n",
              "      <td>39.633938</td>\n",
              "    </tr>\n",
              "    <tr>\n",
              "      <th>min</th>\n",
              "      <td>0.000000</td>\n",
              "      <td>0.000000</td>\n",
              "      <td>1.000000</td>\n",
              "      <td>0.000000</td>\n",
              "      <td>0.000000</td>\n",
              "    </tr>\n",
              "    <tr>\n",
              "      <th>25%</th>\n",
              "      <td>15.000000</td>\n",
              "      <td>2.000000</td>\n",
              "      <td>17.000000</td>\n",
              "      <td>8.000000</td>\n",
              "      <td>84.362069</td>\n",
              "    </tr>\n",
              "    <tr>\n",
              "      <th>50%</th>\n",
              "      <td>74.000000</td>\n",
              "      <td>5.500000</td>\n",
              "      <td>68.000000</td>\n",
              "      <td>14.607143</td>\n",
              "      <td>111.651584</td>\n",
              "    </tr>\n",
              "    <tr>\n",
              "      <th>75%</th>\n",
              "      <td>340.500000</td>\n",
              "      <td>18.000000</td>\n",
              "      <td>290.000000</td>\n",
              "      <td>23.657609</td>\n",
              "      <td>130.499036</td>\n",
              "    </tr>\n",
              "    <tr>\n",
              "      <th>max</th>\n",
              "      <td>5426.000000</td>\n",
              "      <td>161.000000</td>\n",
              "      <td>4111.000000</td>\n",
              "      <td>88.000000</td>\n",
              "      <td>250.000000</td>\n",
              "    </tr>\n",
              "  </tbody>\n",
              "</table>\n",
              "</div>"
            ],
            "text/plain": [
              "        total_runs         out  numberofballs     average  strikerate\n",
              "count   516.000000  516.000000     516.000000  482.000000  516.000000\n",
              "mean    430.625969   17.063953     335.645349   16.355074  105.433442\n",
              "std     882.275431   28.124511     663.593679   11.146222   39.633938\n",
              "min       0.000000    0.000000       1.000000    0.000000    0.000000\n",
              "25%      15.000000    2.000000      17.000000    8.000000   84.362069\n",
              "50%      74.000000    5.500000      68.000000   14.607143  111.651584\n",
              "75%     340.500000   18.000000     290.000000   23.657609  130.499036\n",
              "max    5426.000000  161.000000    4111.000000   88.000000  250.000000"
            ]
          },
          "metadata": {
            "tags": []
          },
          "execution_count": 18
        }
      ]
    },
    {
      "cell_type": "code",
      "metadata": {
        "colab": {
          "base_uri": "https://localhost:8080/",
          "height": 343
        },
        "id": "b-egqXbf4HGP",
        "outputId": "2ae68e86-2e3c-437b-fafd-79e222feac01"
      },
      "source": [
        "most_runs_average_strikerate_df.head(10)"
      ],
      "execution_count": 20,
      "outputs": [
        {
          "output_type": "execute_result",
          "data": {
            "text/html": [
              "<div>\n",
              "<style scoped>\n",
              "    .dataframe tbody tr th:only-of-type {\n",
              "        vertical-align: middle;\n",
              "    }\n",
              "\n",
              "    .dataframe tbody tr th {\n",
              "        vertical-align: top;\n",
              "    }\n",
              "\n",
              "    .dataframe thead th {\n",
              "        text-align: right;\n",
              "    }\n",
              "</style>\n",
              "<table border=\"1\" class=\"dataframe\">\n",
              "  <thead>\n",
              "    <tr style=\"text-align: right;\">\n",
              "      <th></th>\n",
              "      <th>batsman</th>\n",
              "      <th>total_runs</th>\n",
              "      <th>out</th>\n",
              "      <th>numberofballs</th>\n",
              "      <th>average</th>\n",
              "      <th>strikerate</th>\n",
              "    </tr>\n",
              "  </thead>\n",
              "  <tbody>\n",
              "    <tr>\n",
              "      <th>0</th>\n",
              "      <td>V Kohli</td>\n",
              "      <td>5426</td>\n",
              "      <td>152</td>\n",
              "      <td>4111</td>\n",
              "      <td>35.697368</td>\n",
              "      <td>131.987351</td>\n",
              "    </tr>\n",
              "    <tr>\n",
              "      <th>1</th>\n",
              "      <td>SK Raina</td>\n",
              "      <td>5386</td>\n",
              "      <td>160</td>\n",
              "      <td>3916</td>\n",
              "      <td>33.662500</td>\n",
              "      <td>137.538304</td>\n",
              "    </tr>\n",
              "    <tr>\n",
              "      <th>2</th>\n",
              "      <td>RG Sharma</td>\n",
              "      <td>4902</td>\n",
              "      <td>161</td>\n",
              "      <td>3742</td>\n",
              "      <td>30.447205</td>\n",
              "      <td>130.999466</td>\n",
              "    </tr>\n",
              "    <tr>\n",
              "      <th>3</th>\n",
              "      <td>DA Warner</td>\n",
              "      <td>4717</td>\n",
              "      <td>114</td>\n",
              "      <td>3292</td>\n",
              "      <td>41.377193</td>\n",
              "      <td>143.286756</td>\n",
              "    </tr>\n",
              "    <tr>\n",
              "      <th>4</th>\n",
              "      <td>S Dhawan</td>\n",
              "      <td>4601</td>\n",
              "      <td>137</td>\n",
              "      <td>3665</td>\n",
              "      <td>33.583942</td>\n",
              "      <td>125.538881</td>\n",
              "    </tr>\n",
              "    <tr>\n",
              "      <th>5</th>\n",
              "      <td>CH Gayle</td>\n",
              "      <td>4525</td>\n",
              "      <td>110</td>\n",
              "      <td>2972</td>\n",
              "      <td>41.136364</td>\n",
              "      <td>152.254374</td>\n",
              "    </tr>\n",
              "    <tr>\n",
              "      <th>6</th>\n",
              "      <td>MS Dhoni</td>\n",
              "      <td>4450</td>\n",
              "      <td>118</td>\n",
              "      <td>3206</td>\n",
              "      <td>37.711864</td>\n",
              "      <td>138.802246</td>\n",
              "    </tr>\n",
              "    <tr>\n",
              "      <th>7</th>\n",
              "      <td>RV Uthappa</td>\n",
              "      <td>4420</td>\n",
              "      <td>156</td>\n",
              "      <td>3381</td>\n",
              "      <td>28.333333</td>\n",
              "      <td>130.730553</td>\n",
              "    </tr>\n",
              "    <tr>\n",
              "      <th>8</th>\n",
              "      <td>AB de Villiers</td>\n",
              "      <td>4414</td>\n",
              "      <td>104</td>\n",
              "      <td>2902</td>\n",
              "      <td>42.442308</td>\n",
              "      <td>152.101999</td>\n",
              "    </tr>\n",
              "    <tr>\n",
              "      <th>9</th>\n",
              "      <td>G Gambhir</td>\n",
              "      <td>4219</td>\n",
              "      <td>134</td>\n",
              "      <td>3400</td>\n",
              "      <td>31.485075</td>\n",
              "      <td>124.088235</td>\n",
              "    </tr>\n",
              "  </tbody>\n",
              "</table>\n",
              "</div>"
            ],
            "text/plain": [
              "          batsman  total_runs  out  numberofballs    average  strikerate\n",
              "0         V Kohli        5426  152           4111  35.697368  131.987351\n",
              "1        SK Raina        5386  160           3916  33.662500  137.538304\n",
              "2       RG Sharma        4902  161           3742  30.447205  130.999466\n",
              "3       DA Warner        4717  114           3292  41.377193  143.286756\n",
              "4        S Dhawan        4601  137           3665  33.583942  125.538881\n",
              "5        CH Gayle        4525  110           2972  41.136364  152.254374\n",
              "6        MS Dhoni        4450  118           3206  37.711864  138.802246\n",
              "7      RV Uthappa        4420  156           3381  28.333333  130.730553\n",
              "8  AB de Villiers        4414  104           2902  42.442308  152.101999\n",
              "9       G Gambhir        4219  134           3400  31.485075  124.088235"
            ]
          },
          "metadata": {
            "tags": []
          },
          "execution_count": 20
        }
      ]
    },
    {
      "cell_type": "code",
      "metadata": {
        "id": "IVVDhj0j-3OZ"
      },
      "source": [
        "most_runs_by_batsman = most_runs_average_strikerate_df[\"total_runs\"].loc[:9]"
      ],
      "execution_count": 53,
      "outputs": []
    },
    {
      "cell_type": "code",
      "metadata": {
        "colab": {
          "base_uri": "https://localhost:8080/"
        },
        "id": "0D7lOzAO_FGS",
        "outputId": "0ff1be71-8e85-4602-ca76-c70214d20c70"
      },
      "source": [
        "most_runs_by_batsman"
      ],
      "execution_count": 54,
      "outputs": [
        {
          "output_type": "execute_result",
          "data": {
            "text/plain": [
              "0    5426\n",
              "1    5386\n",
              "2    4902\n",
              "3    4717\n",
              "4    4601\n",
              "5    4525\n",
              "6    4450\n",
              "7    4420\n",
              "8    4414\n",
              "9    4219\n",
              "Name: total_runs, dtype: int64"
            ]
          },
          "metadata": {
            "tags": []
          },
          "execution_count": 54
        }
      ]
    },
    {
      "cell_type": "code",
      "metadata": {
        "id": "jKgSaoGr_QOt"
      },
      "source": [
        "mostruns_batsman_name = most_runs_average_strikerate_df[\"batsman\"].loc[:9]"
      ],
      "execution_count": 55,
      "outputs": []
    },
    {
      "cell_type": "code",
      "metadata": {
        "colab": {
          "base_uri": "https://localhost:8080/"
        },
        "id": "4xOoIXho_a8n",
        "outputId": "fc0d8cb8-7c86-4d4f-f080-2e0736e679b9"
      },
      "source": [
        "mostruns_batsman_name"
      ],
      "execution_count": 56,
      "outputs": [
        {
          "output_type": "execute_result",
          "data": {
            "text/plain": [
              "0           V Kohli\n",
              "1          SK Raina\n",
              "2         RG Sharma\n",
              "3         DA Warner\n",
              "4          S Dhawan\n",
              "5          CH Gayle\n",
              "6          MS Dhoni\n",
              "7        RV Uthappa\n",
              "8    AB de Villiers\n",
              "9         G Gambhir\n",
              "Name: batsman, dtype: object"
            ]
          },
          "metadata": {
            "tags": []
          },
          "execution_count": 56
        }
      ]
    },
    {
      "cell_type": "code",
      "metadata": {
        "colab": {
          "base_uri": "https://localhost:8080/",
          "height": 710
        },
        "id": "RNQ5OulU4KW_",
        "outputId": "ccfdfc86-10bb-44bd-9c9c-1543d515c2e8"
      },
      "source": [
        "# Create the figure object(Most Runs By the Batsman)\r\n",
        "\r\n",
        "plt.rcParams['figure.figsize'] = (15, 10)\r\n",
        "plt.title(\"Most Runs By the Batsman\",fontsize = 20)\r\n",
        "plt.yticks(ticks = [x for x in range(0,6000,500)])\r\n",
        "plt.xticks(rotation = 90)\r\n",
        "plt.xlabel('Players Name',fontsize = 20)\r\n",
        "plt.ylabel('Runs',fontsize = 20)\r\n",
        "plt.bar(mostruns_batsman_name, most_runs_by_batsman, color='DARKTURQUOISE')"
      ],
      "execution_count": 181,
      "outputs": [
        {
          "output_type": "execute_result",
          "data": {
            "text/plain": [
              "<BarContainer object of 10 artists>"
            ]
          },
          "metadata": {
            "tags": []
          },
          "execution_count": 181
        },
        {
          "output_type": "display_data",
          "data": {
            "image/png": "[encoded data removed]",
            "text/plain": [
              "<Figure size 1080x720 with 1 Axes>"
            ]
          },
          "metadata": {
            "tags": [],
            "needs_background": "light"
          }
        }
      ]
    },
    {
      "cell_type": "markdown",
      "metadata": {
        "id": "Z7mn3YrgPT4X"
      },
      "source": [
        "**AVERAGE OF THE BATSMAN**"
      ]
    },
    {
      "cell_type": "code",
      "metadata": {
        "colab": {
          "base_uri": "https://localhost:8080/",
          "height": 722
        },
        "id": "CXy2jDb_m6PJ",
        "outputId": "bd187207-11a3-4b43-8746-c01e6f6bb0c8"
      },
      "source": [
        "batsman_average = pd.DataFrame(most_runs_average_strikerate_df.groupby(['batsman']).agg({'total_runs' : 'sum','out' : 'sum'}))\r\n",
        "batsman_average[\"average\"] = batsman_average['total_runs']/batsman_average['out']\r\n",
        "batsman_average = batsman_average.sort_values(by = 'average',ascending = False)\r\n",
        "batsman_average[batsmen_average['total_runs'] > 2500]"
      ],
      "execution_count": 165,
      "outputs": [
        {
          "output_type": "execute_result",
          "data": {
            "text/html": [
              "<div>\n",
              "<style scoped>\n",
              "    .dataframe tbody tr th:only-of-type {\n",
              "        vertical-align: middle;\n",
              "    }\n",
              "\n",
              "    .dataframe tbody tr th {\n",
              "        vertical-align: top;\n",
              "    }\n",
              "\n",
              "    .dataframe thead th {\n",
              "        text-align: right;\n",
              "    }\n",
              "</style>\n",
              "<table border=\"1\" class=\"dataframe\">\n",
              "  <thead>\n",
              "    <tr style=\"text-align: right;\">\n",
              "      <th></th>\n",
              "      <th>total_runs</th>\n",
              "      <th>out</th>\n",
              "      <th>average</th>\n",
              "    </tr>\n",
              "    <tr>\n",
              "      <th>batsman</th>\n",
              "      <th></th>\n",
              "      <th></th>\n",
              "      <th></th>\n",
              "    </tr>\n",
              "  </thead>\n",
              "  <tbody>\n",
              "    <tr>\n",
              "      <th>AB de Villiers</th>\n",
              "      <td>4414</td>\n",
              "      <td>104</td>\n",
              "      <td>42.442308</td>\n",
              "    </tr>\n",
              "    <tr>\n",
              "      <th>DA Warner</th>\n",
              "      <td>4717</td>\n",
              "      <td>114</td>\n",
              "      <td>41.377193</td>\n",
              "    </tr>\n",
              "    <tr>\n",
              "      <th>CH Gayle</th>\n",
              "      <td>4525</td>\n",
              "      <td>110</td>\n",
              "      <td>41.136364</td>\n",
              "    </tr>\n",
              "    <tr>\n",
              "      <th>MS Dhoni</th>\n",
              "      <td>4450</td>\n",
              "      <td>118</td>\n",
              "      <td>37.711864</td>\n",
              "    </tr>\n",
              "    <tr>\n",
              "      <th>V Kohli</th>\n",
              "      <td>5426</td>\n",
              "      <td>152</td>\n",
              "      <td>35.697368</td>\n",
              "    </tr>\n",
              "    <tr>\n",
              "      <th>SK Raina</th>\n",
              "      <td>5386</td>\n",
              "      <td>160</td>\n",
              "      <td>33.662500</td>\n",
              "    </tr>\n",
              "    <tr>\n",
              "      <th>S Dhawan</th>\n",
              "      <td>4601</td>\n",
              "      <td>137</td>\n",
              "      <td>33.583942</td>\n",
              "    </tr>\n",
              "    <tr>\n",
              "      <th>AM Rahane</th>\n",
              "      <td>3834</td>\n",
              "      <td>117</td>\n",
              "      <td>32.769231</td>\n",
              "    </tr>\n",
              "    <tr>\n",
              "      <th>G Gambhir</th>\n",
              "      <td>4219</td>\n",
              "      <td>134</td>\n",
              "      <td>31.485075</td>\n",
              "    </tr>\n",
              "    <tr>\n",
              "      <th>SR Watson</th>\n",
              "      <td>3590</td>\n",
              "      <td>115</td>\n",
              "      <td>31.217391</td>\n",
              "    </tr>\n",
              "    <tr>\n",
              "      <th>RG Sharma</th>\n",
              "      <td>4902</td>\n",
              "      <td>161</td>\n",
              "      <td>30.447205</td>\n",
              "    </tr>\n",
              "    <tr>\n",
              "      <th>MK Pandey</th>\n",
              "      <td>2855</td>\n",
              "      <td>95</td>\n",
              "      <td>30.052632</td>\n",
              "    </tr>\n",
              "    <tr>\n",
              "      <th>YK Pathan</th>\n",
              "      <td>3222</td>\n",
              "      <td>110</td>\n",
              "      <td>29.290909</td>\n",
              "    </tr>\n",
              "    <tr>\n",
              "      <th>AT Rayudu</th>\n",
              "      <td>3313</td>\n",
              "      <td>114</td>\n",
              "      <td>29.061404</td>\n",
              "    </tr>\n",
              "    <tr>\n",
              "      <th>RV Uthappa</th>\n",
              "      <td>4420</td>\n",
              "      <td>156</td>\n",
              "      <td>28.333333</td>\n",
              "    </tr>\n",
              "    <tr>\n",
              "      <th>M Vijay</th>\n",
              "      <td>2589</td>\n",
              "      <td>93</td>\n",
              "      <td>27.838710</td>\n",
              "    </tr>\n",
              "    <tr>\n",
              "      <th>V Sehwag</th>\n",
              "      <td>2728</td>\n",
              "      <td>98</td>\n",
              "      <td>27.836735</td>\n",
              "    </tr>\n",
              "    <tr>\n",
              "      <th>BB McCullum</th>\n",
              "      <td>2886</td>\n",
              "      <td>106</td>\n",
              "      <td>27.226415</td>\n",
              "    </tr>\n",
              "    <tr>\n",
              "      <th>KA Pollard</th>\n",
              "      <td>2772</td>\n",
              "      <td>102</td>\n",
              "      <td>27.176471</td>\n",
              "    </tr>\n",
              "    <tr>\n",
              "      <th>KD Karthik</th>\n",
              "      <td>3669</td>\n",
              "      <td>138</td>\n",
              "      <td>26.586957</td>\n",
              "    </tr>\n",
              "    <tr>\n",
              "      <th>Yuvraj Singh</th>\n",
              "      <td>2755</td>\n",
              "      <td>109</td>\n",
              "      <td>25.275229</td>\n",
              "    </tr>\n",
              "    <tr>\n",
              "      <th>PA Patel</th>\n",
              "      <td>2864</td>\n",
              "      <td>127</td>\n",
              "      <td>22.551181</td>\n",
              "    </tr>\n",
              "  </tbody>\n",
              "</table>\n",
              "</div>"
            ],
            "text/plain": [
              "                total_runs  out    average\n",
              "batsman                                   \n",
              "AB de Villiers        4414  104  42.442308\n",
              "DA Warner             4717  114  41.377193\n",
              "CH Gayle              4525  110  41.136364\n",
              "MS Dhoni              4450  118  37.711864\n",
              "V Kohli               5426  152  35.697368\n",
              "SK Raina              5386  160  33.662500\n",
              "S Dhawan              4601  137  33.583942\n",
              "AM Rahane             3834  117  32.769231\n",
              "G Gambhir             4219  134  31.485075\n",
              "SR Watson             3590  115  31.217391\n",
              "RG Sharma             4902  161  30.447205\n",
              "MK Pandey             2855   95  30.052632\n",
              "YK Pathan             3222  110  29.290909\n",
              "AT Rayudu             3313  114  29.061404\n",
              "RV Uthappa            4420  156  28.333333\n",
              "M Vijay               2589   93  27.838710\n",
              "V Sehwag              2728   98  27.836735\n",
              "BB McCullum           2886  106  27.226415\n",
              "KA Pollard            2772  102  27.176471\n",
              "KD Karthik            3669  138  26.586957\n",
              "Yuvraj Singh          2755  109  25.275229\n",
              "PA Patel              2864  127  22.551181"
            ]
          },
          "metadata": {
            "tags": []
          },
          "execution_count": 165
        }
      ]
    },
    {
      "cell_type": "code",
      "metadata": {
        "colab": {
          "base_uri": "https://localhost:8080/",
          "height": 583
        },
        "id": "SrGFHy_Zm6Qi",
        "outputId": "97879cfe-2043-4e1c-a4cf-616ad032e8b6"
      },
      "source": [
        "# Create the figure object(Most Average By the Batsman)\r\n",
        "\r\n",
        "plt.rcParams['figure.figsize'] = 20,8\r\n",
        "colors = (np.linspace(0,1,len(batsman_average[batsman_average['total_runs'] > 2500])))\r\n",
        "batsman_average[batsmen_average['total_runs'] > 2500].plot(kind = 'bar',y = \"average\", color = 'grey',legend = '',fontsize = 10)\r\n",
        "plt.title(\"Most Average By the Batsman\",fontsize = 20)\r\n",
        "plt.xlabel('Batsman Name',fontsize = 20)\r\n",
        "plt.ylabel('Average',fontsize = 20)\r\n",
        "plt.show()"
      ],
      "execution_count": 166,
      "outputs": [
        {
          "output_type": "display_data",
          "data": {
            "image/png": "[encoded data removed]",
            "text/plain": [
              "<Figure size 1440x576 with 1 Axes>"
            ]
          },
          "metadata": {
            "tags": [],
            "needs_background": "light"
          }
        }
      ]
    },
    {
      "cell_type": "markdown",
      "metadata": {
        "id": "SYCiVPC8qhTR"
      },
      "source": [
        "**MOST STRIKE RATE BY THE BATSMAN**"
      ]
    },
    {
      "cell_type": "code",
      "metadata": {
        "colab": {
          "base_uri": "https://localhost:8080/",
          "height": 722
        },
        "id": "-pz2uKzHm6UE",
        "outputId": "4c831d58-a874-4cec-c8a6-f7645d19b593"
      },
      "source": [
        "batsman_strikerate = pd.DataFrame(most_runs_average_strikerate_df.groupby(['batsman']).agg({'total_runs' : 'sum','numberofballs' : 'sum'}))\r\n",
        "batsman_strikerate['strikerate'] = batsman_strikerate['total_runs']/batsman_strikerate['numberofballs']*100\r\n",
        "batsman_strikerate = batsman_strikerate.sort_values(by ='strikerate' , ascending = False)\r\n",
        "batsman_strikerate[batsman_strikerate['total_runs'] > 2500]\r\n",
        "# We have taken runs greater then 2500 So that we take a significant amount of runs"
      ],
      "execution_count": 171,
      "outputs": [
        {
          "output_type": "execute_result",
          "data": {
            "text/html": [
              "<div>\n",
              "<style scoped>\n",
              "    .dataframe tbody tr th:only-of-type {\n",
              "        vertical-align: middle;\n",
              "    }\n",
              "\n",
              "    .dataframe tbody tr th {\n",
              "        vertical-align: top;\n",
              "    }\n",
              "\n",
              "    .dataframe thead th {\n",
              "        text-align: right;\n",
              "    }\n",
              "</style>\n",
              "<table border=\"1\" class=\"dataframe\">\n",
              "  <thead>\n",
              "    <tr style=\"text-align: right;\">\n",
              "      <th></th>\n",
              "      <th>total_runs</th>\n",
              "      <th>numberofballs</th>\n",
              "      <th>strikerate</th>\n",
              "    </tr>\n",
              "    <tr>\n",
              "      <th>batsman</th>\n",
              "      <th></th>\n",
              "      <th></th>\n",
              "      <th></th>\n",
              "    </tr>\n",
              "  </thead>\n",
              "  <tbody>\n",
              "    <tr>\n",
              "      <th>V Sehwag</th>\n",
              "      <td>2728</td>\n",
              "      <td>1746</td>\n",
              "      <td>156.242841</td>\n",
              "    </tr>\n",
              "    <tr>\n",
              "      <th>CH Gayle</th>\n",
              "      <td>4525</td>\n",
              "      <td>2972</td>\n",
              "      <td>152.254374</td>\n",
              "    </tr>\n",
              "    <tr>\n",
              "      <th>AB de Villiers</th>\n",
              "      <td>4414</td>\n",
              "      <td>2902</td>\n",
              "      <td>152.101999</td>\n",
              "    </tr>\n",
              "    <tr>\n",
              "      <th>KA Pollard</th>\n",
              "      <td>2772</td>\n",
              "      <td>1879</td>\n",
              "      <td>147.525279</td>\n",
              "    </tr>\n",
              "    <tr>\n",
              "      <th>YK Pathan</th>\n",
              "      <td>3222</td>\n",
              "      <td>2240</td>\n",
              "      <td>143.839286</td>\n",
              "    </tr>\n",
              "    <tr>\n",
              "      <th>DA Warner</th>\n",
              "      <td>4717</td>\n",
              "      <td>3292</td>\n",
              "      <td>143.286756</td>\n",
              "    </tr>\n",
              "    <tr>\n",
              "      <th>SR Watson</th>\n",
              "      <td>3590</td>\n",
              "      <td>2566</td>\n",
              "      <td>139.906469</td>\n",
              "    </tr>\n",
              "    <tr>\n",
              "      <th>MS Dhoni</th>\n",
              "      <td>4450</td>\n",
              "      <td>3206</td>\n",
              "      <td>138.802246</td>\n",
              "    </tr>\n",
              "    <tr>\n",
              "      <th>SK Raina</th>\n",
              "      <td>5386</td>\n",
              "      <td>3916</td>\n",
              "      <td>137.538304</td>\n",
              "    </tr>\n",
              "    <tr>\n",
              "      <th>BB McCullum</th>\n",
              "      <td>2886</td>\n",
              "      <td>2185</td>\n",
              "      <td>132.082380</td>\n",
              "    </tr>\n",
              "    <tr>\n",
              "      <th>V Kohli</th>\n",
              "      <td>5426</td>\n",
              "      <td>4111</td>\n",
              "      <td>131.987351</td>\n",
              "    </tr>\n",
              "    <tr>\n",
              "      <th>RG Sharma</th>\n",
              "      <td>4902</td>\n",
              "      <td>3742</td>\n",
              "      <td>130.999466</td>\n",
              "    </tr>\n",
              "    <tr>\n",
              "      <th>RV Uthappa</th>\n",
              "      <td>4420</td>\n",
              "      <td>3381</td>\n",
              "      <td>130.730553</td>\n",
              "    </tr>\n",
              "    <tr>\n",
              "      <th>KD Karthik</th>\n",
              "      <td>3669</td>\n",
              "      <td>2813</td>\n",
              "      <td>130.430146</td>\n",
              "    </tr>\n",
              "    <tr>\n",
              "      <th>Yuvraj Singh</th>\n",
              "      <td>2755</td>\n",
              "      <td>2121</td>\n",
              "      <td>129.891561</td>\n",
              "    </tr>\n",
              "    <tr>\n",
              "      <th>AT Rayudu</th>\n",
              "      <td>3313</td>\n",
              "      <td>2616</td>\n",
              "      <td>126.643731</td>\n",
              "    </tr>\n",
              "    <tr>\n",
              "      <th>S Dhawan</th>\n",
              "      <td>4601</td>\n",
              "      <td>3665</td>\n",
              "      <td>125.538881</td>\n",
              "    </tr>\n",
              "    <tr>\n",
              "      <th>G Gambhir</th>\n",
              "      <td>4219</td>\n",
              "      <td>3400</td>\n",
              "      <td>124.088235</td>\n",
              "    </tr>\n",
              "    <tr>\n",
              "      <th>M Vijay</th>\n",
              "      <td>2589</td>\n",
              "      <td>2104</td>\n",
              "      <td>123.051331</td>\n",
              "    </tr>\n",
              "    <tr>\n",
              "      <th>AM Rahane</th>\n",
              "      <td>3834</td>\n",
              "      <td>3133</td>\n",
              "      <td>122.374721</td>\n",
              "    </tr>\n",
              "    <tr>\n",
              "      <th>PA Patel</th>\n",
              "      <td>2864</td>\n",
              "      <td>2352</td>\n",
              "      <td>121.768707</td>\n",
              "    </tr>\n",
              "    <tr>\n",
              "      <th>MK Pandey</th>\n",
              "      <td>2855</td>\n",
              "      <td>2352</td>\n",
              "      <td>121.386054</td>\n",
              "    </tr>\n",
              "  </tbody>\n",
              "</table>\n",
              "</div>"
            ],
            "text/plain": [
              "                total_runs  numberofballs  strikerate\n",
              "batsman                                              \n",
              "V Sehwag              2728           1746  156.242841\n",
              "CH Gayle              4525           2972  152.254374\n",
              "AB de Villiers        4414           2902  152.101999\n",
              "KA Pollard            2772           1879  147.525279\n",
              "YK Pathan             3222           2240  143.839286\n",
              "DA Warner             4717           3292  143.286756\n",
              "SR Watson             3590           2566  139.906469\n",
              "MS Dhoni              4450           3206  138.802246\n",
              "SK Raina              5386           3916  137.538304\n",
              "BB McCullum           2886           2185  132.082380\n",
              "V Kohli               5426           4111  131.987351\n",
              "RG Sharma             4902           3742  130.999466\n",
              "RV Uthappa            4420           3381  130.730553\n",
              "KD Karthik            3669           2813  130.430146\n",
              "Yuvraj Singh          2755           2121  129.891561\n",
              "AT Rayudu             3313           2616  126.643731\n",
              "S Dhawan              4601           3665  125.538881\n",
              "G Gambhir             4219           3400  124.088235\n",
              "M Vijay               2589           2104  123.051331\n",
              "AM Rahane             3834           3133  122.374721\n",
              "PA Patel              2864           2352  121.768707\n",
              "MK Pandey             2855           2352  121.386054"
            ]
          },
          "metadata": {
            "tags": []
          },
          "execution_count": 171
        }
      ]
    },
    {
      "cell_type": "code",
      "metadata": {
        "colab": {
          "base_uri": "https://localhost:8080/",
          "height": 692
        },
        "id": "fZCBpvgGm6Vo",
        "outputId": "c404d264-a657-4b39-8ea3-3b5dd2b15779"
      },
      "source": [
        "## Create the figure object(Most Strikerate By the Batsman)\r\n",
        "\r\n",
        "plt.rcParams['figure.figsize'] = 20,10\r\n",
        "colors = (np.linspace(0,1,len(batsman_strikerate[batsman_strikerate['total_runs'] > 2500])))\r\n",
        "batsman_strikerate[batsman_strikerate['total_runs'] > 2500].plot(kind = 'bar',y = \"strikerate\", color = 'orange',legend = '',fontsize = 10)\r\n",
        "plt.title(\"Most Strikerate By the Batsman\",fontsize = 20)\r\n",
        "plt.xlabel('Batsman Name',fontsize = 20)\r\n",
        "plt.ylabel('Strike Rate',fontsize = 20)\r\n",
        "plt.show()\r\n"
      ],
      "execution_count": 180,
      "outputs": [
        {
          "output_type": "display_data",
          "data": {
            "image/png": "[encoded data removed]",
            "text/plain": [
              "<Figure size 1440x720 with 1 Axes>"
            ]
          },
          "metadata": {
            "tags": [],
            "needs_background": "light"
          }
        }
      ]
    },
    {
      "cell_type": "code",
      "metadata": {
        "id": "UwQryrT5yGWf"
      },
      "source": [
        ""
      ],
      "execution_count": null,
      "outputs": []
    }
  ]
}