{
  "nbformat": 4,
  "nbformat_minor": 0,
  "metadata": {
    "kernelspec": {
      "display_name": "Python 3",
      "language": "python",
      "name": "python3"
    },
    "language_info": {
      "codemirror_mode": {
        "name": "ipython",
        "version": 3
      },
      "file_extension": ".py",
      "mimetype": "text/x-python",
      "name": "python",
      "nbconvert_exporter": "python",
      "pygments_lexer": "ipython3",
      "version": "3.6.6"
    },
    "colab": {
      "name": "Pradip IPL T20 Cricket Analysis - Capstone Project.ipynb",
      "provenance": [],
      "collapsed_sections": [],
      "include_colab_link": true
    }
  },
  "cells": [
    {
      "cell_type": "markdown",
      "metadata": {
        "id": "view-in-github",
        "colab_type": "text"
      },
      "source": [
        "<a href=\"https://colab.research.google.com/github/Pradip240/IPL-T20-Cricket-Analysis/blob/main/Pradip_IPL_T20_Cricket_Analysis_Capstone_Project.ipynb\" target=\"_parent\"><img src=\"https://colab.research.google.com/assets/colab-badge.svg\" alt=\"Open In Colab\"/></a>"
      ]
    },
    {
      "cell_type": "markdown",
      "metadata": {
        "id": "Y06xIdG26kRF"
      },
      "source": [
        "## <b> Indian Premier League(IPL) is a professional Twenty20 cricket league in India contested during March or April and May of every year by eight teams representing eight different cities in India. The league was founded by the Board of Control for Cricket in India(BCCI) in 2008. </b>\n",
        "\n",
        "## <b> Explore and analyze the data to discover results and statistics for different teams playing in IPL. </b>"
      ]
    },
    {
      "cell_type": "markdown",
      "metadata": {
        "id": "Q5g_IHLwzOBq"
      },
      "source": [
        "# What is IPL?\r\n",
        "\r\n",
        "It is a shortened format of cricket. At the professional level, it was introduced by the England and Wales Cricket Board (ECB) in 2003 for the inter-county competition. In a Twenty20 game, the two teams have a single innings each, which is restricted to a maximum of 20 overs.\r\n",
        "\r\n",
        "Twenty20 is one of the three current forms of cricket recognised by the International Cricket Council (ICC) as being at the highest international or domestic level.\r\n",
        "\r\n",
        "A typical Twenty20 game is completed in about three hours, with each innings lasting around 90 minutes and an official 10-minute break between the innings. This is much shorter than previous forms of the game, and is closer to the timespan of other popular team sports. It was introduced to create a fast-paced game that would be attractive to spectators at the ground and viewers on television\r\n",
        "\r\n",
        "In 2010, the IPL became the first sporting event in the world to be broadcast live on YouTube\r\n",
        "\r\n",
        "Lets, Explore what features the data is containing."
      ]
    },
    {
      "cell_type": "code",
      "metadata": {
        "id": "dByMsuzT8Tnw"
      },
      "source": [
        "import pandas as pd\r\n",
        "import matplotlib.pyplot as plt\r\n",
        "import seaborn as sns\r\n",
        "import numpy as np\r\n",
        "from scipy.stats import norm\r\n",
        "from matplotlib import rcParams\r\n",
        "%matplotlib inline"
      ],
      "execution_count": 39,
      "outputs": []
    },
    {
      "cell_type": "code",
      "metadata": {
        "colab": {
          "base_uri": "https://localhost:8080/"
        },
        "id": "1VW6cLEKZRzH",
        "outputId": "a10499e9-1b68-4211-c06d-064753528a58"
      },
      "source": [
        "from google.colab import drive\n",
        "drive.mount('/content/drive')"
      ],
      "execution_count": 1,
      "outputs": [
        {
          "output_type": "stream",
          "text": [
            "Mounted at /content/drive\n"
          ],
          "name": "stdout"
        }
      ]
    },
    {
      "cell_type": "code",
      "metadata": {
        "id": "cGOofv-jZT7a"
      },
      "source": [
        "# Input file path \r\n",
        "path = '/content/drive/MyDrive/Capstone Project/'\r\n",
        "# individual data frame\r\n",
        "players_df = pd.read_excel(path + 'Players.xlsx')\r\n",
        "deliveries_df = pd.read_csv(path + 'deliveries.csv')\r\n",
        "mathches_df = pd.read_csv(path + 'matches.csv')\r\n",
        "teams_df = pd.read_csv(path + 'teams.csv')\r\n",
        "most_runs_average_strikerate_df = pd.read_csv(path + 'most_runs_average_strikerate.csv')\r\n",
        "teamwise_home_and_away_df = pd.read_csv(path + 'teamwise_home_and_away.csv')"
      ],
      "execution_count": 3,
      "outputs": []
    },
    {
      "cell_type": "markdown",
      "metadata": {
        "id": "vzShUedPqMkz"
      },
      "source": [
        "# Players from different Country\r\n",
        "\r\n",
        "IPL teams have players selected from different countries.\r\n",
        "\r\n",
        "Lets explore players from which countries are included in IPL"
      ]
    },
    {
      "cell_type": "code",
      "metadata": {
        "colab": {
          "base_uri": "https://localhost:8080/",
          "height": 479
        },
        "id": "P2fBs9E7Unhm",
        "outputId": "69328a7e-52d8-4c42-f5ff-a1ffe74d91df"
      },
      "source": [
        "player_country_data = players_df.groupby('Country').count()\r\n",
        "rcParams['figure.figsize'] = 13,6\r\n",
        "ax = sns.barplot(player_country_data.index, player_country_data['Player_Name'])\r\n",
        "ax.set_title('Players from different Country')"
      ],
      "execution_count": 52,
      "outputs": [
        {
          "output_type": "stream",
          "text": [
            "/usr/local/lib/python3.7/dist-packages/seaborn/_decorators.py:43: FutureWarning: Pass the following variables as keyword args: x, y. From version 0.12, the only valid positional argument will be `data`, and passing other arguments without an explicit keyword will result in an error or misinterpretation.\n",
            "  FutureWarning\n"
          ],
          "name": "stderr"
        },
        {
          "output_type": "execute_result",
          "data": {
            "text/plain": [
              "Text(0.5, 1.0, 'Players from different Country')"
            ]
          },
          "metadata": {
            "tags": []
          },
          "execution_count": 52
        },
        {
          "output_type": "display_data",
          "data": {
            "image/png": "[encoded data removed]",
            "text/plain": [
              "<Figure size 936x432 with 1 Axes>"
            ]
          },
          "metadata": {
            "tags": [],
            "needs_background": "light"
          }
        }
      ]
    },
    {
      "cell_type": "code",
      "metadata": {
        "id": "JPB-eFmjrIM5"
      },
      "source": [
        ""
      ],
      "execution_count": null,
      "outputs": []
    },
    {
      "cell_type": "code",
      "metadata": {
        "id": "DPEsbiw5rIJ7"
      },
      "source": [
        ""
      ],
      "execution_count": null,
      "outputs": []
    },
    {
      "cell_type": "code",
      "metadata": {
        "id": "n07yB2f2rIGZ"
      },
      "source": [
        ""
      ],
      "execution_count": null,
      "outputs": []
    },
    {
      "cell_type": "code",
      "metadata": {
        "id": "1bGK2CMgrICb"
      },
      "source": [
        ""
      ],
      "execution_count": null,
      "outputs": []
    },
    {
      "cell_type": "code",
      "metadata": {
        "id": "O1r3HPabrH-z"
      },
      "source": [
        ""
      ],
      "execution_count": null,
      "outputs": []
    },
    {
      "cell_type": "code",
      "metadata": {
        "id": "jTnIrznwrH79"
      },
      "source": [
        ""
      ],
      "execution_count": null,
      "outputs": []
    },
    {
      "cell_type": "code",
      "metadata": {
        "colab": {
          "base_uri": "https://localhost:8080/",
          "height": 206
        },
        "id": "SZDSYiKgrH40",
        "outputId": "36ffba37-c6f9-478a-c538-3345f23b8116"
      },
      "source": [
        "players_df.head()"
      ],
      "execution_count": 54,
      "outputs": [
        {
          "output_type": "execute_result",
          "data": {
            "text/html": [
              "<div>\n",
              "<style scoped>\n",
              "    .dataframe tbody tr th:only-of-type {\n",
              "        vertical-align: middle;\n",
              "    }\n",
              "\n",
              "    .dataframe tbody tr th {\n",
              "        vertical-align: top;\n",
              "    }\n",
              "\n",
              "    .dataframe thead th {\n",
              "        text-align: right;\n",
              "    }\n",
              "</style>\n",
              "<table border=\"1\" class=\"dataframe\">\n",
              "  <thead>\n",
              "    <tr style=\"text-align: right;\">\n",
              "      <th></th>\n",
              "      <th>Player_Name</th>\n",
              "      <th>DOB</th>\n",
              "      <th>Batting_Hand</th>\n",
              "      <th>Bowling_Skill</th>\n",
              "      <th>Country</th>\n",
              "    </tr>\n",
              "  </thead>\n",
              "  <tbody>\n",
              "    <tr>\n",
              "      <th>0</th>\n",
              "      <td>A Ashish Reddy</td>\n",
              "      <td>1991-02-24</td>\n",
              "      <td>Right_Hand</td>\n",
              "      <td>Right-arm medium</td>\n",
              "      <td>India</td>\n",
              "    </tr>\n",
              "    <tr>\n",
              "      <th>1</th>\n",
              "      <td>A Chandila</td>\n",
              "      <td>1983-12-05</td>\n",
              "      <td>Right_Hand</td>\n",
              "      <td>Right-arm offbreak</td>\n",
              "      <td>India</td>\n",
              "    </tr>\n",
              "    <tr>\n",
              "      <th>2</th>\n",
              "      <td>A Chopra</td>\n",
              "      <td>1977-09-19</td>\n",
              "      <td>Right_Hand</td>\n",
              "      <td>Right-arm offbreak</td>\n",
              "      <td>India</td>\n",
              "    </tr>\n",
              "    <tr>\n",
              "      <th>3</th>\n",
              "      <td>A Choudhary</td>\n",
              "      <td>NaT</td>\n",
              "      <td>Right_hand</td>\n",
              "      <td>Left-arm fast-medium</td>\n",
              "      <td>NaN</td>\n",
              "    </tr>\n",
              "    <tr>\n",
              "      <th>4</th>\n",
              "      <td>A Dananjaya</td>\n",
              "      <td>NaT</td>\n",
              "      <td>Right_Hand</td>\n",
              "      <td>Right-arm offbreak</td>\n",
              "      <td>NaN</td>\n",
              "    </tr>\n",
              "  </tbody>\n",
              "</table>\n",
              "</div>"
            ],
            "text/plain": [
              "      Player_Name        DOB Batting_Hand         Bowling_Skill Country\n",
              "0  A Ashish Reddy 1991-02-24   Right_Hand      Right-arm medium   India\n",
              "1      A Chandila 1983-12-05   Right_Hand    Right-arm offbreak   India\n",
              "2        A Chopra 1977-09-19   Right_Hand    Right-arm offbreak   India\n",
              "3     A Choudhary        NaT   Right_hand  Left-arm fast-medium     NaN\n",
              "4     A Dananjaya        NaT   Right_Hand    Right-arm offbreak     NaN"
            ]
          },
          "metadata": {
            "tags": []
          },
          "execution_count": 54
        }
      ]
    },
    {
      "cell_type": "code",
      "metadata": {
        "id": "jC_96N36rH17"
      },
      "source": [
        ""
      ],
      "execution_count": null,
      "outputs": []
    },
    {
      "cell_type": "code",
      "metadata": {
        "id": "ndL1UA3kbdrc"
      },
      "source": [
        "deliveries_df.head()"
      ],
      "execution_count": null,
      "outputs": []
    },
    {
      "cell_type": "code",
      "metadata": {
        "id": "567FfD7obyEQ"
      },
      "source": [
        "mathches_df.head()"
      ],
      "execution_count": null,
      "outputs": []
    },
    {
      "cell_type": "code",
      "metadata": {
        "id": "f1CPV5pJeVfT"
      },
      "source": [
        "teams_df"
      ],
      "execution_count": null,
      "outputs": []
    },
    {
      "cell_type": "code",
      "metadata": {
        "id": "PzvkD1aAeem3"
      },
      "source": [
        "most_runs_average_strikerate_df.head()"
      ],
      "execution_count": null,
      "outputs": []
    },
    {
      "cell_type": "code",
      "metadata": {
        "id": "YctF5otjejOp"
      },
      "source": [
        "teamwise_home_and_away_df.head()"
      ],
      "execution_count": null,
      "outputs": []
    },
    {
      "cell_type": "code",
      "metadata": {
        "id": "AliBpxFyespP"
      },
      "source": [
        ""
      ],
      "execution_count": null,
      "outputs": []
    }
  ]
}