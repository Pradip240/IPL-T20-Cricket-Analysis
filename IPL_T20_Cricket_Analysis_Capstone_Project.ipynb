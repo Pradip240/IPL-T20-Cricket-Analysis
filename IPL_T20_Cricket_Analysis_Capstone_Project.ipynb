{
  "nbformat": 4,
  "nbformat_minor": 0,
  "metadata": {
    "kernelspec": {
      "display_name": "Python 3",
      "language": "python",
      "name": "python3"
    },
    "language_info": {
      "codemirror_mode": {
        "name": "ipython",
        "version": 3
      },
      "file_extension": ".py",
      "mimetype": "text/x-python",
      "name": "python",
      "nbconvert_exporter": "python",
      "pygments_lexer": "ipython3",
      "version": "3.6.6"
    },
    "colab": {
      "name": " IPL T20 Cricket Analysis - Capstone Project.ipynb",
      "provenance": [],
      "collapsed_sections": [],
      "include_colab_link": true
    }
  },
  "cells": [
    {
      "cell_type": "markdown",
      "metadata": {
        "id": "view-in-github",
        "colab_type": "text"
      },
      "source": [
        "<a href=\"https://colab.research.google.com/github/Pradip240/IPL-T20-Cricket-Analysis/blob/main/IPL_T20_Cricket_Analysis_Capstone_Project.ipynb\" target=\"_parent\"><img src=\"https://colab.research.google.com/assets/colab-badge.svg\" alt=\"Open In Colab\"/></a>"
      ]
    },
    {
      "cell_type": "markdown",
      "metadata": {
        "id": "Y06xIdG26kRF"
      },
      "source": [
        "## <b> Indian Premier League(IPL) is a professional Twenty20 cricket league in India contested during March or April and May of every year by eight teams representing eight different cities in India. The league was founded by the Board of Control for Cricket in India(BCCI) in 2008. </b>\n",
        "\n",
        "## <b> Explore and analyze the data to discover results and statistics for different teams playing in IPL. </b>"
      ]
    },
    {
      "cell_type": "markdown",
      "metadata": {
        "id": "Q5g_IHLwzOBq"
      },
      "source": [
        "# What is IPL?\r\n",
        "\r\n",
        "It is a shortened format of cricket. At the professional level, it was introduced by the England and Wales Cricket Board (ECB) in 2003 for the inter-county competition. In a Twenty20 game, the two teams have a single innings each, which is restricted to a maximum of 20 overs.\r\n",
        "\r\n",
        "Twenty20 is one of the three current forms of cricket recognised by the International Cricket Council (ICC) as being at the highest international or domestic level.\r\n",
        "\r\n",
        "A typical Twenty20 game is completed in about three hours, with each innings lasting around 90 minutes and an official 10-minute break between the innings. This is much shorter than previous forms of the game, and is closer to the timespan of other popular team sports. It was introduced to create a fast-paced game that would be attractive to spectators at the ground and viewers on television\r\n",
        "\r\n",
        "In 2010, the IPL became the first sporting event in the world to be broadcast live on YouTube\r\n",
        "\r\n",
        "Lets, Explore what features the data is containing."
      ]
    },
    {
      "cell_type": "markdown",
      "metadata": {
        "id": "IOSJ5m9Moch_"
      },
      "source": [
        "#Let's load and explore the dataset"
      ]
    },
    {
      "cell_type": "code",
      "metadata": {
        "id": "sjtdRcDIoZK_",
        "colab": {
          "base_uri": "https://localhost:8080/"
        },
        "outputId": "3d481093-9485-4335-bf92-db9f18b16d5f"
      },
      "source": [
        "from google.colab import drive\r\n",
        "drive.mount('/content/drive')"
      ],
      "execution_count": 2,
      "outputs": [
        {
          "output_type": "stream",
          "text": [
            "Mounted at /content/drive\n"
          ],
          "name": "stdout"
        }
      ]
    },
    {
      "cell_type": "code",
      "metadata": {
        "id": "KCYeY9Ssojen"
      },
      "source": [
        "#Importing the libraries.\r\n",
        "import numpy as np\r\n",
        "import pandas as pd\r\n",
        "import matplotlib.pyplot as plt\r\n",
        "%matplotlib inline\r\n",
        "import seaborn as sns"
      ],
      "execution_count": 3,
      "outputs": []
    },
    {
      "cell_type": "code",
      "metadata": {
        "id": "3lE52E9GojcC"
      },
      "source": [
        "file_path = '/content/drive/MyDrive/AlmaBetter Data Science/1. PYTHON/CAPSTONE PROJECT/IPL Data/'\r\n",
        "ipl_df = pd.read_csv(file_path + 'matches.csv')\r\n",
        "ipl_df1 = pd.read_excel(file_path + 'Players.xlsx')\r\n",
        "ipl_df2 = pd.read_csv(file_path + 'deliveries.csv')\r\n",
        "ipl_df3 = pd.read_csv(file_path + 'teams.csv')\r\n",
        "ipl_df4 = pd.read_csv(file_path + 'most_runs_average_strikerate.csv')\r\n",
        "ipl_df5 = pd.read_csv(file_path + 'teamwise_home_and_away.csv')"
      ],
      "execution_count": 4,
      "outputs": []
    },
    {
      "cell_type": "code",
      "metadata": {
        "id": "wcOIPMUdojZF"
      },
      "source": [
        "#Checking the shape of multiple datasets\r\n",
        "df_ipl=[ipl_df.shape, ipl_df1.shape, ipl_df2.shape, ipl_df3.shape, ipl_df4.shape, ipl_df5.shape]\r\n",
        "df_ipl\r\n"
      ],
      "execution_count": null,
      "outputs": []
    },
    {
      "cell_type": "markdown",
      "metadata": {
        "id": "2R_Fte-upKmR"
      },
      "source": [
        "##So what can we expect from the multiple IPL datasets?\r\n",
        "###The datasets are:\r\n",
        "####1.matches.csv\r\n",
        "####2.Players.xlsx\r\n",
        "####3.deliveries.csv\r\n",
        "####4.teams.csv\r\n",
        "####5.most_runs_average_strikerate.csv\r\n",
        "####6.teamwise_home_and_away.csv\r\n",
        "####In order to understand our data, we can look at each variable and try to understand their meaning and relevance to this problem.\r\n",
        "####The datsets consists of multiple observations & columns. Let's go ahead & get familiar with the columns."
      ]
    },
    {
      "cell_type": "markdown",
      "metadata": {
        "id": "fwo22R9fpgos"
      },
      "source": [
        "##Cleaning the dataset"
      ]
    },
    {
      "cell_type": "markdown",
      "metadata": {
        "id": "WGRtIE9lpi8h"
      },
      "source": [
        "##From matches dataset we have:-\r\n",
        "####**ID:** Basically the IPL match ID.\r\n",
        "####**Season:** The IPL season, which in our dataset if from season 2008 - season 2019\r\n",
        "####**City:**The cities where the IPL matches were played.\r\n",
        "####**Date:** The date on which the matches were played or held.\r\n",
        "####**Team1 & Team2:** The teams participated in the IPL matches since 2008.\r\n",
        "####**Toss_winner:** The team that won the toss.\r\n",
        "####**Toss_decision:** The decision taken by the toss winning team either to 'Bat' or 'Field' first.\r\n",
        "####**Result:** The result column consists of (normal, tie, no result) of the match.\r\n",
        "####**Dl_applied:** The column consists the numerical values (0 or 1) which indicates whether the Duckworth-Lewis method was applied or not.\r\n",
        "####**Winner:** Winner of the respective match.\r\n",
        "####**Win_by_runs:** The runs by which the team batting first won.\r\n",
        "####**Win_by_wickets:** The wickets by which the team batting second won.\r\n",
        "####**Player_of_the_match:** The player who performed exceptionally good in the match.\r\n",
        "####**Venue:** The venue where the match was hosted.\r\n",
        "####**Umpire1 & Umpire2:** Two on-field umpires during the match.\r\n",
        "####**Umpire3:** Basically the third Umpire."
      ]
    },
    {
      "cell_type": "markdown",
      "metadata": {
        "id": "rPFKit89q4hG"
      },
      "source": [
        "##Matches Dataset"
      ]
    },
    {
      "cell_type": "code",
      "metadata": {
        "id": "mqqNpQwbojWd"
      },
      "source": [
        "#Checking the first five observations of matches dataset\r\n",
        "matches=ipl_df.head()\r\n",
        "matches"
      ],
      "execution_count": null,
      "outputs": []
    },
    {
      "cell_type": "code",
      "metadata": {
        "id": "wIYK9-NWojTt"
      },
      "source": [
        "ipl_df.info()"
      ],
      "execution_count": null,
      "outputs": []
    },
    {
      "cell_type": "code",
      "metadata": {
        "id": "WmdDbF_HojQ4"
      },
      "source": [
        "#Checking for the null values in the data\r\n",
        "missing_val = ipl_df.isnull()\r\n",
        "missing_val"
      ],
      "execution_count": null,
      "outputs": []
    },
    {
      "cell_type": "code",
      "metadata": {
        "id": "a0ZF1R2GojOX"
      },
      "source": [
        "#suming up the null values together\r\n",
        "ipl_df.isnull().sum()"
      ],
      "execution_count": null,
      "outputs": []
    },
    {
      "cell_type": "code",
      "metadata": {
        "id": "qVYDbDL7ojLi"
      },
      "source": [
        "#Plotting the heatmap for the missing values in the matches dataset\r\n",
        "plt.figure(figsize=(20,15))\r\n",
        "sns.heatmap(missing_val)"
      ],
      "execution_count": null,
      "outputs": []
    },
    {
      "cell_type": "code",
      "metadata": {
        "id": "Fsf1EuK7ojIt"
      },
      "source": [
        "#Filling up the numerical missing values\r\n",
        "filling_na = ipl_df.fillna(ipl_df.mean(axis=0))"
      ],
      "execution_count": null,
      "outputs": []
    },
    {
      "cell_type": "code",
      "metadata": {
        "id": "MXJ-kexhojGF"
      },
      "source": [
        "filled_val = filling_na.isnull()"
      ],
      "execution_count": null,
      "outputs": []
    },
    {
      "cell_type": "code",
      "metadata": {
        "id": "9XIgACEnojDN"
      },
      "source": [
        "#Plotting the heatmap after filling up the missing numerical values\r\n",
        "plt.figure(figsize=(10,10))\r\n",
        "sns.heatmap(filled_val)"
      ],
      "execution_count": null,
      "outputs": []
    },
    {
      "cell_type": "code",
      "metadata": {
        "id": "SgTy1ONKojA1"
      },
      "source": [
        "#Filling up the categorical missing values\r\n",
        "filling_na_categorical = ipl_df.fillna(ipl_df.mode().iloc[0])"
      ],
      "execution_count": null,
      "outputs": []
    },
    {
      "cell_type": "code",
      "metadata": {
        "id": "640qH7V1oi-F"
      },
      "source": [
        "filling_na_categorical.isnull().sum()"
      ],
      "execution_count": null,
      "outputs": []
    },
    {
      "cell_type": "code",
      "metadata": {
        "id": "r8d_5iCIoi7W"
      },
      "source": [
        "filled_val1 = filling_na_categorical.isnull()"
      ],
      "execution_count": null,
      "outputs": []
    },
    {
      "cell_type": "code",
      "metadata": {
        "id": "axzrAQ1joi1_"
      },
      "source": [
        "#Plotting the heatmap after filling up the missing categorical values\r\n",
        "plt.figure(figsize=(10,10))\r\n",
        "sns.heatmap(filled_val1)"
      ],
      "execution_count": null,
      "outputs": []
    },
    {
      "cell_type": "markdown",
      "metadata": {
        "id": "qhLMnyPDsxEs"
      },
      "source": [
        "#Players Dataset"
      ]
    },
    {
      "cell_type": "markdown",
      "metadata": {
        "id": "mHR1TAxms35e"
      },
      "source": [
        "##From the players dataset:-(rows 556, columns 5)\r\n",
        "####*It consists of following columns- player_name, DOB, Batting_skill, Bowling_skill & Country."
      ]
    },
    {
      "cell_type": "code",
      "metadata": {
        "id": "HOUzdPg7oiz9"
      },
      "source": [
        "#Checking the first five observations of players dataset\r\n",
        "players = ipl_df1.head()\r\n",
        "players"
      ],
      "execution_count": null,
      "outputs": []
    },
    {
      "cell_type": "code",
      "metadata": {
        "id": "JqjcHx_DoiuO"
      },
      "source": [
        "ipl_df1.info()"
      ],
      "execution_count": null,
      "outputs": []
    },
    {
      "cell_type": "code",
      "metadata": {
        "id": "q_cq3LIQtG7g"
      },
      "source": [
        "#Suming up all the missing values\r\n",
        "ipl_df1.isnull().sum()\r\n",
        "\r\n",
        "#As we can see all the missing values are categorical"
      ],
      "execution_count": null,
      "outputs": []
    },
    {
      "cell_type": "code",
      "metadata": {
        "id": "JdEkkfxqtG5H"
      },
      "source": [
        "show = ipl_df1.isnull()"
      ],
      "execution_count": null,
      "outputs": []
    },
    {
      "cell_type": "code",
      "metadata": {
        "id": "Qg6P-2FJtG2g"
      },
      "source": [
        "#Plotting the heatmap for the missing values in the players dataset\r\n",
        "plt.figure(figsize=(10,10))\r\n",
        "sns.heatmap(show)"
      ],
      "execution_count": null,
      "outputs": []
    },
    {
      "cell_type": "code",
      "metadata": {
        "id": "EtZIg978tGzx"
      },
      "source": [
        "#Filling up the caetgorical missing values\r\n",
        "filling_na_cat1 = ipl_df1.fillna(ipl_df1.mode().iloc[0])"
      ],
      "execution_count": null,
      "outputs": []
    },
    {
      "cell_type": "code",
      "metadata": {
        "id": "CPzLm_xFtGxV"
      },
      "source": [
        "show1 = filling_na_cat1.isnull()"
      ],
      "execution_count": null,
      "outputs": []
    },
    {
      "cell_type": "code",
      "metadata": {
        "id": "KpzM58wNtGuZ"
      },
      "source": [
        "#Plotting the heatmap after filling up the missing categorical values\r\n",
        "plt.figure(figsize=(10,10))\r\n",
        "sns.heatmap(show1)"
      ],
      "execution_count": null,
      "outputs": []
    },
    {
      "cell_type": "markdown",
      "metadata": {
        "id": "cX_tAa-TtgG_"
      },
      "source": [
        "#Deliveries Dataset"
      ]
    },
    {
      "cell_type": "markdown",
      "metadata": {
        "id": "lwgu5NLztlzb"
      },
      "source": [
        "##From the deliveries dataset:-(rows 179078, columns 21)\r\n",
        "####*It consists of following columns- match_id, inning, batting_team, bowling_team, over, ball, batsman, non_striker, bowler, is_super_over, wide_runs, bye_runs, legbye_runs, noball_runs, penalty_runs, batsman_runs, extra_runs, total_runs, player_dismissed, dismissal_kind, fielder."
      ]
    },
    {
      "cell_type": "code",
      "metadata": {
        "id": "dycmyoYctGra"
      },
      "source": [
        "#Checking the first five observations of deliveries dataset\r\n",
        "ipl_df2.head()"
      ],
      "execution_count": null,
      "outputs": []
    },
    {
      "cell_type": "code",
      "metadata": {
        "id": "vCQzbDJrtu-R"
      },
      "source": [
        "ipl_df2.info()"
      ],
      "execution_count": null,
      "outputs": []
    },
    {
      "cell_type": "code",
      "metadata": {
        "id": "cr1JSzbptu7v"
      },
      "source": [
        "#Summing up the null values\r\n",
        "ipl_df2.isnull().sum()"
      ],
      "execution_count": null,
      "outputs": []
    },
    {
      "cell_type": "code",
      "metadata": {
        "id": "zdUGU8ektu53"
      },
      "source": [
        "show2 = ipl_df2.isnull()"
      ],
      "execution_count": null,
      "outputs": []
    },
    {
      "cell_type": "code",
      "metadata": {
        "id": "pzGzd4Uptu21"
      },
      "source": [
        "#Plotting the heatmap for the missing values in the deliveries dataset\r\n",
        "plt.figure(figsize=(10,10))\r\n",
        "sns.heatmap(show2)"
      ],
      "execution_count": null,
      "outputs": []
    },
    {
      "cell_type": "markdown",
      "metadata": {
        "id": "pasb1rZ1vllp"
      },
      "source": [
        "##As seen above the fielder column has significant amount of missing values, so here we can drop the filelder column."
      ]
    },
    {
      "cell_type": "code",
      "metadata": {
        "id": "gL8DxXrhtuzo"
      },
      "source": [
        "#Dropping the fielder column\r\n",
        "ipl_df2 = ipl_df2.drop(columns =['fielder'], axis=1)"
      ],
      "execution_count": null,
      "outputs": []
    },
    {
      "cell_type": "code",
      "metadata": {
        "id": "xwjj5rwstuxB"
      },
      "source": [
        "ipl_df2.head()"
      ],
      "execution_count": null,
      "outputs": []
    },
    {
      "cell_type": "code",
      "metadata": {
        "id": "Mm_xGAsptuuN"
      },
      "source": [
        "show3 = ipl_df2.isnull()"
      ],
      "execution_count": null,
      "outputs": []
    },
    {
      "cell_type": "code",
      "metadata": {
        "id": "QyOqZ14MwBsw"
      },
      "source": [
        "#Plotting the heatmap after dropping off the fielder column\r\n",
        "plt.figure(figsize=(10,10))\r\n",
        "sns.heatmap(show3)"
      ],
      "execution_count": null,
      "outputs": []
    },
    {
      "cell_type": "markdown",
      "metadata": {
        "id": "8q1kPgHSwGM1"
      },
      "source": [
        "#Teams Dataset"
      ]
    },
    {
      "cell_type": "markdown",
      "metadata": {
        "id": "U9hKo6EZwLH5"
      },
      "source": [
        "##From teams dataset:- (rows 15, column 1)\r\n",
        "####*Just has the team names in it."
      ]
    },
    {
      "cell_type": "code",
      "metadata": {
        "id": "BreIUd1JwBp-"
      },
      "source": [
        "#Checking the first ten observations of teams dataset\r\n",
        "ipl_df3.head(10)"
      ],
      "execution_count": null,
      "outputs": []
    },
    {
      "cell_type": "code",
      "metadata": {
        "id": "uD2ERI-TwBnd"
      },
      "source": [
        "ipl_df3.info()"
      ],
      "execution_count": null,
      "outputs": []
    },
    {
      "cell_type": "code",
      "metadata": {
        "id": "GzeXsF3YwBkf"
      },
      "source": [
        "ipl_df3.isnull().sum()"
      ],
      "execution_count": null,
      "outputs": []
    },
    {
      "cell_type": "markdown",
      "metadata": {
        "id": "cp0VFtgowdNy"
      },
      "source": [
        "##Teams dataset has 'zero' null values."
      ]
    },
    {
      "cell_type": "markdown",
      "metadata": {
        "id": "s7GU5XwPwdE6"
      },
      "source": [
        "#Most_runs_average_strikerate Dataset\r\n"
      ]
    },
    {
      "cell_type": "markdown",
      "metadata": {
        "id": "4OWD6DjGwnEK"
      },
      "source": [
        "##From most_runs_average_strikerate dataset:- (rows 516, columns 6)\r\n",
        "####*It consists of following columns- batsman, total_runs, out,\tnumberofballs, average, strikerate."
      ]
    },
    {
      "cell_type": "code",
      "metadata": {
        "id": "vVtiZ345wBiB"
      },
      "source": [
        "#Checking the first ten observations of most_runs_average_strikerate dataset\r\n",
        "ipl_df4.head(10)"
      ],
      "execution_count": null,
      "outputs": []
    },
    {
      "cell_type": "code",
      "metadata": {
        "id": "WK2HQZO8wBfa"
      },
      "source": [
        "ipl_df4.info()"
      ],
      "execution_count": null,
      "outputs": []
    },
    {
      "cell_type": "code",
      "metadata": {
        "id": "413yFI7dwBc4"
      },
      "source": [
        "ipl_df4.isnull().sum()"
      ],
      "execution_count": null,
      "outputs": []
    },
    {
      "cell_type": "code",
      "metadata": {
        "id": "JZqBRa6twBXd"
      },
      "source": [
        "show4 = ipl_df4.isnull()"
      ],
      "execution_count": null,
      "outputs": []
    },
    {
      "cell_type": "code",
      "metadata": {
        "id": "PhtIsxtaw91q"
      },
      "source": [
        "#Plotting the heatmap for the missing values in the dataset\r\n",
        "plt.figure(figsize=(10,5))\r\n",
        "sns.heatmap(show4)"
      ],
      "execution_count": null,
      "outputs": []
    },
    {
      "cell_type": "code",
      "metadata": {
        "id": "h-Te2G4Iw9yX"
      },
      "source": [
        "#Treating the missing numerical values\r\n",
        "filling_num = ipl_df4.fillna(ipl_df4.mean(axis=0))"
      ],
      "execution_count": null,
      "outputs": []
    },
    {
      "cell_type": "code",
      "metadata": {
        "id": "vJAFQ99qw9u7"
      },
      "source": [
        "show5 = filling_num.isnull()"
      ],
      "execution_count": null,
      "outputs": []
    },
    {
      "cell_type": "code",
      "metadata": {
        "id": "QA6jPm5Aw9pT"
      },
      "source": [
        "#Plotting the heatmap for the missing numerical values in the dataset\r\n",
        "plt.figure(figsize=(10,5))\r\n",
        "sns.heatmap(show5)"
      ],
      "execution_count": null,
      "outputs": []
    },
    {
      "cell_type": "markdown",
      "metadata": {
        "id": "m8Qc0h0VxLZ9"
      },
      "source": [
        "#Teamwise_home_and_away Dataset"
      ]
    },
    {
      "cell_type": "markdown",
      "metadata": {
        "id": "kNWeFziIxLUE"
      },
      "source": [
        "##From teamwise_home_and_away datset:- (rows 14, columns 7)\r\n",
        "####*It consists of following columns- team, home_wins, away_wins, home_matches\taway_matches,\thome_win_percentage,\taway_win_percentage."
      ]
    },
    {
      "cell_type": "code",
      "metadata": {
        "id": "PCw8rH2Lw9ll"
      },
      "source": [
        "#Checking the first ten observations of teamwise_home_and_away dataset\r\n",
        "ipl_df5.head(10)"
      ],
      "execution_count": null,
      "outputs": []
    },
    {
      "cell_type": "code",
      "metadata": {
        "id": "9xldDkCXxSsN"
      },
      "source": [
        "ipl_df5.info()"
      ],
      "execution_count": null,
      "outputs": []
    },
    {
      "cell_type": "code",
      "metadata": {
        "id": "M_AX2OilxSp0"
      },
      "source": [
        "ipl_df5.isnull().sum()"
      ],
      "execution_count": null,
      "outputs": []
    },
    {
      "cell_type": "markdown",
      "metadata": {
        "id": "UwVo4MT6xdUr"
      },
      "source": [
        "##The dataset above has no missing values to treat"
      ]
    },
    {
      "cell_type": "markdown",
      "metadata": {
        "id": "FjCkgZh6xig0"
      },
      "source": [
        "##As our dataset has been cleaned, we can now do the in-depth analysis and visualization."
      ]
    }
  ]
}